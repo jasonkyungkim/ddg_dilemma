{
 "cells": [
  {
   "cell_type": "markdown",
   "id": "6c1a7bed-2251-4d61-b79e-2408f640b8d0",
   "metadata": {},
   "source": [
    "# The David De Gea Dilemma: Comparing Goalkeeper Greats Throughout History"
   ]
  },
  {
   "cell_type": "code",
   "execution_count": 668,
   "id": "898ca8d7-80c7-4d36-a4bf-3c39ff93d23f",
   "metadata": {},
   "outputs": [],
   "source": [
    "import numpy as np\n",
    "import pandas as pd\n",
    "import matplotlib.pyplot as plt\n",
    "%matplotlib inline"
   ]
  },
  {
   "cell_type": "markdown",
   "id": "616309e0-07a9-4728-8e8a-7816a4095da2",
   "metadata": {},
   "source": [
    "### June 24th 2023"
   ]
  },
  {
   "cell_type": "markdown",
   "id": "754a074f-7d2a-4dd5-9237-3eee15996e69",
   "metadata": {},
   "source": [
    "##### David De Gea is a goalkeeper for Manchester United, where he has been playing as a starter since 2010. With a controversial question mark looming over his contract situation due to his underwhelming 2022-2023 campaign, a portion of the Mancheter United fanbase are debating if De Gea is worthy of being deemed a United legend. \n",
    "\n",
    "##### Let's inspect some data and assses how De Gea compares to other goalies who are retired and deemed as legends, not just for United but for other major European clubs, namely:\n",
    "\n",
    "1. Peter Schmeichel (Manchester United)\n",
    "2. Edwin van der Sar (Manchester United)\n",
    "3. Petr Cech (Chelsea)\n",
    "4. Iker Casillas (Real Madrid)\n",
    "5. Gianluigi Buffon (Juventus)\n",
    "\n",
    "alongside these active players who have consistently performed at a high level:\n",
    "\n",
    "6. Manuel Neuer (Bayern Munich)\n",
    "7. Alisson Becker (Liverpool)\n",
    "8. Ederson (Manchester City)\n",
    "9. Thibaut Courtois (Real Madrid)\n",
    "\n",
    "and finally with two keepers that have been on United and the fans' radar:\n",
    "\n",
    "10. Diogo Costa (Porto)\n",
    "11. Andre Onana (Inter Milan)"
   ]
  },
  {
   "cell_type": "code",
   "execution_count": 669,
   "id": "be2c69b2-7a40-42e3-b493-82f5bf079c4b",
   "metadata": {},
   "outputs": [],
   "source": [
    "gks = [\"ps\",\"vds\",\"cech\",\"iker\",\"buffon\",\"neuer\",\"alisson\",\"ederson\",\"courtois\",\"ddg\",\"costa\",\"onana\"]\n",
    "full_name = [\"Peter Schmeichel\",\"Edwin Van de Sar\",\"Petr Cech\",\"Iker Casillas\",\"Gianluigi Buffon\",\"Manuel Neuer\",\"Alisson Becker\",\"Ederson\",\"Thibaut Courtois\",\"David De Gea\",\"Diogo Costa\",\"Andre Onana\"]"
   ]
  },
  {
   "cell_type": "markdown",
   "id": "044868c7-bebe-4d3e-90ee-f0c36a011025",
   "metadata": {},
   "source": [
    "## Penalty Kicks (+ shootouts)"
   ]
  },
  {
   "cell_type": "markdown",
   "id": "b342d52b-8cbe-4c7e-ac77-8f6525f29f29",
   "metadata": {},
   "source": [
    "#### Let's first observe how De Gea compares to these keepers regarding penalty kicks."
   ]
  },
  {
   "cell_type": "code",
   "execution_count": 670,
   "id": "a61e9708-43c9-460b-a24a-4c9ab3f3df95",
   "metadata": {},
   "outputs": [],
   "source": [
    "pk_save_rate = [3/37,11/60,17/85,23/100,39/124,22/76,14/33,7/54,14/66,14/74,11/34,7/33]"
   ]
  },
  {
   "cell_type": "markdown",
   "id": "25ca83b0-f6e9-45b4-9e4a-d01a6d1b5e16",
   "metadata": {},
   "source": [
    "**data source**: Transfer Market (e.g. [Onana](https://www.transfermarkt.us/andre-onana/elfmeterstatistik/spieler/234509))"
   ]
  },
  {
   "cell_type": "code",
   "execution_count": 671,
   "id": "e01f44ee-a21d-4bea-b336-ec1559378a81",
   "metadata": {},
   "outputs": [
    {
     "data": {
      "application/vnd.plotly.v1+json": {
       "config": {
        "plotlyServerURL": "https://plot.ly"
       },
       "data": [
        {
         "hovertext": [
          "Peter Schmeichel",
          "Edwin Van de Sar",
          "Petr Cech",
          "Iker Casillas",
          "Gianluigi Buffon",
          "Manuel Neuer",
          "Alisson Becker",
          "Ederson",
          "Thibaut Courtois",
          "David De Gea",
          "Diogo Costa",
          "Andre Onana"
         ],
         "marker": {
          "color": "rgb(158,202,100)",
          "line": {
           "color": "rgb(8,48,107)",
           "width": 1.5
          }
         },
         "opacity": 0.6,
         "type": "bar",
         "x": [
          "ps",
          "vds",
          "cech",
          "iker",
          "buffon",
          "neuer",
          "alisson",
          "ederson",
          "courtois",
          "ddg",
          "costa",
          "onana"
         ],
         "y": [
          0.08108108108108109,
          0.18333333333333332,
          0.2,
          0.23,
          0.31451612903225806,
          0.2894736842105263,
          0.42424242424242425,
          0.12962962962962962,
          0.21212121212121213,
          0.1891891891891892,
          0.3235294117647059,
          0.21212121212121213
         ]
        }
       ],
       "layout": {
        "autosize": true,
        "template": {
         "data": {
          "bar": [
           {
            "error_x": {
             "color": "#2a3f5f"
            },
            "error_y": {
             "color": "#2a3f5f"
            },
            "marker": {
             "line": {
              "color": "#E5ECF6",
              "width": 0.5
             },
             "pattern": {
              "fillmode": "overlay",
              "size": 10,
              "solidity": 0.2
             }
            },
            "type": "bar"
           }
          ],
          "barpolar": [
           {
            "marker": {
             "line": {
              "color": "#E5ECF6",
              "width": 0.5
             },
             "pattern": {
              "fillmode": "overlay",
              "size": 10,
              "solidity": 0.2
             }
            },
            "type": "barpolar"
           }
          ],
          "carpet": [
           {
            "aaxis": {
             "endlinecolor": "#2a3f5f",
             "gridcolor": "white",
             "linecolor": "white",
             "minorgridcolor": "white",
             "startlinecolor": "#2a3f5f"
            },
            "baxis": {
             "endlinecolor": "#2a3f5f",
             "gridcolor": "white",
             "linecolor": "white",
             "minorgridcolor": "white",
             "startlinecolor": "#2a3f5f"
            },
            "type": "carpet"
           }
          ],
          "choropleth": [
           {
            "colorbar": {
             "outlinewidth": 0,
             "ticks": ""
            },
            "type": "choropleth"
           }
          ],
          "contour": [
           {
            "colorbar": {
             "outlinewidth": 0,
             "ticks": ""
            },
            "colorscale": [
             [
              0,
              "#0d0887"
             ],
             [
              0.1111111111111111,
              "#46039f"
             ],
             [
              0.2222222222222222,
              "#7201a8"
             ],
             [
              0.3333333333333333,
              "#9c179e"
             ],
             [
              0.4444444444444444,
              "#bd3786"
             ],
             [
              0.5555555555555556,
              "#d8576b"
             ],
             [
              0.6666666666666666,
              "#ed7953"
             ],
             [
              0.7777777777777778,
              "#fb9f3a"
             ],
             [
              0.8888888888888888,
              "#fdca26"
             ],
             [
              1,
              "#f0f921"
             ]
            ],
            "type": "contour"
           }
          ],
          "contourcarpet": [
           {
            "colorbar": {
             "outlinewidth": 0,
             "ticks": ""
            },
            "type": "contourcarpet"
           }
          ],
          "heatmap": [
           {
            "colorbar": {
             "outlinewidth": 0,
             "ticks": ""
            },
            "colorscale": [
             [
              0,
              "#0d0887"
             ],
             [
              0.1111111111111111,
              "#46039f"
             ],
             [
              0.2222222222222222,
              "#7201a8"
             ],
             [
              0.3333333333333333,
              "#9c179e"
             ],
             [
              0.4444444444444444,
              "#bd3786"
             ],
             [
              0.5555555555555556,
              "#d8576b"
             ],
             [
              0.6666666666666666,
              "#ed7953"
             ],
             [
              0.7777777777777778,
              "#fb9f3a"
             ],
             [
              0.8888888888888888,
              "#fdca26"
             ],
             [
              1,
              "#f0f921"
             ]
            ],
            "type": "heatmap"
           }
          ],
          "heatmapgl": [
           {
            "colorbar": {
             "outlinewidth": 0,
             "ticks": ""
            },
            "colorscale": [
             [
              0,
              "#0d0887"
             ],
             [
              0.1111111111111111,
              "#46039f"
             ],
             [
              0.2222222222222222,
              "#7201a8"
             ],
             [
              0.3333333333333333,
              "#9c179e"
             ],
             [
              0.4444444444444444,
              "#bd3786"
             ],
             [
              0.5555555555555556,
              "#d8576b"
             ],
             [
              0.6666666666666666,
              "#ed7953"
             ],
             [
              0.7777777777777778,
              "#fb9f3a"
             ],
             [
              0.8888888888888888,
              "#fdca26"
             ],
             [
              1,
              "#f0f921"
             ]
            ],
            "type": "heatmapgl"
           }
          ],
          "histogram": [
           {
            "marker": {
             "pattern": {
              "fillmode": "overlay",
              "size": 10,
              "solidity": 0.2
             }
            },
            "type": "histogram"
           }
          ],
          "histogram2d": [
           {
            "colorbar": {
             "outlinewidth": 0,
             "ticks": ""
            },
            "colorscale": [
             [
              0,
              "#0d0887"
             ],
             [
              0.1111111111111111,
              "#46039f"
             ],
             [
              0.2222222222222222,
              "#7201a8"
             ],
             [
              0.3333333333333333,
              "#9c179e"
             ],
             [
              0.4444444444444444,
              "#bd3786"
             ],
             [
              0.5555555555555556,
              "#d8576b"
             ],
             [
              0.6666666666666666,
              "#ed7953"
             ],
             [
              0.7777777777777778,
              "#fb9f3a"
             ],
             [
              0.8888888888888888,
              "#fdca26"
             ],
             [
              1,
              "#f0f921"
             ]
            ],
            "type": "histogram2d"
           }
          ],
          "histogram2dcontour": [
           {
            "colorbar": {
             "outlinewidth": 0,
             "ticks": ""
            },
            "colorscale": [
             [
              0,
              "#0d0887"
             ],
             [
              0.1111111111111111,
              "#46039f"
             ],
             [
              0.2222222222222222,
              "#7201a8"
             ],
             [
              0.3333333333333333,
              "#9c179e"
             ],
             [
              0.4444444444444444,
              "#bd3786"
             ],
             [
              0.5555555555555556,
              "#d8576b"
             ],
             [
              0.6666666666666666,
              "#ed7953"
             ],
             [
              0.7777777777777778,
              "#fb9f3a"
             ],
             [
              0.8888888888888888,
              "#fdca26"
             ],
             [
              1,
              "#f0f921"
             ]
            ],
            "type": "histogram2dcontour"
           }
          ],
          "mesh3d": [
           {
            "colorbar": {
             "outlinewidth": 0,
             "ticks": ""
            },
            "type": "mesh3d"
           }
          ],
          "parcoords": [
           {
            "line": {
             "colorbar": {
              "outlinewidth": 0,
              "ticks": ""
             }
            },
            "type": "parcoords"
           }
          ],
          "pie": [
           {
            "automargin": true,
            "type": "pie"
           }
          ],
          "scatter": [
           {
            "fillpattern": {
             "fillmode": "overlay",
             "size": 10,
             "solidity": 0.2
            },
            "type": "scatter"
           }
          ],
          "scatter3d": [
           {
            "line": {
             "colorbar": {
              "outlinewidth": 0,
              "ticks": ""
             }
            },
            "marker": {
             "colorbar": {
              "outlinewidth": 0,
              "ticks": ""
             }
            },
            "type": "scatter3d"
           }
          ],
          "scattercarpet": [
           {
            "marker": {
             "colorbar": {
              "outlinewidth": 0,
              "ticks": ""
             }
            },
            "type": "scattercarpet"
           }
          ],
          "scattergeo": [
           {
            "marker": {
             "colorbar": {
              "outlinewidth": 0,
              "ticks": ""
             }
            },
            "type": "scattergeo"
           }
          ],
          "scattergl": [
           {
            "marker": {
             "colorbar": {
              "outlinewidth": 0,
              "ticks": ""
             }
            },
            "type": "scattergl"
           }
          ],
          "scattermapbox": [
           {
            "marker": {
             "colorbar": {
              "outlinewidth": 0,
              "ticks": ""
             }
            },
            "type": "scattermapbox"
           }
          ],
          "scatterpolar": [
           {
            "marker": {
             "colorbar": {
              "outlinewidth": 0,
              "ticks": ""
             }
            },
            "type": "scatterpolar"
           }
          ],
          "scatterpolargl": [
           {
            "marker": {
             "colorbar": {
              "outlinewidth": 0,
              "ticks": ""
             }
            },
            "type": "scatterpolargl"
           }
          ],
          "scatterternary": [
           {
            "marker": {
             "colorbar": {
              "outlinewidth": 0,
              "ticks": ""
             }
            },
            "type": "scatterternary"
           }
          ],
          "surface": [
           {
            "colorbar": {
             "outlinewidth": 0,
             "ticks": ""
            },
            "colorscale": [
             [
              0,
              "#0d0887"
             ],
             [
              0.1111111111111111,
              "#46039f"
             ],
             [
              0.2222222222222222,
              "#7201a8"
             ],
             [
              0.3333333333333333,
              "#9c179e"
             ],
             [
              0.4444444444444444,
              "#bd3786"
             ],
             [
              0.5555555555555556,
              "#d8576b"
             ],
             [
              0.6666666666666666,
              "#ed7953"
             ],
             [
              0.7777777777777778,
              "#fb9f3a"
             ],
             [
              0.8888888888888888,
              "#fdca26"
             ],
             [
              1,
              "#f0f921"
             ]
            ],
            "type": "surface"
           }
          ],
          "table": [
           {
            "cells": {
             "fill": {
              "color": "#EBF0F8"
             },
             "line": {
              "color": "white"
             }
            },
            "header": {
             "fill": {
              "color": "#C8D4E3"
             },
             "line": {
              "color": "white"
             }
            },
            "type": "table"
           }
          ]
         },
         "layout": {
          "annotationdefaults": {
           "arrowcolor": "#2a3f5f",
           "arrowhead": 0,
           "arrowwidth": 1
          },
          "autotypenumbers": "strict",
          "coloraxis": {
           "colorbar": {
            "outlinewidth": 0,
            "ticks": ""
           }
          },
          "colorscale": {
           "diverging": [
            [
             0,
             "#8e0152"
            ],
            [
             0.1,
             "#c51b7d"
            ],
            [
             0.2,
             "#de77ae"
            ],
            [
             0.3,
             "#f1b6da"
            ],
            [
             0.4,
             "#fde0ef"
            ],
            [
             0.5,
             "#f7f7f7"
            ],
            [
             0.6,
             "#e6f5d0"
            ],
            [
             0.7,
             "#b8e186"
            ],
            [
             0.8,
             "#7fbc41"
            ],
            [
             0.9,
             "#4d9221"
            ],
            [
             1,
             "#276419"
            ]
           ],
           "sequential": [
            [
             0,
             "#0d0887"
            ],
            [
             0.1111111111111111,
             "#46039f"
            ],
            [
             0.2222222222222222,
             "#7201a8"
            ],
            [
             0.3333333333333333,
             "#9c179e"
            ],
            [
             0.4444444444444444,
             "#bd3786"
            ],
            [
             0.5555555555555556,
             "#d8576b"
            ],
            [
             0.6666666666666666,
             "#ed7953"
            ],
            [
             0.7777777777777778,
             "#fb9f3a"
            ],
            [
             0.8888888888888888,
             "#fdca26"
            ],
            [
             1,
             "#f0f921"
            ]
           ],
           "sequentialminus": [
            [
             0,
             "#0d0887"
            ],
            [
             0.1111111111111111,
             "#46039f"
            ],
            [
             0.2222222222222222,
             "#7201a8"
            ],
            [
             0.3333333333333333,
             "#9c179e"
            ],
            [
             0.4444444444444444,
             "#bd3786"
            ],
            [
             0.5555555555555556,
             "#d8576b"
            ],
            [
             0.6666666666666666,
             "#ed7953"
            ],
            [
             0.7777777777777778,
             "#fb9f3a"
            ],
            [
             0.8888888888888888,
             "#fdca26"
            ],
            [
             1,
             "#f0f921"
            ]
           ]
          },
          "colorway": [
           "#636efa",
           "#EF553B",
           "#00cc96",
           "#ab63fa",
           "#FFA15A",
           "#19d3f3",
           "#FF6692",
           "#B6E880",
           "#FF97FF",
           "#FECB52"
          ],
          "font": {
           "color": "#2a3f5f"
          },
          "geo": {
           "bgcolor": "white",
           "lakecolor": "white",
           "landcolor": "#E5ECF6",
           "showlakes": true,
           "showland": true,
           "subunitcolor": "white"
          },
          "hoverlabel": {
           "align": "left"
          },
          "hovermode": "closest",
          "mapbox": {
           "style": "light"
          },
          "paper_bgcolor": "white",
          "plot_bgcolor": "#E5ECF6",
          "polar": {
           "angularaxis": {
            "gridcolor": "white",
            "linecolor": "white",
            "ticks": ""
           },
           "bgcolor": "#E5ECF6",
           "radialaxis": {
            "gridcolor": "white",
            "linecolor": "white",
            "ticks": ""
           }
          },
          "scene": {
           "xaxis": {
            "backgroundcolor": "#E5ECF6",
            "gridcolor": "white",
            "gridwidth": 2,
            "linecolor": "white",
            "showbackground": true,
            "ticks": "",
            "zerolinecolor": "white"
           },
           "yaxis": {
            "backgroundcolor": "#E5ECF6",
            "gridcolor": "white",
            "gridwidth": 2,
            "linecolor": "white",
            "showbackground": true,
            "ticks": "",
            "zerolinecolor": "white"
           },
           "zaxis": {
            "backgroundcolor": "#E5ECF6",
            "gridcolor": "white",
            "gridwidth": 2,
            "linecolor": "white",
            "showbackground": true,
            "ticks": "",
            "zerolinecolor": "white"
           }
          },
          "shapedefaults": {
           "line": {
            "color": "#2a3f5f"
           }
          },
          "ternary": {
           "aaxis": {
            "gridcolor": "white",
            "linecolor": "white",
            "ticks": ""
           },
           "baxis": {
            "gridcolor": "white",
            "linecolor": "white",
            "ticks": ""
           },
           "bgcolor": "#E5ECF6",
           "caxis": {
            "gridcolor": "white",
            "linecolor": "white",
            "ticks": ""
           }
          },
          "title": {
           "x": 0.05
          },
          "xaxis": {
           "automargin": true,
           "gridcolor": "white",
           "linecolor": "white",
           "ticks": "",
           "title": {
            "standoff": 15
           },
           "zerolinecolor": "white",
           "zerolinewidth": 2
          },
          "yaxis": {
           "automargin": true,
           "gridcolor": "white",
           "linecolor": "white",
           "ticks": "",
           "title": {
            "standoff": 15
           },
           "zerolinecolor": "white",
           "zerolinewidth": 2
          }
         }
        },
        "title": {
         "text": "Penalty Kick Save Rates among top Keepers (all comps, excluding shootouts)"
        },
        "xaxis": {
         "autorange": true,
         "range": [
          -0.5,
          11.5
         ],
         "type": "category"
        },
        "yaxis": {
         "autorange": true,
         "range": [
          0,
          0.4465709728867624
         ],
         "type": "linear"
        }
       }
      },
      "text/html": [
       "<div>                            <div id=\"cb27642d-0a70-4e5e-8324-1eb78948414b\" class=\"plotly-graph-div\" style=\"height:525px; width:100%;\"></div>            <script type=\"text/javascript\">                require([\"plotly\"], function(Plotly) {                    window.PLOTLYENV=window.PLOTLYENV || {};                                    if (document.getElementById(\"cb27642d-0a70-4e5e-8324-1eb78948414b\")) {                    Plotly.newPlot(                        \"cb27642d-0a70-4e5e-8324-1eb78948414b\",                        [{\"hovertext\":[\"Peter Schmeichel\",\"Edwin Van de Sar\",\"Petr Cech\",\"Iker Casillas\",\"Gianluigi Buffon\",\"Manuel Neuer\",\"Alisson Becker\",\"Ederson\",\"Thibaut Courtois\",\"David De Gea\",\"Diogo Costa\",\"Andre Onana\"],\"x\":[\"ps\",\"vds\",\"cech\",\"iker\",\"buffon\",\"neuer\",\"alisson\",\"ederson\",\"courtois\",\"ddg\",\"costa\",\"onana\"],\"y\":[0.08108108108108109,0.18333333333333332,0.2,0.23,0.31451612903225806,0.2894736842105263,0.42424242424242425,0.12962962962962962,0.21212121212121213,0.1891891891891892,0.3235294117647059,0.21212121212121213],\"type\":\"bar\",\"marker\":{\"line\":{\"color\":\"rgb(8,48,107)\",\"width\":1.5},\"color\":\"rgb(158,202,100)\"},\"opacity\":0.6}],                        {\"template\":{\"data\":{\"histogram2dcontour\":[{\"type\":\"histogram2dcontour\",\"colorbar\":{\"outlinewidth\":0,\"ticks\":\"\"},\"colorscale\":[[0.0,\"#0d0887\"],[0.1111111111111111,\"#46039f\"],[0.2222222222222222,\"#7201a8\"],[0.3333333333333333,\"#9c179e\"],[0.4444444444444444,\"#bd3786\"],[0.5555555555555556,\"#d8576b\"],[0.6666666666666666,\"#ed7953\"],[0.7777777777777778,\"#fb9f3a\"],[0.8888888888888888,\"#fdca26\"],[1.0,\"#f0f921\"]]}],\"choropleth\":[{\"type\":\"choropleth\",\"colorbar\":{\"outlinewidth\":0,\"ticks\":\"\"}}],\"histogram2d\":[{\"type\":\"histogram2d\",\"colorbar\":{\"outlinewidth\":0,\"ticks\":\"\"},\"colorscale\":[[0.0,\"#0d0887\"],[0.1111111111111111,\"#46039f\"],[0.2222222222222222,\"#7201a8\"],[0.3333333333333333,\"#9c179e\"],[0.4444444444444444,\"#bd3786\"],[0.5555555555555556,\"#d8576b\"],[0.6666666666666666,\"#ed7953\"],[0.7777777777777778,\"#fb9f3a\"],[0.8888888888888888,\"#fdca26\"],[1.0,\"#f0f921\"]]}],\"heatmap\":[{\"type\":\"heatmap\",\"colorbar\":{\"outlinewidth\":0,\"ticks\":\"\"},\"colorscale\":[[0.0,\"#0d0887\"],[0.1111111111111111,\"#46039f\"],[0.2222222222222222,\"#7201a8\"],[0.3333333333333333,\"#9c179e\"],[0.4444444444444444,\"#bd3786\"],[0.5555555555555556,\"#d8576b\"],[0.6666666666666666,\"#ed7953\"],[0.7777777777777778,\"#fb9f3a\"],[0.8888888888888888,\"#fdca26\"],[1.0,\"#f0f921\"]]}],\"heatmapgl\":[{\"type\":\"heatmapgl\",\"colorbar\":{\"outlinewidth\":0,\"ticks\":\"\"},\"colorscale\":[[0.0,\"#0d0887\"],[0.1111111111111111,\"#46039f\"],[0.2222222222222222,\"#7201a8\"],[0.3333333333333333,\"#9c179e\"],[0.4444444444444444,\"#bd3786\"],[0.5555555555555556,\"#d8576b\"],[0.6666666666666666,\"#ed7953\"],[0.7777777777777778,\"#fb9f3a\"],[0.8888888888888888,\"#fdca26\"],[1.0,\"#f0f921\"]]}],\"contourcarpet\":[{\"type\":\"contourcarpet\",\"colorbar\":{\"outlinewidth\":0,\"ticks\":\"\"}}],\"contour\":[{\"type\":\"contour\",\"colorbar\":{\"outlinewidth\":0,\"ticks\":\"\"},\"colorscale\":[[0.0,\"#0d0887\"],[0.1111111111111111,\"#46039f\"],[0.2222222222222222,\"#7201a8\"],[0.3333333333333333,\"#9c179e\"],[0.4444444444444444,\"#bd3786\"],[0.5555555555555556,\"#d8576b\"],[0.6666666666666666,\"#ed7953\"],[0.7777777777777778,\"#fb9f3a\"],[0.8888888888888888,\"#fdca26\"],[1.0,\"#f0f921\"]]}],\"surface\":[{\"type\":\"surface\",\"colorbar\":{\"outlinewidth\":0,\"ticks\":\"\"},\"colorscale\":[[0.0,\"#0d0887\"],[0.1111111111111111,\"#46039f\"],[0.2222222222222222,\"#7201a8\"],[0.3333333333333333,\"#9c179e\"],[0.4444444444444444,\"#bd3786\"],[0.5555555555555556,\"#d8576b\"],[0.6666666666666666,\"#ed7953\"],[0.7777777777777778,\"#fb9f3a\"],[0.8888888888888888,\"#fdca26\"],[1.0,\"#f0f921\"]]}],\"mesh3d\":[{\"type\":\"mesh3d\",\"colorbar\":{\"outlinewidth\":0,\"ticks\":\"\"}}],\"scatter\":[{\"fillpattern\":{\"fillmode\":\"overlay\",\"size\":10,\"solidity\":0.2},\"type\":\"scatter\"}],\"parcoords\":[{\"type\":\"parcoords\",\"line\":{\"colorbar\":{\"outlinewidth\":0,\"ticks\":\"\"}}}],\"scatterpolargl\":[{\"type\":\"scatterpolargl\",\"marker\":{\"colorbar\":{\"outlinewidth\":0,\"ticks\":\"\"}}}],\"bar\":[{\"error_x\":{\"color\":\"#2a3f5f\"},\"error_y\":{\"color\":\"#2a3f5f\"},\"marker\":{\"line\":{\"color\":\"#E5ECF6\",\"width\":0.5},\"pattern\":{\"fillmode\":\"overlay\",\"size\":10,\"solidity\":0.2}},\"type\":\"bar\"}],\"scattergeo\":[{\"type\":\"scattergeo\",\"marker\":{\"colorbar\":{\"outlinewidth\":0,\"ticks\":\"\"}}}],\"scatterpolar\":[{\"type\":\"scatterpolar\",\"marker\":{\"colorbar\":{\"outlinewidth\":0,\"ticks\":\"\"}}}],\"histogram\":[{\"marker\":{\"pattern\":{\"fillmode\":\"overlay\",\"size\":10,\"solidity\":0.2}},\"type\":\"histogram\"}],\"scattergl\":[{\"type\":\"scattergl\",\"marker\":{\"colorbar\":{\"outlinewidth\":0,\"ticks\":\"\"}}}],\"scatter3d\":[{\"type\":\"scatter3d\",\"line\":{\"colorbar\":{\"outlinewidth\":0,\"ticks\":\"\"}},\"marker\":{\"colorbar\":{\"outlinewidth\":0,\"ticks\":\"\"}}}],\"scattermapbox\":[{\"type\":\"scattermapbox\",\"marker\":{\"colorbar\":{\"outlinewidth\":0,\"ticks\":\"\"}}}],\"scatterternary\":[{\"type\":\"scatterternary\",\"marker\":{\"colorbar\":{\"outlinewidth\":0,\"ticks\":\"\"}}}],\"scattercarpet\":[{\"type\":\"scattercarpet\",\"marker\":{\"colorbar\":{\"outlinewidth\":0,\"ticks\":\"\"}}}],\"carpet\":[{\"aaxis\":{\"endlinecolor\":\"#2a3f5f\",\"gridcolor\":\"white\",\"linecolor\":\"white\",\"minorgridcolor\":\"white\",\"startlinecolor\":\"#2a3f5f\"},\"baxis\":{\"endlinecolor\":\"#2a3f5f\",\"gridcolor\":\"white\",\"linecolor\":\"white\",\"minorgridcolor\":\"white\",\"startlinecolor\":\"#2a3f5f\"},\"type\":\"carpet\"}],\"table\":[{\"cells\":{\"fill\":{\"color\":\"#EBF0F8\"},\"line\":{\"color\":\"white\"}},\"header\":{\"fill\":{\"color\":\"#C8D4E3\"},\"line\":{\"color\":\"white\"}},\"type\":\"table\"}],\"barpolar\":[{\"marker\":{\"line\":{\"color\":\"#E5ECF6\",\"width\":0.5},\"pattern\":{\"fillmode\":\"overlay\",\"size\":10,\"solidity\":0.2}},\"type\":\"barpolar\"}],\"pie\":[{\"automargin\":true,\"type\":\"pie\"}]},\"layout\":{\"autotypenumbers\":\"strict\",\"colorway\":[\"#636efa\",\"#EF553B\",\"#00cc96\",\"#ab63fa\",\"#FFA15A\",\"#19d3f3\",\"#FF6692\",\"#B6E880\",\"#FF97FF\",\"#FECB52\"],\"font\":{\"color\":\"#2a3f5f\"},\"hovermode\":\"closest\",\"hoverlabel\":{\"align\":\"left\"},\"paper_bgcolor\":\"white\",\"plot_bgcolor\":\"#E5ECF6\",\"polar\":{\"bgcolor\":\"#E5ECF6\",\"angularaxis\":{\"gridcolor\":\"white\",\"linecolor\":\"white\",\"ticks\":\"\"},\"radialaxis\":{\"gridcolor\":\"white\",\"linecolor\":\"white\",\"ticks\":\"\"}},\"ternary\":{\"bgcolor\":\"#E5ECF6\",\"aaxis\":{\"gridcolor\":\"white\",\"linecolor\":\"white\",\"ticks\":\"\"},\"baxis\":{\"gridcolor\":\"white\",\"linecolor\":\"white\",\"ticks\":\"\"},\"caxis\":{\"gridcolor\":\"white\",\"linecolor\":\"white\",\"ticks\":\"\"}},\"coloraxis\":{\"colorbar\":{\"outlinewidth\":0,\"ticks\":\"\"}},\"colorscale\":{\"sequential\":[[0.0,\"#0d0887\"],[0.1111111111111111,\"#46039f\"],[0.2222222222222222,\"#7201a8\"],[0.3333333333333333,\"#9c179e\"],[0.4444444444444444,\"#bd3786\"],[0.5555555555555556,\"#d8576b\"],[0.6666666666666666,\"#ed7953\"],[0.7777777777777778,\"#fb9f3a\"],[0.8888888888888888,\"#fdca26\"],[1.0,\"#f0f921\"]],\"sequentialminus\":[[0.0,\"#0d0887\"],[0.1111111111111111,\"#46039f\"],[0.2222222222222222,\"#7201a8\"],[0.3333333333333333,\"#9c179e\"],[0.4444444444444444,\"#bd3786\"],[0.5555555555555556,\"#d8576b\"],[0.6666666666666666,\"#ed7953\"],[0.7777777777777778,\"#fb9f3a\"],[0.8888888888888888,\"#fdca26\"],[1.0,\"#f0f921\"]],\"diverging\":[[0,\"#8e0152\"],[0.1,\"#c51b7d\"],[0.2,\"#de77ae\"],[0.3,\"#f1b6da\"],[0.4,\"#fde0ef\"],[0.5,\"#f7f7f7\"],[0.6,\"#e6f5d0\"],[0.7,\"#b8e186\"],[0.8,\"#7fbc41\"],[0.9,\"#4d9221\"],[1,\"#276419\"]]},\"xaxis\":{\"gridcolor\":\"white\",\"linecolor\":\"white\",\"ticks\":\"\",\"title\":{\"standoff\":15},\"zerolinecolor\":\"white\",\"automargin\":true,\"zerolinewidth\":2},\"yaxis\":{\"gridcolor\":\"white\",\"linecolor\":\"white\",\"ticks\":\"\",\"title\":{\"standoff\":15},\"zerolinecolor\":\"white\",\"automargin\":true,\"zerolinewidth\":2},\"scene\":{\"xaxis\":{\"backgroundcolor\":\"#E5ECF6\",\"gridcolor\":\"white\",\"linecolor\":\"white\",\"showbackground\":true,\"ticks\":\"\",\"zerolinecolor\":\"white\",\"gridwidth\":2},\"yaxis\":{\"backgroundcolor\":\"#E5ECF6\",\"gridcolor\":\"white\",\"linecolor\":\"white\",\"showbackground\":true,\"ticks\":\"\",\"zerolinecolor\":\"white\",\"gridwidth\":2},\"zaxis\":{\"backgroundcolor\":\"#E5ECF6\",\"gridcolor\":\"white\",\"linecolor\":\"white\",\"showbackground\":true,\"ticks\":\"\",\"zerolinecolor\":\"white\",\"gridwidth\":2}},\"shapedefaults\":{\"line\":{\"color\":\"#2a3f5f\"}},\"annotationdefaults\":{\"arrowcolor\":\"#2a3f5f\",\"arrowhead\":0,\"arrowwidth\":1},\"geo\":{\"bgcolor\":\"white\",\"landcolor\":\"#E5ECF6\",\"subunitcolor\":\"white\",\"showland\":true,\"showlakes\":true,\"lakecolor\":\"white\"},\"title\":{\"x\":0.05},\"mapbox\":{\"style\":\"light\"}}},\"title\":{\"text\":\"Penalty Kick Save Rates among top Keepers (all comps, excluding shootouts)\"}},                        {\"responsive\": true}                    ).then(function(){\n",
       "                            \n",
       "var gd = document.getElementById('cb27642d-0a70-4e5e-8324-1eb78948414b');\n",
       "var x = new MutationObserver(function (mutations, observer) {{\n",
       "        var display = window.getComputedStyle(gd).display;\n",
       "        if (!display || display === 'none') {{\n",
       "            console.log([gd, 'removed!']);\n",
       "            Plotly.purge(gd);\n",
       "            observer.disconnect();\n",
       "        }}\n",
       "}});\n",
       "\n",
       "// Listen for the removal of the full notebook cells\n",
       "var notebookContainer = gd.closest('#notebook-container');\n",
       "if (notebookContainer) {{\n",
       "    x.observe(notebookContainer, {childList: true});\n",
       "}}\n",
       "\n",
       "// Listen for the clearing of the current output cell\n",
       "var outputEl = gd.closest('.output');\n",
       "if (outputEl) {{\n",
       "    x.observe(outputEl, {childList: true});\n",
       "}}\n",
       "\n",
       "                        })                };                });            </script>        </div>"
      ]
     },
     "metadata": {},
     "output_type": "display_data"
    }
   ],
   "source": [
    "import plotly.graph_objects as go\n",
    "\n",
    "fig = go.Figure(data=[go.Bar(x=gks, y=pk_save_rate,hovertext=full_name)])\n",
    "# Customize aspect\n",
    "fig.update_traces(marker_color='rgb(158,202,100)', marker_line_color='rgb(8,48,107)',\n",
    "                  marker_line_width=1.5, opacity=0.6)\n",
    "fig.update_layout(title_text='Penalty Kick Save Rates among top Keepers (all comps, excluding shootouts)')\n",
    "fig.show()"
   ]
  },
  {
   "cell_type": "markdown",
   "id": "82d41c41-0f18-4cf2-8251-7d728d332dc8",
   "metadata": {},
   "source": [
    "##### While **De Gea**'s penalty saving record is not necessarily something he can particulalry be proud of, I, as a United fan, find it quite funny how he was better than both van der Sar and Peter Schmeichel, both United legends."
   ]
  },
  {
   "cell_type": "markdown",
   "id": "d37c1068-9689-4bec-bd73-046970ad3862",
   "metadata": {},
   "source": [
    "##### This time, let's try using [KL divergence](https://en.wikipedia.org/wiki/Kullback–Leibler_divergence) to compare this data. KL Divergence, in short, lets us compare two probability distributions by calculating the expectation of the log-odds of two distributions. \n",
    "\n",
    "##### Here, let's assume that, based on historical data, players have an 85% chance of scoring and a 15% chance of missing, partly because I couldn't find the consensus on this statistic after going through some data sources. But it seems like the number is somewhere north of 80 percent, so let's go with 85 percent for the sake of brevity of this presentation. (Also, some data sources set aside another percentage for players completely missing the goal, but let's combine that with GK saving the penalty because it is of my opinion that a player missing in any fashion can be attributed to the keeper. It's a mental game!)\n",
    "\n",
    "##### To that end, our base distribution will be $p_{scored} = .85$ and $p_{saved}=.15$ (the implication being that the average keeper, in the context of PKs, will prevail against the shooter only 15 percent of the time), to which we will compare each goalkeeper's individual penalty kick distribution."
   ]
  },
  {
   "cell_type": "code",
   "execution_count": 672,
   "id": "bdf9c336-7d87-416f-bd41-6905cc95cbcf",
   "metadata": {},
   "outputs": [],
   "source": [
    "p = [.85,.15]"
   ]
  },
  {
   "cell_type": "code",
   "execution_count": 673,
   "id": "68cd908c-ee19-41e8-beec-770896c1802f",
   "metadata": {},
   "outputs": [],
   "source": [
    "import numpy as np\n",
    "\n",
    "def kl_divergence(p, q):\n",
    " return np.sum(p[i] * np.log(p[i]/q[i]) for i in range(len(p)))"
   ]
  },
  {
   "cell_type": "code",
   "execution_count": 674,
   "id": "a6741375-857a-47bf-9c16-fe0b0a0fc174",
   "metadata": {},
   "outputs": [
    {
     "name": "stderr",
     "output_type": "stream",
     "text": [
      "/var/folders/75/hf538pcj7917_ym2sh21yfw00000gn/T/ipykernel_24857/194261871.py:4: DeprecationWarning:\n",
      "\n",
      "Calling np.sum(generator) is deprecated, and in the future will give a different result. Use np.sum(np.fromiter(generator)) or the python sum builtin instead.\n",
      "\n"
     ]
    },
    {
     "data": {
      "application/vnd.plotly.v1+json": {
       "config": {
        "plotlyServerURL": "https://plot.ly"
       },
       "data": [
        {
         "hovertext": [
          "Peter Schmeichel",
          "Edwin Van de Sar",
          "Petr Cech",
          "Iker Casillas",
          "Gianluigi Buffon",
          "Manuel Neuer",
          "Alisson Becker",
          "Ederson",
          "Thibaut Courtois",
          "David De Gea",
          "Diogo Costa",
          "Andre Onana"
         ],
         "marker": {
          "color": "rgb(158,202,100)",
          "line": {
           "color": "rgb(8,48,107)",
           "width": 1.5
          }
         },
         "opacity": 0.6,
         "type": "bar",
         "x": [
          "ps",
          "vds",
          "cech",
          "iker",
          "buffon",
          "neuer",
          "alisson",
          "ederson",
          "courtois",
          "ddg",
          "costa",
          "onana"
         ],
         "y": [
          0.026010535614279975,
          0.0039039301023216615,
          0.00837861767620246,
          0.01990235721709678,
          0.07178466286282988,
          0.05373144489695954,
          0.17516674192672618,
          0.0017629749464367454,
          0.012529893983932568,
          0.005304528067104505,
          0.07879706235063758,
          0.012529893983932568
         ]
        }
       ],
       "layout": {
        "autosize": true,
        "template": {
         "data": {
          "bar": [
           {
            "error_x": {
             "color": "#2a3f5f"
            },
            "error_y": {
             "color": "#2a3f5f"
            },
            "marker": {
             "line": {
              "color": "#E5ECF6",
              "width": 0.5
             },
             "pattern": {
              "fillmode": "overlay",
              "size": 10,
              "solidity": 0.2
             }
            },
            "type": "bar"
           }
          ],
          "barpolar": [
           {
            "marker": {
             "line": {
              "color": "#E5ECF6",
              "width": 0.5
             },
             "pattern": {
              "fillmode": "overlay",
              "size": 10,
              "solidity": 0.2
             }
            },
            "type": "barpolar"
           }
          ],
          "carpet": [
           {
            "aaxis": {
             "endlinecolor": "#2a3f5f",
             "gridcolor": "white",
             "linecolor": "white",
             "minorgridcolor": "white",
             "startlinecolor": "#2a3f5f"
            },
            "baxis": {
             "endlinecolor": "#2a3f5f",
             "gridcolor": "white",
             "linecolor": "white",
             "minorgridcolor": "white",
             "startlinecolor": "#2a3f5f"
            },
            "type": "carpet"
           }
          ],
          "choropleth": [
           {
            "colorbar": {
             "outlinewidth": 0,
             "ticks": ""
            },
            "type": "choropleth"
           }
          ],
          "contour": [
           {
            "colorbar": {
             "outlinewidth": 0,
             "ticks": ""
            },
            "colorscale": [
             [
              0,
              "#0d0887"
             ],
             [
              0.1111111111111111,
              "#46039f"
             ],
             [
              0.2222222222222222,
              "#7201a8"
             ],
             [
              0.3333333333333333,
              "#9c179e"
             ],
             [
              0.4444444444444444,
              "#bd3786"
             ],
             [
              0.5555555555555556,
              "#d8576b"
             ],
             [
              0.6666666666666666,
              "#ed7953"
             ],
             [
              0.7777777777777778,
              "#fb9f3a"
             ],
             [
              0.8888888888888888,
              "#fdca26"
             ],
             [
              1,
              "#f0f921"
             ]
            ],
            "type": "contour"
           }
          ],
          "contourcarpet": [
           {
            "colorbar": {
             "outlinewidth": 0,
             "ticks": ""
            },
            "type": "contourcarpet"
           }
          ],
          "heatmap": [
           {
            "colorbar": {
             "outlinewidth": 0,
             "ticks": ""
            },
            "colorscale": [
             [
              0,
              "#0d0887"
             ],
             [
              0.1111111111111111,
              "#46039f"
             ],
             [
              0.2222222222222222,
              "#7201a8"
             ],
             [
              0.3333333333333333,
              "#9c179e"
             ],
             [
              0.4444444444444444,
              "#bd3786"
             ],
             [
              0.5555555555555556,
              "#d8576b"
             ],
             [
              0.6666666666666666,
              "#ed7953"
             ],
             [
              0.7777777777777778,
              "#fb9f3a"
             ],
             [
              0.8888888888888888,
              "#fdca26"
             ],
             [
              1,
              "#f0f921"
             ]
            ],
            "type": "heatmap"
           }
          ],
          "heatmapgl": [
           {
            "colorbar": {
             "outlinewidth": 0,
             "ticks": ""
            },
            "colorscale": [
             [
              0,
              "#0d0887"
             ],
             [
              0.1111111111111111,
              "#46039f"
             ],
             [
              0.2222222222222222,
              "#7201a8"
             ],
             [
              0.3333333333333333,
              "#9c179e"
             ],
             [
              0.4444444444444444,
              "#bd3786"
             ],
             [
              0.5555555555555556,
              "#d8576b"
             ],
             [
              0.6666666666666666,
              "#ed7953"
             ],
             [
              0.7777777777777778,
              "#fb9f3a"
             ],
             [
              0.8888888888888888,
              "#fdca26"
             ],
             [
              1,
              "#f0f921"
             ]
            ],
            "type": "heatmapgl"
           }
          ],
          "histogram": [
           {
            "marker": {
             "pattern": {
              "fillmode": "overlay",
              "size": 10,
              "solidity": 0.2
             }
            },
            "type": "histogram"
           }
          ],
          "histogram2d": [
           {
            "colorbar": {
             "outlinewidth": 0,
             "ticks": ""
            },
            "colorscale": [
             [
              0,
              "#0d0887"
             ],
             [
              0.1111111111111111,
              "#46039f"
             ],
             [
              0.2222222222222222,
              "#7201a8"
             ],
             [
              0.3333333333333333,
              "#9c179e"
             ],
             [
              0.4444444444444444,
              "#bd3786"
             ],
             [
              0.5555555555555556,
              "#d8576b"
             ],
             [
              0.6666666666666666,
              "#ed7953"
             ],
             [
              0.7777777777777778,
              "#fb9f3a"
             ],
             [
              0.8888888888888888,
              "#fdca26"
             ],
             [
              1,
              "#f0f921"
             ]
            ],
            "type": "histogram2d"
           }
          ],
          "histogram2dcontour": [
           {
            "colorbar": {
             "outlinewidth": 0,
             "ticks": ""
            },
            "colorscale": [
             [
              0,
              "#0d0887"
             ],
             [
              0.1111111111111111,
              "#46039f"
             ],
             [
              0.2222222222222222,
              "#7201a8"
             ],
             [
              0.3333333333333333,
              "#9c179e"
             ],
             [
              0.4444444444444444,
              "#bd3786"
             ],
             [
              0.5555555555555556,
              "#d8576b"
             ],
             [
              0.6666666666666666,
              "#ed7953"
             ],
             [
              0.7777777777777778,
              "#fb9f3a"
             ],
             [
              0.8888888888888888,
              "#fdca26"
             ],
             [
              1,
              "#f0f921"
             ]
            ],
            "type": "histogram2dcontour"
           }
          ],
          "mesh3d": [
           {
            "colorbar": {
             "outlinewidth": 0,
             "ticks": ""
            },
            "type": "mesh3d"
           }
          ],
          "parcoords": [
           {
            "line": {
             "colorbar": {
              "outlinewidth": 0,
              "ticks": ""
             }
            },
            "type": "parcoords"
           }
          ],
          "pie": [
           {
            "automargin": true,
            "type": "pie"
           }
          ],
          "scatter": [
           {
            "fillpattern": {
             "fillmode": "overlay",
             "size": 10,
             "solidity": 0.2
            },
            "type": "scatter"
           }
          ],
          "scatter3d": [
           {
            "line": {
             "colorbar": {
              "outlinewidth": 0,
              "ticks": ""
             }
            },
            "marker": {
             "colorbar": {
              "outlinewidth": 0,
              "ticks": ""
             }
            },
            "type": "scatter3d"
           }
          ],
          "scattercarpet": [
           {
            "marker": {
             "colorbar": {
              "outlinewidth": 0,
              "ticks": ""
             }
            },
            "type": "scattercarpet"
           }
          ],
          "scattergeo": [
           {
            "marker": {
             "colorbar": {
              "outlinewidth": 0,
              "ticks": ""
             }
            },
            "type": "scattergeo"
           }
          ],
          "scattergl": [
           {
            "marker": {
             "colorbar": {
              "outlinewidth": 0,
              "ticks": ""
             }
            },
            "type": "scattergl"
           }
          ],
          "scattermapbox": [
           {
            "marker": {
             "colorbar": {
              "outlinewidth": 0,
              "ticks": ""
             }
            },
            "type": "scattermapbox"
           }
          ],
          "scatterpolar": [
           {
            "marker": {
             "colorbar": {
              "outlinewidth": 0,
              "ticks": ""
             }
            },
            "type": "scatterpolar"
           }
          ],
          "scatterpolargl": [
           {
            "marker": {
             "colorbar": {
              "outlinewidth": 0,
              "ticks": ""
             }
            },
            "type": "scatterpolargl"
           }
          ],
          "scatterternary": [
           {
            "marker": {
             "colorbar": {
              "outlinewidth": 0,
              "ticks": ""
             }
            },
            "type": "scatterternary"
           }
          ],
          "surface": [
           {
            "colorbar": {
             "outlinewidth": 0,
             "ticks": ""
            },
            "colorscale": [
             [
              0,
              "#0d0887"
             ],
             [
              0.1111111111111111,
              "#46039f"
             ],
             [
              0.2222222222222222,
              "#7201a8"
             ],
             [
              0.3333333333333333,
              "#9c179e"
             ],
             [
              0.4444444444444444,
              "#bd3786"
             ],
             [
              0.5555555555555556,
              "#d8576b"
             ],
             [
              0.6666666666666666,
              "#ed7953"
             ],
             [
              0.7777777777777778,
              "#fb9f3a"
             ],
             [
              0.8888888888888888,
              "#fdca26"
             ],
             [
              1,
              "#f0f921"
             ]
            ],
            "type": "surface"
           }
          ],
          "table": [
           {
            "cells": {
             "fill": {
              "color": "#EBF0F8"
             },
             "line": {
              "color": "white"
             }
            },
            "header": {
             "fill": {
              "color": "#C8D4E3"
             },
             "line": {
              "color": "white"
             }
            },
            "type": "table"
           }
          ]
         },
         "layout": {
          "annotationdefaults": {
           "arrowcolor": "#2a3f5f",
           "arrowhead": 0,
           "arrowwidth": 1
          },
          "autotypenumbers": "strict",
          "coloraxis": {
           "colorbar": {
            "outlinewidth": 0,
            "ticks": ""
           }
          },
          "colorscale": {
           "diverging": [
            [
             0,
             "#8e0152"
            ],
            [
             0.1,
             "#c51b7d"
            ],
            [
             0.2,
             "#de77ae"
            ],
            [
             0.3,
             "#f1b6da"
            ],
            [
             0.4,
             "#fde0ef"
            ],
            [
             0.5,
             "#f7f7f7"
            ],
            [
             0.6,
             "#e6f5d0"
            ],
            [
             0.7,
             "#b8e186"
            ],
            [
             0.8,
             "#7fbc41"
            ],
            [
             0.9,
             "#4d9221"
            ],
            [
             1,
             "#276419"
            ]
           ],
           "sequential": [
            [
             0,
             "#0d0887"
            ],
            [
             0.1111111111111111,
             "#46039f"
            ],
            [
             0.2222222222222222,
             "#7201a8"
            ],
            [
             0.3333333333333333,
             "#9c179e"
            ],
            [
             0.4444444444444444,
             "#bd3786"
            ],
            [
             0.5555555555555556,
             "#d8576b"
            ],
            [
             0.6666666666666666,
             "#ed7953"
            ],
            [
             0.7777777777777778,
             "#fb9f3a"
            ],
            [
             0.8888888888888888,
             "#fdca26"
            ],
            [
             1,
             "#f0f921"
            ]
           ],
           "sequentialminus": [
            [
             0,
             "#0d0887"
            ],
            [
             0.1111111111111111,
             "#46039f"
            ],
            [
             0.2222222222222222,
             "#7201a8"
            ],
            [
             0.3333333333333333,
             "#9c179e"
            ],
            [
             0.4444444444444444,
             "#bd3786"
            ],
            [
             0.5555555555555556,
             "#d8576b"
            ],
            [
             0.6666666666666666,
             "#ed7953"
            ],
            [
             0.7777777777777778,
             "#fb9f3a"
            ],
            [
             0.8888888888888888,
             "#fdca26"
            ],
            [
             1,
             "#f0f921"
            ]
           ]
          },
          "colorway": [
           "#636efa",
           "#EF553B",
           "#00cc96",
           "#ab63fa",
           "#FFA15A",
           "#19d3f3",
           "#FF6692",
           "#B6E880",
           "#FF97FF",
           "#FECB52"
          ],
          "font": {
           "color": "#2a3f5f"
          },
          "geo": {
           "bgcolor": "white",
           "lakecolor": "white",
           "landcolor": "#E5ECF6",
           "showlakes": true,
           "showland": true,
           "subunitcolor": "white"
          },
          "hoverlabel": {
           "align": "left"
          },
          "hovermode": "closest",
          "mapbox": {
           "style": "light"
          },
          "paper_bgcolor": "white",
          "plot_bgcolor": "#E5ECF6",
          "polar": {
           "angularaxis": {
            "gridcolor": "white",
            "linecolor": "white",
            "ticks": ""
           },
           "bgcolor": "#E5ECF6",
           "radialaxis": {
            "gridcolor": "white",
            "linecolor": "white",
            "ticks": ""
           }
          },
          "scene": {
           "xaxis": {
            "backgroundcolor": "#E5ECF6",
            "gridcolor": "white",
            "gridwidth": 2,
            "linecolor": "white",
            "showbackground": true,
            "ticks": "",
            "zerolinecolor": "white"
           },
           "yaxis": {
            "backgroundcolor": "#E5ECF6",
            "gridcolor": "white",
            "gridwidth": 2,
            "linecolor": "white",
            "showbackground": true,
            "ticks": "",
            "zerolinecolor": "white"
           },
           "zaxis": {
            "backgroundcolor": "#E5ECF6",
            "gridcolor": "white",
            "gridwidth": 2,
            "linecolor": "white",
            "showbackground": true,
            "ticks": "",
            "zerolinecolor": "white"
           }
          },
          "shapedefaults": {
           "line": {
            "color": "#2a3f5f"
           }
          },
          "ternary": {
           "aaxis": {
            "gridcolor": "white",
            "linecolor": "white",
            "ticks": ""
           },
           "baxis": {
            "gridcolor": "white",
            "linecolor": "white",
            "ticks": ""
           },
           "bgcolor": "#E5ECF6",
           "caxis": {
            "gridcolor": "white",
            "linecolor": "white",
            "ticks": ""
           }
          },
          "title": {
           "x": 0.05
          },
          "xaxis": {
           "automargin": true,
           "gridcolor": "white",
           "linecolor": "white",
           "ticks": "",
           "title": {
            "standoff": 15
           },
           "zerolinecolor": "white",
           "zerolinewidth": 2
          },
          "yaxis": {
           "automargin": true,
           "gridcolor": "white",
           "linecolor": "white",
           "ticks": "",
           "title": {
            "standoff": 15
           },
           "zerolinecolor": "white",
           "zerolinewidth": 2
          }
         }
        },
        "title": {
         "text": "KL Divergence among top Keepers (entire career in all comps, excluding shootouts)"
        },
        "xaxis": {
         "autorange": true,
         "range": [
          -0.5,
          11.5
         ],
         "type": "category"
        },
        "yaxis": {
         "autorange": true,
         "range": [
          0,
          0.184386044133396
         ],
         "type": "linear"
        }
       }
      },
      "text/html": [
       "<div>                            <div id=\"3bce09bd-b802-4c69-b23f-db3299514168\" class=\"plotly-graph-div\" style=\"height:525px; width:100%;\"></div>            <script type=\"text/javascript\">                require([\"plotly\"], function(Plotly) {                    window.PLOTLYENV=window.PLOTLYENV || {};                                    if (document.getElementById(\"3bce09bd-b802-4c69-b23f-db3299514168\")) {                    Plotly.newPlot(                        \"3bce09bd-b802-4c69-b23f-db3299514168\",                        [{\"hovertext\":[\"Peter Schmeichel\",\"Edwin Van de Sar\",\"Petr Cech\",\"Iker Casillas\",\"Gianluigi Buffon\",\"Manuel Neuer\",\"Alisson Becker\",\"Ederson\",\"Thibaut Courtois\",\"David De Gea\",\"Diogo Costa\",\"Andre Onana\"],\"x\":[\"ps\",\"vds\",\"cech\",\"iker\",\"buffon\",\"neuer\",\"alisson\",\"ederson\",\"courtois\",\"ddg\",\"costa\",\"onana\"],\"y\":[0.026010535614279975,0.0039039301023216615,0.00837861767620246,0.01990235721709678,0.07178466286282988,0.05373144489695954,0.17516674192672618,0.0017629749464367454,0.012529893983932568,0.005304528067104505,0.07879706235063758,0.012529893983932568],\"type\":\"bar\",\"marker\":{\"line\":{\"color\":\"rgb(8,48,107)\",\"width\":1.5},\"color\":\"rgb(158,202,100)\"},\"opacity\":0.6}],                        {\"template\":{\"data\":{\"histogram2dcontour\":[{\"type\":\"histogram2dcontour\",\"colorbar\":{\"outlinewidth\":0,\"ticks\":\"\"},\"colorscale\":[[0.0,\"#0d0887\"],[0.1111111111111111,\"#46039f\"],[0.2222222222222222,\"#7201a8\"],[0.3333333333333333,\"#9c179e\"],[0.4444444444444444,\"#bd3786\"],[0.5555555555555556,\"#d8576b\"],[0.6666666666666666,\"#ed7953\"],[0.7777777777777778,\"#fb9f3a\"],[0.8888888888888888,\"#fdca26\"],[1.0,\"#f0f921\"]]}],\"choropleth\":[{\"type\":\"choropleth\",\"colorbar\":{\"outlinewidth\":0,\"ticks\":\"\"}}],\"histogram2d\":[{\"type\":\"histogram2d\",\"colorbar\":{\"outlinewidth\":0,\"ticks\":\"\"},\"colorscale\":[[0.0,\"#0d0887\"],[0.1111111111111111,\"#46039f\"],[0.2222222222222222,\"#7201a8\"],[0.3333333333333333,\"#9c179e\"],[0.4444444444444444,\"#bd3786\"],[0.5555555555555556,\"#d8576b\"],[0.6666666666666666,\"#ed7953\"],[0.7777777777777778,\"#fb9f3a\"],[0.8888888888888888,\"#fdca26\"],[1.0,\"#f0f921\"]]}],\"heatmap\":[{\"type\":\"heatmap\",\"colorbar\":{\"outlinewidth\":0,\"ticks\":\"\"},\"colorscale\":[[0.0,\"#0d0887\"],[0.1111111111111111,\"#46039f\"],[0.2222222222222222,\"#7201a8\"],[0.3333333333333333,\"#9c179e\"],[0.4444444444444444,\"#bd3786\"],[0.5555555555555556,\"#d8576b\"],[0.6666666666666666,\"#ed7953\"],[0.7777777777777778,\"#fb9f3a\"],[0.8888888888888888,\"#fdca26\"],[1.0,\"#f0f921\"]]}],\"heatmapgl\":[{\"type\":\"heatmapgl\",\"colorbar\":{\"outlinewidth\":0,\"ticks\":\"\"},\"colorscale\":[[0.0,\"#0d0887\"],[0.1111111111111111,\"#46039f\"],[0.2222222222222222,\"#7201a8\"],[0.3333333333333333,\"#9c179e\"],[0.4444444444444444,\"#bd3786\"],[0.5555555555555556,\"#d8576b\"],[0.6666666666666666,\"#ed7953\"],[0.7777777777777778,\"#fb9f3a\"],[0.8888888888888888,\"#fdca26\"],[1.0,\"#f0f921\"]]}],\"contourcarpet\":[{\"type\":\"contourcarpet\",\"colorbar\":{\"outlinewidth\":0,\"ticks\":\"\"}}],\"contour\":[{\"type\":\"contour\",\"colorbar\":{\"outlinewidth\":0,\"ticks\":\"\"},\"colorscale\":[[0.0,\"#0d0887\"],[0.1111111111111111,\"#46039f\"],[0.2222222222222222,\"#7201a8\"],[0.3333333333333333,\"#9c179e\"],[0.4444444444444444,\"#bd3786\"],[0.5555555555555556,\"#d8576b\"],[0.6666666666666666,\"#ed7953\"],[0.7777777777777778,\"#fb9f3a\"],[0.8888888888888888,\"#fdca26\"],[1.0,\"#f0f921\"]]}],\"surface\":[{\"type\":\"surface\",\"colorbar\":{\"outlinewidth\":0,\"ticks\":\"\"},\"colorscale\":[[0.0,\"#0d0887\"],[0.1111111111111111,\"#46039f\"],[0.2222222222222222,\"#7201a8\"],[0.3333333333333333,\"#9c179e\"],[0.4444444444444444,\"#bd3786\"],[0.5555555555555556,\"#d8576b\"],[0.6666666666666666,\"#ed7953\"],[0.7777777777777778,\"#fb9f3a\"],[0.8888888888888888,\"#fdca26\"],[1.0,\"#f0f921\"]]}],\"mesh3d\":[{\"type\":\"mesh3d\",\"colorbar\":{\"outlinewidth\":0,\"ticks\":\"\"}}],\"scatter\":[{\"fillpattern\":{\"fillmode\":\"overlay\",\"size\":10,\"solidity\":0.2},\"type\":\"scatter\"}],\"parcoords\":[{\"type\":\"parcoords\",\"line\":{\"colorbar\":{\"outlinewidth\":0,\"ticks\":\"\"}}}],\"scatterpolargl\":[{\"type\":\"scatterpolargl\",\"marker\":{\"colorbar\":{\"outlinewidth\":0,\"ticks\":\"\"}}}],\"bar\":[{\"error_x\":{\"color\":\"#2a3f5f\"},\"error_y\":{\"color\":\"#2a3f5f\"},\"marker\":{\"line\":{\"color\":\"#E5ECF6\",\"width\":0.5},\"pattern\":{\"fillmode\":\"overlay\",\"size\":10,\"solidity\":0.2}},\"type\":\"bar\"}],\"scattergeo\":[{\"type\":\"scattergeo\",\"marker\":{\"colorbar\":{\"outlinewidth\":0,\"ticks\":\"\"}}}],\"scatterpolar\":[{\"type\":\"scatterpolar\",\"marker\":{\"colorbar\":{\"outlinewidth\":0,\"ticks\":\"\"}}}],\"histogram\":[{\"marker\":{\"pattern\":{\"fillmode\":\"overlay\",\"size\":10,\"solidity\":0.2}},\"type\":\"histogram\"}],\"scattergl\":[{\"type\":\"scattergl\",\"marker\":{\"colorbar\":{\"outlinewidth\":0,\"ticks\":\"\"}}}],\"scatter3d\":[{\"type\":\"scatter3d\",\"line\":{\"colorbar\":{\"outlinewidth\":0,\"ticks\":\"\"}},\"marker\":{\"colorbar\":{\"outlinewidth\":0,\"ticks\":\"\"}}}],\"scattermapbox\":[{\"type\":\"scattermapbox\",\"marker\":{\"colorbar\":{\"outlinewidth\":0,\"ticks\":\"\"}}}],\"scatterternary\":[{\"type\":\"scatterternary\",\"marker\":{\"colorbar\":{\"outlinewidth\":0,\"ticks\":\"\"}}}],\"scattercarpet\":[{\"type\":\"scattercarpet\",\"marker\":{\"colorbar\":{\"outlinewidth\":0,\"ticks\":\"\"}}}],\"carpet\":[{\"aaxis\":{\"endlinecolor\":\"#2a3f5f\",\"gridcolor\":\"white\",\"linecolor\":\"white\",\"minorgridcolor\":\"white\",\"startlinecolor\":\"#2a3f5f\"},\"baxis\":{\"endlinecolor\":\"#2a3f5f\",\"gridcolor\":\"white\",\"linecolor\":\"white\",\"minorgridcolor\":\"white\",\"startlinecolor\":\"#2a3f5f\"},\"type\":\"carpet\"}],\"table\":[{\"cells\":{\"fill\":{\"color\":\"#EBF0F8\"},\"line\":{\"color\":\"white\"}},\"header\":{\"fill\":{\"color\":\"#C8D4E3\"},\"line\":{\"color\":\"white\"}},\"type\":\"table\"}],\"barpolar\":[{\"marker\":{\"line\":{\"color\":\"#E5ECF6\",\"width\":0.5},\"pattern\":{\"fillmode\":\"overlay\",\"size\":10,\"solidity\":0.2}},\"type\":\"barpolar\"}],\"pie\":[{\"automargin\":true,\"type\":\"pie\"}]},\"layout\":{\"autotypenumbers\":\"strict\",\"colorway\":[\"#636efa\",\"#EF553B\",\"#00cc96\",\"#ab63fa\",\"#FFA15A\",\"#19d3f3\",\"#FF6692\",\"#B6E880\",\"#FF97FF\",\"#FECB52\"],\"font\":{\"color\":\"#2a3f5f\"},\"hovermode\":\"closest\",\"hoverlabel\":{\"align\":\"left\"},\"paper_bgcolor\":\"white\",\"plot_bgcolor\":\"#E5ECF6\",\"polar\":{\"bgcolor\":\"#E5ECF6\",\"angularaxis\":{\"gridcolor\":\"white\",\"linecolor\":\"white\",\"ticks\":\"\"},\"radialaxis\":{\"gridcolor\":\"white\",\"linecolor\":\"white\",\"ticks\":\"\"}},\"ternary\":{\"bgcolor\":\"#E5ECF6\",\"aaxis\":{\"gridcolor\":\"white\",\"linecolor\":\"white\",\"ticks\":\"\"},\"baxis\":{\"gridcolor\":\"white\",\"linecolor\":\"white\",\"ticks\":\"\"},\"caxis\":{\"gridcolor\":\"white\",\"linecolor\":\"white\",\"ticks\":\"\"}},\"coloraxis\":{\"colorbar\":{\"outlinewidth\":0,\"ticks\":\"\"}},\"colorscale\":{\"sequential\":[[0.0,\"#0d0887\"],[0.1111111111111111,\"#46039f\"],[0.2222222222222222,\"#7201a8\"],[0.3333333333333333,\"#9c179e\"],[0.4444444444444444,\"#bd3786\"],[0.5555555555555556,\"#d8576b\"],[0.6666666666666666,\"#ed7953\"],[0.7777777777777778,\"#fb9f3a\"],[0.8888888888888888,\"#fdca26\"],[1.0,\"#f0f921\"]],\"sequentialminus\":[[0.0,\"#0d0887\"],[0.1111111111111111,\"#46039f\"],[0.2222222222222222,\"#7201a8\"],[0.3333333333333333,\"#9c179e\"],[0.4444444444444444,\"#bd3786\"],[0.5555555555555556,\"#d8576b\"],[0.6666666666666666,\"#ed7953\"],[0.7777777777777778,\"#fb9f3a\"],[0.8888888888888888,\"#fdca26\"],[1.0,\"#f0f921\"]],\"diverging\":[[0,\"#8e0152\"],[0.1,\"#c51b7d\"],[0.2,\"#de77ae\"],[0.3,\"#f1b6da\"],[0.4,\"#fde0ef\"],[0.5,\"#f7f7f7\"],[0.6,\"#e6f5d0\"],[0.7,\"#b8e186\"],[0.8,\"#7fbc41\"],[0.9,\"#4d9221\"],[1,\"#276419\"]]},\"xaxis\":{\"gridcolor\":\"white\",\"linecolor\":\"white\",\"ticks\":\"\",\"title\":{\"standoff\":15},\"zerolinecolor\":\"white\",\"automargin\":true,\"zerolinewidth\":2},\"yaxis\":{\"gridcolor\":\"white\",\"linecolor\":\"white\",\"ticks\":\"\",\"title\":{\"standoff\":15},\"zerolinecolor\":\"white\",\"automargin\":true,\"zerolinewidth\":2},\"scene\":{\"xaxis\":{\"backgroundcolor\":\"#E5ECF6\",\"gridcolor\":\"white\",\"linecolor\":\"white\",\"showbackground\":true,\"ticks\":\"\",\"zerolinecolor\":\"white\",\"gridwidth\":2},\"yaxis\":{\"backgroundcolor\":\"#E5ECF6\",\"gridcolor\":\"white\",\"linecolor\":\"white\",\"showbackground\":true,\"ticks\":\"\",\"zerolinecolor\":\"white\",\"gridwidth\":2},\"zaxis\":{\"backgroundcolor\":\"#E5ECF6\",\"gridcolor\":\"white\",\"linecolor\":\"white\",\"showbackground\":true,\"ticks\":\"\",\"zerolinecolor\":\"white\",\"gridwidth\":2}},\"shapedefaults\":{\"line\":{\"color\":\"#2a3f5f\"}},\"annotationdefaults\":{\"arrowcolor\":\"#2a3f5f\",\"arrowhead\":0,\"arrowwidth\":1},\"geo\":{\"bgcolor\":\"white\",\"landcolor\":\"#E5ECF6\",\"subunitcolor\":\"white\",\"showland\":true,\"showlakes\":true,\"lakecolor\":\"white\"},\"title\":{\"x\":0.05},\"mapbox\":{\"style\":\"light\"}}},\"title\":{\"text\":\"KL Divergence among top Keepers (entire career in all comps, excluding shootouts)\"}},                        {\"responsive\": true}                    ).then(function(){\n",
       "                            \n",
       "var gd = document.getElementById('3bce09bd-b802-4c69-b23f-db3299514168');\n",
       "var x = new MutationObserver(function (mutations, observer) {{\n",
       "        var display = window.getComputedStyle(gd).display;\n",
       "        if (!display || display === 'none') {{\n",
       "            console.log([gd, 'removed!']);\n",
       "            Plotly.purge(gd);\n",
       "            observer.disconnect();\n",
       "        }}\n",
       "}});\n",
       "\n",
       "// Listen for the removal of the full notebook cells\n",
       "var notebookContainer = gd.closest('#notebook-container');\n",
       "if (notebookContainer) {{\n",
       "    x.observe(notebookContainer, {childList: true});\n",
       "}}\n",
       "\n",
       "// Listen for the clearing of the current output cell\n",
       "var outputEl = gd.closest('.output');\n",
       "if (outputEl) {{\n",
       "    x.observe(outputEl, {childList: true});\n",
       "}}\n",
       "\n",
       "                        })                };                });            </script>        </div>"
      ]
     },
     "metadata": {},
     "output_type": "display_data"
    }
   ],
   "source": [
    "gks_kld = []\n",
    "\n",
    "for save_rate in pk_save_rate:\n",
    "    q = [1-save_rate, save_rate]\n",
    "    gks_kld.append(kl_divergence(p,q))\n",
    "\n",
    "fig1= go.Figure(data=[go.Bar(x=gks, y=gks_kld,hovertext=full_name)])\n",
    "# Customize aspect\n",
    "fig1.update_traces(marker_color='rgb(158,202,100)', marker_line_color='rgb(8,48,107)',\n",
    "                  marker_line_width=1.5, opacity=0.6)\n",
    "fig1.update_layout(title_text='KL Divergence among top Keepers (entire career in all comps, excluding shootouts)')\n",
    "fig1.show()"
   ]
  },
  {
   "cell_type": "markdown",
   "id": "45f3443a-fc8a-4b30-873a-119ca35b2302",
   "metadata": {},
   "source": [
    "#### Two identical distributions produces a KL divergnece of 0, and thus the more similar two distributions are, the closer the KL divergence will be to 0. Thus, we can infer that:\n",
    "\n",
    "1. The likes of Edwin van de Sar, Petr Cech, Ederson, and **De Gea** are pretty much average PK savers.\n",
    "2. Peter Schmeichel having a higher KL divergence doesn't imply that he's better than the previous mentioned keepers, but that he's **worse** than the average keeper at saving penalty kicks (and we can infer this from the previous visualization where we saw his 8 percent PK save rate, lowest of the 10 keepers here)\n",
    "3. Buffon, Costa, and Neuer are great at saving PKs, but not as great as Alisson!"
   ]
  },
  {
   "cell_type": "markdown",
   "id": "3f1b8530-68d4-4410-8855-93d63472278e",
   "metadata": {},
   "source": [
    "(The subtle assumption here is that all penalty kicks are equally difficult, regardless of the competition, whether or not the keeper's team is losing or winning at the time their team gave away a penalty, how good of a PK kicker the GK is going against, and etc.)"
   ]
  },
  {
   "cell_type": "markdown",
   "id": "4c5ac01f-db84-42ac-a4b9-217dd8f28b6b",
   "metadata": {},
   "source": [
    "#### However, this is an analysis based on non-shootout PKs, meaning that it's excluding some historic moments such as:\n",
    "\n",
    "1. Edwin Van de sar's three penalty saves in the Community Shield (2007) against Chelsea, and the other two in the Champions League Final (2008), also against Chelsea\n",
    "2. Petr Cech single-handedly securing Chelsea's first Champions League victory against Bayern Munich in 2012 by denying Olic and Schweinsteiger.\n",
    "3. De Gea going zero for 11 (0/11) against Villareal in the Europa League final shootout (2021/2022).\n",
    "4. Neuer denying Kaka and Ronaldo, and with the help of Ramos sending it to the moon, beating Real Madrid in the Champions League (2011/2012)"
   ]
  },
  {
   "cell_type": "markdown",
   "id": "4fe557ad-91ba-45e2-9801-6cfb56532bd0",
   "metadata": {},
   "source": [
    "### (I'm having a hard time finding public data regarding shootouts, so I will expand on this as I manually collect relevant data on my own)"
   ]
  },
  {
   "cell_type": "markdown",
   "id": "1e6fe2f8-9c58-462e-8604-fd03e65b9ee5",
   "metadata": {},
   "source": [
    "## Now let's compare look into more advanced stats that may tell us more about where De Gea stands amonst other great players."
   ]
  },
  {
   "cell_type": "markdown",
   "id": "5fd3def3-d49c-446b-900a-904e0118f526",
   "metadata": {},
   "source": [
    "##### I will be looking into:\n",
    "\n",
    "1. **Crosses_stp%**: Percentage of crosses stopped\n",
    "2. **Post Shot xG (PSxG) Prevention per 90**: PSxG is the goals an average keeper is expected to concede, differentiated by the quality of the shot taken by the shooter. Thus, by subtracting the actual number of goals conceded, we can guage how well a keeper does compared to the average keeper when it comes to shot-stopping.\n",
    "3. **Defensive Actions Outside of Penalty Area per 90 minutes (#OPA/90)**\n",
    "4. **Average Distance (AvgDist)**: Average distance covered when perfoming all defensive actions away from goal i.e. sweeping                         \n",
    "\n",
    "with **passing stats** of the following:\n",
    "\n",
    "5. Passes between 15 ~ 30 yards\n",
    "6. Passes longer than 30 yards\n",
    "7. Passes longer than 40 yards"
   ]
  },
  {
   "cell_type": "markdown",
   "id": "66d68c94-6e82-4ca9-a019-bd3d78157aec",
   "metadata": {},
   "source": [
    "**data source**: Fbref (e.g. [link](https://fbref.com/en/players/7ba6d84e/David-de-Gea))\n",
    "note that these stats are available only for current, non-retired players; so Peter Schmeichel, van der Sar, Cech, Casillas, and Buffon will not be taken into consideration for this part of analysis"
   ]
  },
  {
   "cell_type": "code",
   "execution_count": 675,
   "id": "19f417a1-bc5d-41a8-9a5d-59cf9a24cf03",
   "metadata": {},
   "outputs": [],
   "source": [
    "categories = [\"Crosses_stp%\",\"PSxG Prevention per 90\",\"OPA/90\",\"AvgDist\",\"pass (15~30 yards)\",\"pass (30 yards <)\",\"pass (40 yards <)\"]"
   ]
  },
  {
   "cell_type": "code",
   "execution_count": 676,
   "id": "e336576a-3fa7-48c9-b1b3-5a6c674beb74",
   "metadata": {},
   "outputs": [],
   "source": [
    "adv_stats = pd.DataFrame(np.array([[3.2,.05,2.93,23.3,98.4,66.3,48.3], [4.8,.12,2.28,18.7,98.5,61.6,44.3],[6.5,0,1.5,17.9,98.6,61.1,43.6],[6,.09,.96,14.8,98.9,50.7,32.6],[2.1,.04,.71,14.3,97.8,45.3,36.6],[7.4,.09,1.22,16.6,98.7,53.6,40.9],\n",
    "                                   [6.4,0.06,1.21,16.2,98.4,54.7,41.3]]),\n",
    "                   columns=categories,index=full_name[5:])"
   ]
  },
  {
   "cell_type": "code",
   "execution_count": 677,
   "id": "28f9c3c4-d781-4d3c-ba1d-a180e75772bd",
   "metadata": {},
   "outputs": [],
   "source": [
    "from sklearn.preprocessing import MinMaxScaler\n",
    "scaler = MinMaxScaler()\n",
    "for col in adv_stats.columns:\n",
    "    adv_stats[[col]] = scaler.fit_transform(adv_stats[[col]])"
   ]
  },
  {
   "cell_type": "code",
   "execution_count": 678,
   "id": "221c4aac-f9f5-45d4-ae2a-5b72b0288f7b",
   "metadata": {},
   "outputs": [
    {
     "data": {
      "text/html": [
       "<div>\n",
       "<style scoped>\n",
       "    .dataframe tbody tr th:only-of-type {\n",
       "        vertical-align: middle;\n",
       "    }\n",
       "\n",
       "    .dataframe tbody tr th {\n",
       "        vertical-align: top;\n",
       "    }\n",
       "\n",
       "    .dataframe thead th {\n",
       "        text-align: right;\n",
       "    }\n",
       "</style>\n",
       "<table border=\"1\" class=\"dataframe\">\n",
       "  <thead>\n",
       "    <tr style=\"text-align: right;\">\n",
       "      <th></th>\n",
       "      <th>Crosses_stp%</th>\n",
       "      <th>PSxG Prevention per 90</th>\n",
       "      <th>OPA/90</th>\n",
       "      <th>AvgDist</th>\n",
       "      <th>pass (15~30 yards)</th>\n",
       "      <th>pass (30 yards &lt;)</th>\n",
       "      <th>pass (40 yards &lt;)</th>\n",
       "    </tr>\n",
       "  </thead>\n",
       "  <tbody>\n",
       "    <tr>\n",
       "      <th>Manuel Neuer</th>\n",
       "      <td>0.207547</td>\n",
       "      <td>0.416667</td>\n",
       "      <td>1.000000</td>\n",
       "      <td>1.000000</td>\n",
       "      <td>0.545455</td>\n",
       "      <td>1.000000</td>\n",
       "      <td>1.000000</td>\n",
       "    </tr>\n",
       "    <tr>\n",
       "      <th>Alisson Becker</th>\n",
       "      <td>0.509434</td>\n",
       "      <td>1.000000</td>\n",
       "      <td>0.707207</td>\n",
       "      <td>0.488889</td>\n",
       "      <td>0.636364</td>\n",
       "      <td>0.776190</td>\n",
       "      <td>0.745223</td>\n",
       "    </tr>\n",
       "    <tr>\n",
       "      <th>Ederson</th>\n",
       "      <td>0.830189</td>\n",
       "      <td>0.000000</td>\n",
       "      <td>0.355856</td>\n",
       "      <td>0.400000</td>\n",
       "      <td>0.727273</td>\n",
       "      <td>0.752381</td>\n",
       "      <td>0.700637</td>\n",
       "    </tr>\n",
       "    <tr>\n",
       "      <th>Thibaut Courtois</th>\n",
       "      <td>0.735849</td>\n",
       "      <td>0.750000</td>\n",
       "      <td>0.112613</td>\n",
       "      <td>0.055556</td>\n",
       "      <td>1.000000</td>\n",
       "      <td>0.257143</td>\n",
       "      <td>0.000000</td>\n",
       "    </tr>\n",
       "    <tr>\n",
       "      <th>David De Gea</th>\n",
       "      <td>0.000000</td>\n",
       "      <td>0.333333</td>\n",
       "      <td>0.000000</td>\n",
       "      <td>0.000000</td>\n",
       "      <td>0.000000</td>\n",
       "      <td>0.000000</td>\n",
       "      <td>0.254777</td>\n",
       "    </tr>\n",
       "    <tr>\n",
       "      <th>Diogo Costa</th>\n",
       "      <td>1.000000</td>\n",
       "      <td>0.750000</td>\n",
       "      <td>0.229730</td>\n",
       "      <td>0.255556</td>\n",
       "      <td>0.818182</td>\n",
       "      <td>0.395238</td>\n",
       "      <td>0.528662</td>\n",
       "    </tr>\n",
       "    <tr>\n",
       "      <th>Andre Onana</th>\n",
       "      <td>0.811321</td>\n",
       "      <td>0.500000</td>\n",
       "      <td>0.225225</td>\n",
       "      <td>0.211111</td>\n",
       "      <td>0.545455</td>\n",
       "      <td>0.447619</td>\n",
       "      <td>0.554140</td>\n",
       "    </tr>\n",
       "  </tbody>\n",
       "</table>\n",
       "</div>"
      ],
      "text/plain": [
       "                  Crosses_stp%  PSxG Prevention per 90    OPA/90   AvgDist  \\\n",
       "Manuel Neuer          0.207547                0.416667  1.000000  1.000000   \n",
       "Alisson Becker        0.509434                1.000000  0.707207  0.488889   \n",
       "Ederson               0.830189                0.000000  0.355856  0.400000   \n",
       "Thibaut Courtois      0.735849                0.750000  0.112613  0.055556   \n",
       "David De Gea          0.000000                0.333333  0.000000  0.000000   \n",
       "Diogo Costa           1.000000                0.750000  0.229730  0.255556   \n",
       "Andre Onana           0.811321                0.500000  0.225225  0.211111   \n",
       "\n",
       "                  pass (15~30 yards)  pass (30 yards <)  pass (40 yards <)  \n",
       "Manuel Neuer                0.545455           1.000000           1.000000  \n",
       "Alisson Becker              0.636364           0.776190           0.745223  \n",
       "Ederson                     0.727273           0.752381           0.700637  \n",
       "Thibaut Courtois            1.000000           0.257143           0.000000  \n",
       "David De Gea                0.000000           0.000000           0.254777  \n",
       "Diogo Costa                 0.818182           0.395238           0.528662  \n",
       "Andre Onana                 0.545455           0.447619           0.554140  "
      ]
     },
     "execution_count": 678,
     "metadata": {},
     "output_type": "execute_result"
    }
   ],
   "source": [
    "adv_stats"
   ]
  },
  {
   "cell_type": "code",
   "execution_count": 679,
   "id": "b6ac0250-29c0-455c-807d-df34758db4f7",
   "metadata": {},
   "outputs": [
    {
     "data": {
      "application/vnd.plotly.v1+json": {
       "config": {
        "plotlyServerURL": "https://plot.ly"
       },
       "data": [
        {
         "fill": "toself",
         "hovertext": "Manuel Neuer",
         "marker": {
          "line": {
           "width": 1.5
          }
         },
         "name": "Manuel Neuer",
         "r": [
          0.20754716981132076,
          0.41666666666666674,
          0.9999999999999999,
          1.0000000000000002,
          0.5454545454545467,
          1,
          1
         ],
         "theta": [
          "Crosses_stp%",
          "PSxG Prevention per 90",
          "OPA/90",
          "AvgDist",
          "pass (15~30 yards)",
          "pass (30 yards <)",
          "pass (40 yards <)"
         ],
         "type": "scatterpolar"
        },
        {
         "fill": "toself",
         "hovertext": "Alisson Becker",
         "marker": {
          "line": {
           "width": 0.15
          }
         },
         "name": "Alisson Becker",
         "r": [
          0.5094339622641508,
          1,
          0.707207207207207,
          0.4888888888888887,
          0.636363636363626,
          0.7761904761904761,
          0.7452229299363058
         ],
         "theta": [
          "Crosses_stp%",
          "PSxG Prevention per 90",
          "OPA/90",
          "AvgDist",
          "pass (15~30 yards)",
          "pass (30 yards <)",
          "pass (40 yards <)"
         ],
         "type": "scatterpolar"
        },
        {
         "fill": "toself",
         "hovertext": "Ederson",
         "marker": {
          "line": {
           "width": 1.5
          }
         },
         "name": "Ederson",
         "r": [
          0.8301886792452831,
          0,
          0.3558558558558559,
          0.3999999999999999,
          0.7272727272727195,
          0.7523809523809524,
          0.7006369426751595
         ],
         "theta": [
          "Crosses_stp%",
          "PSxG Prevention per 90",
          "OPA/90",
          "AvgDist",
          "pass (15~30 yards)",
          "pass (30 yards <)",
          "pass (40 yards <)"
         ],
         "type": "scatterpolar"
        },
        {
         "fill": "toself",
         "hovertext": "Thibaut Courtois",
         "marker": {
          "line": {
           "width": 1.5
          }
         },
         "name": "Thibaut Courtois",
         "r": [
          0.7358490566037736,
          0.75,
          0.11261261261261257,
          0.05555555555555558,
          1,
          0.2571428571428571,
          0
         ],
         "theta": [
          "Crosses_stp%",
          "PSxG Prevention per 90",
          "OPA/90",
          "AvgDist",
          "pass (15~30 yards)",
          "pass (30 yards <)",
          "pass (40 yards <)"
         ],
         "type": "scatterpolar"
        },
        {
         "fill": "toself",
         "hovertext": "Diogo Costa",
         "marker": {
          "line": {
           "width": 1.5
          }
         },
         "name": "Diogo Costa",
         "r": [
          1,
          0.75,
          0.22972972972972971,
          0.25555555555555576,
          0.818181818181813,
          0.39523809523809517,
          0.5286624203821657
         ],
         "theta": [
          "Crosses_stp%",
          "PSxG Prevention per 90",
          "OPA/90",
          "AvgDist",
          "pass (15~30 yards)",
          "pass (30 yards <)",
          "pass (40 yards <)"
         ],
         "type": "scatterpolar"
        },
        {
         "fill": "toself",
         "hovertext": "Andre Onana",
         "marker": {
          "line": {
           "width": 1.5
          }
         },
         "name": "Andre Onana",
         "r": [
          0.8113207547169812,
          0.5,
          0.22522522522522515,
          0.21111111111111103,
          0.5454545454545467,
          0.4476190476190478,
          0.5541401273885351
         ],
         "theta": [
          "Crosses_stp%",
          "PSxG Prevention per 90",
          "OPA/90",
          "AvgDist",
          "pass (15~30 yards)",
          "pass (30 yards <)",
          "pass (40 yards <)"
         ],
         "type": "scatterpolar"
        },
        {
         "fill": "toself",
         "hovertext": "David De Gea",
         "marker": {
          "line": {
           "width": 1.5
          }
         },
         "name": "David De Gea",
         "r": [
          0,
          0.33333333333333337,
          0,
          0,
          0,
          0,
          0.2547770700636942
         ],
         "theta": [
          "Crosses_stp%",
          "PSxG Prevention per 90",
          "OPA/90",
          "AvgDist",
          "pass (15~30 yards)",
          "pass (30 yards <)",
          "pass (40 yards <)"
         ],
         "type": "scatterpolar"
        }
       ],
       "layout": {
        "autosize": true,
        "polar": {
         "angularaxis": {
          "type": "category"
         },
         "radialaxis": {
          "autorange": true,
          "range": [
           0,
           1.0181818181818183
          ],
          "type": "linear",
          "visible": false
         }
        },
        "showlegend": true,
        "template": {
         "data": {
          "bar": [
           {
            "error_x": {
             "color": "#2a3f5f"
            },
            "error_y": {
             "color": "#2a3f5f"
            },
            "marker": {
             "line": {
              "color": "#E5ECF6",
              "width": 0.5
             },
             "pattern": {
              "fillmode": "overlay",
              "size": 10,
              "solidity": 0.2
             }
            },
            "type": "bar"
           }
          ],
          "barpolar": [
           {
            "marker": {
             "line": {
              "color": "#E5ECF6",
              "width": 0.5
             },
             "pattern": {
              "fillmode": "overlay",
              "size": 10,
              "solidity": 0.2
             }
            },
            "type": "barpolar"
           }
          ],
          "carpet": [
           {
            "aaxis": {
             "endlinecolor": "#2a3f5f",
             "gridcolor": "white",
             "linecolor": "white",
             "minorgridcolor": "white",
             "startlinecolor": "#2a3f5f"
            },
            "baxis": {
             "endlinecolor": "#2a3f5f",
             "gridcolor": "white",
             "linecolor": "white",
             "minorgridcolor": "white",
             "startlinecolor": "#2a3f5f"
            },
            "type": "carpet"
           }
          ],
          "choropleth": [
           {
            "colorbar": {
             "outlinewidth": 0,
             "ticks": ""
            },
            "type": "choropleth"
           }
          ],
          "contour": [
           {
            "colorbar": {
             "outlinewidth": 0,
             "ticks": ""
            },
            "colorscale": [
             [
              0,
              "#0d0887"
             ],
             [
              0.1111111111111111,
              "#46039f"
             ],
             [
              0.2222222222222222,
              "#7201a8"
             ],
             [
              0.3333333333333333,
              "#9c179e"
             ],
             [
              0.4444444444444444,
              "#bd3786"
             ],
             [
              0.5555555555555556,
              "#d8576b"
             ],
             [
              0.6666666666666666,
              "#ed7953"
             ],
             [
              0.7777777777777778,
              "#fb9f3a"
             ],
             [
              0.8888888888888888,
              "#fdca26"
             ],
             [
              1,
              "#f0f921"
             ]
            ],
            "type": "contour"
           }
          ],
          "contourcarpet": [
           {
            "colorbar": {
             "outlinewidth": 0,
             "ticks": ""
            },
            "type": "contourcarpet"
           }
          ],
          "heatmap": [
           {
            "colorbar": {
             "outlinewidth": 0,
             "ticks": ""
            },
            "colorscale": [
             [
              0,
              "#0d0887"
             ],
             [
              0.1111111111111111,
              "#46039f"
             ],
             [
              0.2222222222222222,
              "#7201a8"
             ],
             [
              0.3333333333333333,
              "#9c179e"
             ],
             [
              0.4444444444444444,
              "#bd3786"
             ],
             [
              0.5555555555555556,
              "#d8576b"
             ],
             [
              0.6666666666666666,
              "#ed7953"
             ],
             [
              0.7777777777777778,
              "#fb9f3a"
             ],
             [
              0.8888888888888888,
              "#fdca26"
             ],
             [
              1,
              "#f0f921"
             ]
            ],
            "type": "heatmap"
           }
          ],
          "heatmapgl": [
           {
            "colorbar": {
             "outlinewidth": 0,
             "ticks": ""
            },
            "colorscale": [
             [
              0,
              "#0d0887"
             ],
             [
              0.1111111111111111,
              "#46039f"
             ],
             [
              0.2222222222222222,
              "#7201a8"
             ],
             [
              0.3333333333333333,
              "#9c179e"
             ],
             [
              0.4444444444444444,
              "#bd3786"
             ],
             [
              0.5555555555555556,
              "#d8576b"
             ],
             [
              0.6666666666666666,
              "#ed7953"
             ],
             [
              0.7777777777777778,
              "#fb9f3a"
             ],
             [
              0.8888888888888888,
              "#fdca26"
             ],
             [
              1,
              "#f0f921"
             ]
            ],
            "type": "heatmapgl"
           }
          ],
          "histogram": [
           {
            "marker": {
             "pattern": {
              "fillmode": "overlay",
              "size": 10,
              "solidity": 0.2
             }
            },
            "type": "histogram"
           }
          ],
          "histogram2d": [
           {
            "colorbar": {
             "outlinewidth": 0,
             "ticks": ""
            },
            "colorscale": [
             [
              0,
              "#0d0887"
             ],
             [
              0.1111111111111111,
              "#46039f"
             ],
             [
              0.2222222222222222,
              "#7201a8"
             ],
             [
              0.3333333333333333,
              "#9c179e"
             ],
             [
              0.4444444444444444,
              "#bd3786"
             ],
             [
              0.5555555555555556,
              "#d8576b"
             ],
             [
              0.6666666666666666,
              "#ed7953"
             ],
             [
              0.7777777777777778,
              "#fb9f3a"
             ],
             [
              0.8888888888888888,
              "#fdca26"
             ],
             [
              1,
              "#f0f921"
             ]
            ],
            "type": "histogram2d"
           }
          ],
          "histogram2dcontour": [
           {
            "colorbar": {
             "outlinewidth": 0,
             "ticks": ""
            },
            "colorscale": [
             [
              0,
              "#0d0887"
             ],
             [
              0.1111111111111111,
              "#46039f"
             ],
             [
              0.2222222222222222,
              "#7201a8"
             ],
             [
              0.3333333333333333,
              "#9c179e"
             ],
             [
              0.4444444444444444,
              "#bd3786"
             ],
             [
              0.5555555555555556,
              "#d8576b"
             ],
             [
              0.6666666666666666,
              "#ed7953"
             ],
             [
              0.7777777777777778,
              "#fb9f3a"
             ],
             [
              0.8888888888888888,
              "#fdca26"
             ],
             [
              1,
              "#f0f921"
             ]
            ],
            "type": "histogram2dcontour"
           }
          ],
          "mesh3d": [
           {
            "colorbar": {
             "outlinewidth": 0,
             "ticks": ""
            },
            "type": "mesh3d"
           }
          ],
          "parcoords": [
           {
            "line": {
             "colorbar": {
              "outlinewidth": 0,
              "ticks": ""
             }
            },
            "type": "parcoords"
           }
          ],
          "pie": [
           {
            "automargin": true,
            "type": "pie"
           }
          ],
          "scatter": [
           {
            "fillpattern": {
             "fillmode": "overlay",
             "size": 10,
             "solidity": 0.2
            },
            "type": "scatter"
           }
          ],
          "scatter3d": [
           {
            "line": {
             "colorbar": {
              "outlinewidth": 0,
              "ticks": ""
             }
            },
            "marker": {
             "colorbar": {
              "outlinewidth": 0,
              "ticks": ""
             }
            },
            "type": "scatter3d"
           }
          ],
          "scattercarpet": [
           {
            "marker": {
             "colorbar": {
              "outlinewidth": 0,
              "ticks": ""
             }
            },
            "type": "scattercarpet"
           }
          ],
          "scattergeo": [
           {
            "marker": {
             "colorbar": {
              "outlinewidth": 0,
              "ticks": ""
             }
            },
            "type": "scattergeo"
           }
          ],
          "scattergl": [
           {
            "marker": {
             "colorbar": {
              "outlinewidth": 0,
              "ticks": ""
             }
            },
            "type": "scattergl"
           }
          ],
          "scattermapbox": [
           {
            "marker": {
             "colorbar": {
              "outlinewidth": 0,
              "ticks": ""
             }
            },
            "type": "scattermapbox"
           }
          ],
          "scatterpolar": [
           {
            "marker": {
             "colorbar": {
              "outlinewidth": 0,
              "ticks": ""
             }
            },
            "type": "scatterpolar"
           }
          ],
          "scatterpolargl": [
           {
            "marker": {
             "colorbar": {
              "outlinewidth": 0,
              "ticks": ""
             }
            },
            "type": "scatterpolargl"
           }
          ],
          "scatterternary": [
           {
            "marker": {
             "colorbar": {
              "outlinewidth": 0,
              "ticks": ""
             }
            },
            "type": "scatterternary"
           }
          ],
          "surface": [
           {
            "colorbar": {
             "outlinewidth": 0,
             "ticks": ""
            },
            "colorscale": [
             [
              0,
              "#0d0887"
             ],
             [
              0.1111111111111111,
              "#46039f"
             ],
             [
              0.2222222222222222,
              "#7201a8"
             ],
             [
              0.3333333333333333,
              "#9c179e"
             ],
             [
              0.4444444444444444,
              "#bd3786"
             ],
             [
              0.5555555555555556,
              "#d8576b"
             ],
             [
              0.6666666666666666,
              "#ed7953"
             ],
             [
              0.7777777777777778,
              "#fb9f3a"
             ],
             [
              0.8888888888888888,
              "#fdca26"
             ],
             [
              1,
              "#f0f921"
             ]
            ],
            "type": "surface"
           }
          ],
          "table": [
           {
            "cells": {
             "fill": {
              "color": "#EBF0F8"
             },
             "line": {
              "color": "white"
             }
            },
            "header": {
             "fill": {
              "color": "#C8D4E3"
             },
             "line": {
              "color": "white"
             }
            },
            "type": "table"
           }
          ]
         },
         "layout": {
          "annotationdefaults": {
           "arrowcolor": "#2a3f5f",
           "arrowhead": 0,
           "arrowwidth": 1
          },
          "autotypenumbers": "strict",
          "coloraxis": {
           "colorbar": {
            "outlinewidth": 0,
            "ticks": ""
           }
          },
          "colorscale": {
           "diverging": [
            [
             0,
             "#8e0152"
            ],
            [
             0.1,
             "#c51b7d"
            ],
            [
             0.2,
             "#de77ae"
            ],
            [
             0.3,
             "#f1b6da"
            ],
            [
             0.4,
             "#fde0ef"
            ],
            [
             0.5,
             "#f7f7f7"
            ],
            [
             0.6,
             "#e6f5d0"
            ],
            [
             0.7,
             "#b8e186"
            ],
            [
             0.8,
             "#7fbc41"
            ],
            [
             0.9,
             "#4d9221"
            ],
            [
             1,
             "#276419"
            ]
           ],
           "sequential": [
            [
             0,
             "#0d0887"
            ],
            [
             0.1111111111111111,
             "#46039f"
            ],
            [
             0.2222222222222222,
             "#7201a8"
            ],
            [
             0.3333333333333333,
             "#9c179e"
            ],
            [
             0.4444444444444444,
             "#bd3786"
            ],
            [
             0.5555555555555556,
             "#d8576b"
            ],
            [
             0.6666666666666666,
             "#ed7953"
            ],
            [
             0.7777777777777778,
             "#fb9f3a"
            ],
            [
             0.8888888888888888,
             "#fdca26"
            ],
            [
             1,
             "#f0f921"
            ]
           ],
           "sequentialminus": [
            [
             0,
             "#0d0887"
            ],
            [
             0.1111111111111111,
             "#46039f"
            ],
            [
             0.2222222222222222,
             "#7201a8"
            ],
            [
             0.3333333333333333,
             "#9c179e"
            ],
            [
             0.4444444444444444,
             "#bd3786"
            ],
            [
             0.5555555555555556,
             "#d8576b"
            ],
            [
             0.6666666666666666,
             "#ed7953"
            ],
            [
             0.7777777777777778,
             "#fb9f3a"
            ],
            [
             0.8888888888888888,
             "#fdca26"
            ],
            [
             1,
             "#f0f921"
            ]
           ]
          },
          "colorway": [
           "#636efa",
           "#EF553B",
           "#00cc96",
           "#ab63fa",
           "#FFA15A",
           "#19d3f3",
           "#FF6692",
           "#B6E880",
           "#FF97FF",
           "#FECB52"
          ],
          "font": {
           "color": "#2a3f5f"
          },
          "geo": {
           "bgcolor": "white",
           "lakecolor": "white",
           "landcolor": "#E5ECF6",
           "showlakes": true,
           "showland": true,
           "subunitcolor": "white"
          },
          "hoverlabel": {
           "align": "left"
          },
          "hovermode": "closest",
          "mapbox": {
           "style": "light"
          },
          "paper_bgcolor": "white",
          "plot_bgcolor": "#E5ECF6",
          "polar": {
           "angularaxis": {
            "gridcolor": "white",
            "linecolor": "white",
            "ticks": ""
           },
           "bgcolor": "#E5ECF6",
           "radialaxis": {
            "gridcolor": "white",
            "linecolor": "white",
            "ticks": ""
           }
          },
          "scene": {
           "xaxis": {
            "backgroundcolor": "#E5ECF6",
            "gridcolor": "white",
            "gridwidth": 2,
            "linecolor": "white",
            "showbackground": true,
            "ticks": "",
            "zerolinecolor": "white"
           },
           "yaxis": {
            "backgroundcolor": "#E5ECF6",
            "gridcolor": "white",
            "gridwidth": 2,
            "linecolor": "white",
            "showbackground": true,
            "ticks": "",
            "zerolinecolor": "white"
           },
           "zaxis": {
            "backgroundcolor": "#E5ECF6",
            "gridcolor": "white",
            "gridwidth": 2,
            "linecolor": "white",
            "showbackground": true,
            "ticks": "",
            "zerolinecolor": "white"
           }
          },
          "shapedefaults": {
           "line": {
            "color": "#2a3f5f"
           }
          },
          "ternary": {
           "aaxis": {
            "gridcolor": "white",
            "linecolor": "white",
            "ticks": ""
           },
           "baxis": {
            "gridcolor": "white",
            "linecolor": "white",
            "ticks": ""
           },
           "bgcolor": "#E5ECF6",
           "caxis": {
            "gridcolor": "white",
            "linecolor": "white",
            "ticks": ""
           }
          },
          "title": {
           "x": 0.05
          },
          "xaxis": {
           "automargin": true,
           "gridcolor": "white",
           "linecolor": "white",
           "ticks": "",
           "title": {
            "standoff": 15
           },
           "zerolinecolor": "white",
           "zerolinewidth": 2
          },
          "yaxis": {
           "automargin": true,
           "gridcolor": "white",
           "linecolor": "white",
           "ticks": "",
           "title": {
            "standoff": 15
           },
           "zerolinecolor": "white",
           "zerolinewidth": 2
          }
         }
        },
        "title": {
         "text": "Comparison of (Normalized) Advanced Stats among Modern Keepers in their respective domestic leagues (2017~)"
        }
       }
      },
      "text/html": [
       "<div>                            <div id=\"44056a90-1a2c-4778-bbbb-0148fc08eb23\" class=\"plotly-graph-div\" style=\"height:600px; width:100%;\"></div>            <script type=\"text/javascript\">                require([\"plotly\"], function(Plotly) {                    window.PLOTLYENV=window.PLOTLYENV || {};                                    if (document.getElementById(\"44056a90-1a2c-4778-bbbb-0148fc08eb23\")) {                    Plotly.newPlot(                        \"44056a90-1a2c-4778-bbbb-0148fc08eb23\",                        [{\"fill\":\"toself\",\"hovertext\":\"Manuel Neuer\",\"marker\":{\"line\":{\"width\":1.5}},\"name\":\"Manuel Neuer\",\"r\":[0.20754716981132076,0.41666666666666674,0.9999999999999999,1.0000000000000002,0.5454545454545467,1.0,1.0],\"theta\":[\"Crosses_stp%\",\"PSxG Prevention per 90\",\"OPA\\u002f90\",\"AvgDist\",\"pass (15~30 yards)\",\"pass (30 yards \\u003c)\",\"pass (40 yards \\u003c)\"],\"type\":\"scatterpolar\"},{\"fill\":\"toself\",\"hovertext\":\"Alisson Becker\",\"marker\":{\"line\":{\"width\":0.15}},\"name\":\"Alisson Becker\",\"r\":[0.5094339622641508,1.0,0.707207207207207,0.4888888888888887,0.636363636363626,0.7761904761904761,0.7452229299363058],\"theta\":[\"Crosses_stp%\",\"PSxG Prevention per 90\",\"OPA\\u002f90\",\"AvgDist\",\"pass (15~30 yards)\",\"pass (30 yards \\u003c)\",\"pass (40 yards \\u003c)\"],\"type\":\"scatterpolar\"},{\"fill\":\"toself\",\"hovertext\":\"Ederson\",\"marker\":{\"line\":{\"width\":1.5}},\"name\":\"Ederson\",\"r\":[0.8301886792452831,0.0,0.3558558558558559,0.3999999999999999,0.7272727272727195,0.7523809523809524,0.7006369426751595],\"theta\":[\"Crosses_stp%\",\"PSxG Prevention per 90\",\"OPA\\u002f90\",\"AvgDist\",\"pass (15~30 yards)\",\"pass (30 yards \\u003c)\",\"pass (40 yards \\u003c)\"],\"type\":\"scatterpolar\"},{\"fill\":\"toself\",\"hovertext\":\"Thibaut Courtois\",\"marker\":{\"line\":{\"width\":1.5}},\"name\":\"Thibaut Courtois\",\"r\":[0.7358490566037736,0.75,0.11261261261261257,0.05555555555555558,1.0,0.2571428571428571,0.0],\"theta\":[\"Crosses_stp%\",\"PSxG Prevention per 90\",\"OPA\\u002f90\",\"AvgDist\",\"pass (15~30 yards)\",\"pass (30 yards \\u003c)\",\"pass (40 yards \\u003c)\"],\"type\":\"scatterpolar\"},{\"fill\":\"toself\",\"hovertext\":\"Diogo Costa\",\"marker\":{\"line\":{\"width\":1.5}},\"name\":\"Diogo Costa\",\"r\":[1.0,0.75,0.22972972972972971,0.25555555555555576,0.818181818181813,0.39523809523809517,0.5286624203821657],\"theta\":[\"Crosses_stp%\",\"PSxG Prevention per 90\",\"OPA\\u002f90\",\"AvgDist\",\"pass (15~30 yards)\",\"pass (30 yards \\u003c)\",\"pass (40 yards \\u003c)\"],\"type\":\"scatterpolar\"},{\"fill\":\"toself\",\"hovertext\":\"Andre Onana\",\"marker\":{\"line\":{\"width\":1.5}},\"name\":\"Andre Onana\",\"r\":[0.8113207547169812,0.5,0.22522522522522515,0.21111111111111103,0.5454545454545467,0.4476190476190478,0.5541401273885351],\"theta\":[\"Crosses_stp%\",\"PSxG Prevention per 90\",\"OPA\\u002f90\",\"AvgDist\",\"pass (15~30 yards)\",\"pass (30 yards \\u003c)\",\"pass (40 yards \\u003c)\"],\"type\":\"scatterpolar\"},{\"fill\":\"toself\",\"hovertext\":\"David De Gea\",\"marker\":{\"line\":{\"width\":1.5}},\"name\":\"David De Gea\",\"r\":[0.0,0.33333333333333337,0.0,0.0,0.0,0.0,0.2547770700636942],\"theta\":[\"Crosses_stp%\",\"PSxG Prevention per 90\",\"OPA\\u002f90\",\"AvgDist\",\"pass (15~30 yards)\",\"pass (30 yards \\u003c)\",\"pass (40 yards \\u003c)\"],\"type\":\"scatterpolar\"}],                        {\"template\":{\"data\":{\"histogram2dcontour\":[{\"type\":\"histogram2dcontour\",\"colorbar\":{\"outlinewidth\":0,\"ticks\":\"\"},\"colorscale\":[[0.0,\"#0d0887\"],[0.1111111111111111,\"#46039f\"],[0.2222222222222222,\"#7201a8\"],[0.3333333333333333,\"#9c179e\"],[0.4444444444444444,\"#bd3786\"],[0.5555555555555556,\"#d8576b\"],[0.6666666666666666,\"#ed7953\"],[0.7777777777777778,\"#fb9f3a\"],[0.8888888888888888,\"#fdca26\"],[1.0,\"#f0f921\"]]}],\"choropleth\":[{\"type\":\"choropleth\",\"colorbar\":{\"outlinewidth\":0,\"ticks\":\"\"}}],\"histogram2d\":[{\"type\":\"histogram2d\",\"colorbar\":{\"outlinewidth\":0,\"ticks\":\"\"},\"colorscale\":[[0.0,\"#0d0887\"],[0.1111111111111111,\"#46039f\"],[0.2222222222222222,\"#7201a8\"],[0.3333333333333333,\"#9c179e\"],[0.4444444444444444,\"#bd3786\"],[0.5555555555555556,\"#d8576b\"],[0.6666666666666666,\"#ed7953\"],[0.7777777777777778,\"#fb9f3a\"],[0.8888888888888888,\"#fdca26\"],[1.0,\"#f0f921\"]]}],\"heatmap\":[{\"type\":\"heatmap\",\"colorbar\":{\"outlinewidth\":0,\"ticks\":\"\"},\"colorscale\":[[0.0,\"#0d0887\"],[0.1111111111111111,\"#46039f\"],[0.2222222222222222,\"#7201a8\"],[0.3333333333333333,\"#9c179e\"],[0.4444444444444444,\"#bd3786\"],[0.5555555555555556,\"#d8576b\"],[0.6666666666666666,\"#ed7953\"],[0.7777777777777778,\"#fb9f3a\"],[0.8888888888888888,\"#fdca26\"],[1.0,\"#f0f921\"]]}],\"heatmapgl\":[{\"type\":\"heatmapgl\",\"colorbar\":{\"outlinewidth\":0,\"ticks\":\"\"},\"colorscale\":[[0.0,\"#0d0887\"],[0.1111111111111111,\"#46039f\"],[0.2222222222222222,\"#7201a8\"],[0.3333333333333333,\"#9c179e\"],[0.4444444444444444,\"#bd3786\"],[0.5555555555555556,\"#d8576b\"],[0.6666666666666666,\"#ed7953\"],[0.7777777777777778,\"#fb9f3a\"],[0.8888888888888888,\"#fdca26\"],[1.0,\"#f0f921\"]]}],\"contourcarpet\":[{\"type\":\"contourcarpet\",\"colorbar\":{\"outlinewidth\":0,\"ticks\":\"\"}}],\"contour\":[{\"type\":\"contour\",\"colorbar\":{\"outlinewidth\":0,\"ticks\":\"\"},\"colorscale\":[[0.0,\"#0d0887\"],[0.1111111111111111,\"#46039f\"],[0.2222222222222222,\"#7201a8\"],[0.3333333333333333,\"#9c179e\"],[0.4444444444444444,\"#bd3786\"],[0.5555555555555556,\"#d8576b\"],[0.6666666666666666,\"#ed7953\"],[0.7777777777777778,\"#fb9f3a\"],[0.8888888888888888,\"#fdca26\"],[1.0,\"#f0f921\"]]}],\"surface\":[{\"type\":\"surface\",\"colorbar\":{\"outlinewidth\":0,\"ticks\":\"\"},\"colorscale\":[[0.0,\"#0d0887\"],[0.1111111111111111,\"#46039f\"],[0.2222222222222222,\"#7201a8\"],[0.3333333333333333,\"#9c179e\"],[0.4444444444444444,\"#bd3786\"],[0.5555555555555556,\"#d8576b\"],[0.6666666666666666,\"#ed7953\"],[0.7777777777777778,\"#fb9f3a\"],[0.8888888888888888,\"#fdca26\"],[1.0,\"#f0f921\"]]}],\"mesh3d\":[{\"type\":\"mesh3d\",\"colorbar\":{\"outlinewidth\":0,\"ticks\":\"\"}}],\"scatter\":[{\"fillpattern\":{\"fillmode\":\"overlay\",\"size\":10,\"solidity\":0.2},\"type\":\"scatter\"}],\"parcoords\":[{\"type\":\"parcoords\",\"line\":{\"colorbar\":{\"outlinewidth\":0,\"ticks\":\"\"}}}],\"scatterpolargl\":[{\"type\":\"scatterpolargl\",\"marker\":{\"colorbar\":{\"outlinewidth\":0,\"ticks\":\"\"}}}],\"bar\":[{\"error_x\":{\"color\":\"#2a3f5f\"},\"error_y\":{\"color\":\"#2a3f5f\"},\"marker\":{\"line\":{\"color\":\"#E5ECF6\",\"width\":0.5},\"pattern\":{\"fillmode\":\"overlay\",\"size\":10,\"solidity\":0.2}},\"type\":\"bar\"}],\"scattergeo\":[{\"type\":\"scattergeo\",\"marker\":{\"colorbar\":{\"outlinewidth\":0,\"ticks\":\"\"}}}],\"scatterpolar\":[{\"type\":\"scatterpolar\",\"marker\":{\"colorbar\":{\"outlinewidth\":0,\"ticks\":\"\"}}}],\"histogram\":[{\"marker\":{\"pattern\":{\"fillmode\":\"overlay\",\"size\":10,\"solidity\":0.2}},\"type\":\"histogram\"}],\"scattergl\":[{\"type\":\"scattergl\",\"marker\":{\"colorbar\":{\"outlinewidth\":0,\"ticks\":\"\"}}}],\"scatter3d\":[{\"type\":\"scatter3d\",\"line\":{\"colorbar\":{\"outlinewidth\":0,\"ticks\":\"\"}},\"marker\":{\"colorbar\":{\"outlinewidth\":0,\"ticks\":\"\"}}}],\"scattermapbox\":[{\"type\":\"scattermapbox\",\"marker\":{\"colorbar\":{\"outlinewidth\":0,\"ticks\":\"\"}}}],\"scatterternary\":[{\"type\":\"scatterternary\",\"marker\":{\"colorbar\":{\"outlinewidth\":0,\"ticks\":\"\"}}}],\"scattercarpet\":[{\"type\":\"scattercarpet\",\"marker\":{\"colorbar\":{\"outlinewidth\":0,\"ticks\":\"\"}}}],\"carpet\":[{\"aaxis\":{\"endlinecolor\":\"#2a3f5f\",\"gridcolor\":\"white\",\"linecolor\":\"white\",\"minorgridcolor\":\"white\",\"startlinecolor\":\"#2a3f5f\"},\"baxis\":{\"endlinecolor\":\"#2a3f5f\",\"gridcolor\":\"white\",\"linecolor\":\"white\",\"minorgridcolor\":\"white\",\"startlinecolor\":\"#2a3f5f\"},\"type\":\"carpet\"}],\"table\":[{\"cells\":{\"fill\":{\"color\":\"#EBF0F8\"},\"line\":{\"color\":\"white\"}},\"header\":{\"fill\":{\"color\":\"#C8D4E3\"},\"line\":{\"color\":\"white\"}},\"type\":\"table\"}],\"barpolar\":[{\"marker\":{\"line\":{\"color\":\"#E5ECF6\",\"width\":0.5},\"pattern\":{\"fillmode\":\"overlay\",\"size\":10,\"solidity\":0.2}},\"type\":\"barpolar\"}],\"pie\":[{\"automargin\":true,\"type\":\"pie\"}]},\"layout\":{\"autotypenumbers\":\"strict\",\"colorway\":[\"#636efa\",\"#EF553B\",\"#00cc96\",\"#ab63fa\",\"#FFA15A\",\"#19d3f3\",\"#FF6692\",\"#B6E880\",\"#FF97FF\",\"#FECB52\"],\"font\":{\"color\":\"#2a3f5f\"},\"hovermode\":\"closest\",\"hoverlabel\":{\"align\":\"left\"},\"paper_bgcolor\":\"white\",\"plot_bgcolor\":\"#E5ECF6\",\"polar\":{\"bgcolor\":\"#E5ECF6\",\"angularaxis\":{\"gridcolor\":\"white\",\"linecolor\":\"white\",\"ticks\":\"\"},\"radialaxis\":{\"gridcolor\":\"white\",\"linecolor\":\"white\",\"ticks\":\"\"}},\"ternary\":{\"bgcolor\":\"#E5ECF6\",\"aaxis\":{\"gridcolor\":\"white\",\"linecolor\":\"white\",\"ticks\":\"\"},\"baxis\":{\"gridcolor\":\"white\",\"linecolor\":\"white\",\"ticks\":\"\"},\"caxis\":{\"gridcolor\":\"white\",\"linecolor\":\"white\",\"ticks\":\"\"}},\"coloraxis\":{\"colorbar\":{\"outlinewidth\":0,\"ticks\":\"\"}},\"colorscale\":{\"sequential\":[[0.0,\"#0d0887\"],[0.1111111111111111,\"#46039f\"],[0.2222222222222222,\"#7201a8\"],[0.3333333333333333,\"#9c179e\"],[0.4444444444444444,\"#bd3786\"],[0.5555555555555556,\"#d8576b\"],[0.6666666666666666,\"#ed7953\"],[0.7777777777777778,\"#fb9f3a\"],[0.8888888888888888,\"#fdca26\"],[1.0,\"#f0f921\"]],\"sequentialminus\":[[0.0,\"#0d0887\"],[0.1111111111111111,\"#46039f\"],[0.2222222222222222,\"#7201a8\"],[0.3333333333333333,\"#9c179e\"],[0.4444444444444444,\"#bd3786\"],[0.5555555555555556,\"#d8576b\"],[0.6666666666666666,\"#ed7953\"],[0.7777777777777778,\"#fb9f3a\"],[0.8888888888888888,\"#fdca26\"],[1.0,\"#f0f921\"]],\"diverging\":[[0,\"#8e0152\"],[0.1,\"#c51b7d\"],[0.2,\"#de77ae\"],[0.3,\"#f1b6da\"],[0.4,\"#fde0ef\"],[0.5,\"#f7f7f7\"],[0.6,\"#e6f5d0\"],[0.7,\"#b8e186\"],[0.8,\"#7fbc41\"],[0.9,\"#4d9221\"],[1,\"#276419\"]]},\"xaxis\":{\"gridcolor\":\"white\",\"linecolor\":\"white\",\"ticks\":\"\",\"title\":{\"standoff\":15},\"zerolinecolor\":\"white\",\"automargin\":true,\"zerolinewidth\":2},\"yaxis\":{\"gridcolor\":\"white\",\"linecolor\":\"white\",\"ticks\":\"\",\"title\":{\"standoff\":15},\"zerolinecolor\":\"white\",\"automargin\":true,\"zerolinewidth\":2},\"scene\":{\"xaxis\":{\"backgroundcolor\":\"#E5ECF6\",\"gridcolor\":\"white\",\"linecolor\":\"white\",\"showbackground\":true,\"ticks\":\"\",\"zerolinecolor\":\"white\",\"gridwidth\":2},\"yaxis\":{\"backgroundcolor\":\"#E5ECF6\",\"gridcolor\":\"white\",\"linecolor\":\"white\",\"showbackground\":true,\"ticks\":\"\",\"zerolinecolor\":\"white\",\"gridwidth\":2},\"zaxis\":{\"backgroundcolor\":\"#E5ECF6\",\"gridcolor\":\"white\",\"linecolor\":\"white\",\"showbackground\":true,\"ticks\":\"\",\"zerolinecolor\":\"white\",\"gridwidth\":2}},\"shapedefaults\":{\"line\":{\"color\":\"#2a3f5f\"}},\"annotationdefaults\":{\"arrowcolor\":\"#2a3f5f\",\"arrowhead\":0,\"arrowwidth\":1},\"geo\":{\"bgcolor\":\"white\",\"landcolor\":\"#E5ECF6\",\"subunitcolor\":\"white\",\"showland\":true,\"showlakes\":true,\"lakecolor\":\"white\"},\"title\":{\"x\":0.05},\"mapbox\":{\"style\":\"light\"}}},\"polar\":{\"radialaxis\":{\"visible\":false}},\"showlegend\":true,\"title\":{\"text\":\"Comparison of (Normalized) Advanced Stats among Modern Keepers in their respective domestic leagues (2017~)\"},\"height\":600},                        {\"responsive\": true}                    ).then(function(){\n",
       "                            \n",
       "var gd = document.getElementById('44056a90-1a2c-4778-bbbb-0148fc08eb23');\n",
       "var x = new MutationObserver(function (mutations, observer) {{\n",
       "        var display = window.getComputedStyle(gd).display;\n",
       "        if (!display || display === 'none') {{\n",
       "            console.log([gd, 'removed!']);\n",
       "            Plotly.purge(gd);\n",
       "            observer.disconnect();\n",
       "        }}\n",
       "}});\n",
       "\n",
       "// Listen for the removal of the full notebook cells\n",
       "var notebookContainer = gd.closest('#notebook-container');\n",
       "if (notebookContainer) {{\n",
       "    x.observe(notebookContainer, {childList: true});\n",
       "}}\n",
       "\n",
       "// Listen for the clearing of the current output cell\n",
       "var outputEl = gd.closest('.output');\n",
       "if (outputEl) {{\n",
       "    x.observe(outputEl, {childList: true});\n",
       "}}\n",
       "\n",
       "                        })                };                });            </script>        </div>"
      ]
     },
     "metadata": {},
     "output_type": "display_data"
    }
   ],
   "source": [
    "fig2 = go.Figure()\n",
    "\n",
    "fig2.add_trace(go.Scatterpolar(\n",
    "      r=adv_stats.loc['Manuel Neuer'].values,\n",
    "      theta=categories,\n",
    "      fill='toself',\n",
    "      name='Manuel Neuer',\n",
    "     marker_line_width=1.5,\n",
    "    hovertext ='Manuel Neuer'\n",
    "))\n",
    "fig2.add_trace(go.Scatterpolar(\n",
    "      r=adv_stats.loc['Alisson Becker'].values,\n",
    "      theta=categories,\n",
    "      fill='toself',\n",
    "      name='Alisson Becker',\n",
    "     marker_line_width=.15,\n",
    "    hovertext='Alisson Becker'\n",
    "))\n",
    "fig2.add_trace(go.Scatterpolar(\n",
    "      r=adv_stats.loc['Ederson'].values,\n",
    "      theta=categories,\n",
    "      fill='toself',\n",
    "      name='Ederson',\n",
    "     marker_line_width=1.5,\n",
    "    hovertext = 'Ederson'\n",
    "))\n",
    "fig2.add_trace(go.Scatterpolar(\n",
    "      r=adv_stats.loc['Thibaut Courtois'].values,\n",
    "      theta=categories,\n",
    "      fill='toself',\n",
    "      name='Thibaut Courtois',\n",
    "     marker_line_width=1.5,\n",
    "      hovertext='Thibaut Courtois'\n",
    "    \n",
    "))\n",
    "fig2.add_trace(go.Scatterpolar(\n",
    "      r=adv_stats.loc['Diogo Costa'].values,\n",
    "      theta=categories,\n",
    "      fill='toself',\n",
    "      name='Diogo Costa',\n",
    "     marker_line_width=1.5,\n",
    "      hovertext='Diogo Costa'\n",
    "    \n",
    "))\n",
    "fig2.add_trace(go.Scatterpolar(\n",
    "      r=adv_stats.loc['Andre Onana'].values,\n",
    "      theta=categories,\n",
    "      fill='toself',\n",
    "      name='Andre Onana',\n",
    "     marker_line_width=1.5,\n",
    "      hovertext='Andre Onana'\n",
    "    \n",
    "))\n",
    "\n",
    "fig2.add_trace(go.Scatterpolar(\n",
    "      r=adv_stats.loc['David De Gea'].values,\n",
    "      theta=categories,\n",
    "      fill='toself',\n",
    "      name='David De Gea',\n",
    "     marker_line_width=1.5,\n",
    "      hovertext='David De Gea'\n",
    "    \n",
    "))\n",
    "\n",
    "fig2.update_layout(\n",
    "  polar=dict(\n",
    "    radialaxis=dict(\n",
    "      visible=False\n",
    "    )),\n",
    "  showlegend=True\n",
    ")\n",
    "\n",
    "fig2.update_layout(title_text='Comparison of (Normalized) Advanced Stats among Modern Keepers in their respective domestic leagues (2017~)',height=600)\n",
    "\n",
    "fig2.show()"
   ]
  },
  {
   "cell_type": "markdown",
   "id": "6ddfd4a3-ae89-4ba3-87ae-22abf64062ef",
   "metadata": {},
   "source": [
    "### We can see that De Gea is lacking in many areas, coming in dead last for most of these stats barring _PSxG Prevention per 90_ and _pass (40 yards <)_."
   ]
  },
  {
   "cell_type": "markdown",
   "id": "3299fc58-e022-4b27-8ac9-04f7d47c8f73",
   "metadata": {},
   "source": [
    "### Now let's look at the 2022-2023 season across Big 5 European Leagues"
   ]
  },
  {
   "cell_type": "code",
   "execution_count": 680,
   "id": "5f01d9dd-7ea1-4db2-83c4-78bbfc93eb1b",
   "metadata": {},
   "outputs": [],
   "source": [
    "df2223 = pd.read_html('https://fbref.com/en/comps/Big5/keepersadv/players/Big-5-European-Leagues-Stats')"
   ]
  },
  {
   "cell_type": "code",
   "execution_count": 681,
   "id": "4dc4e6f6-1e05-421d-8e44-1cea6052c547",
   "metadata": {},
   "outputs": [],
   "source": [
    "df = df2223[0]"
   ]
  },
  {
   "cell_type": "code",
   "execution_count": 682,
   "id": "73f40bea-af28-421e-8873-69fff2ae6535",
   "metadata": {},
   "outputs": [],
   "source": [
    "# df.columns = [str(i) for i in range(35)]"
   ]
  },
  {
   "cell_type": "code",
   "execution_count": 683,
   "id": "4510a9a4-60f1-4193-b694-36eb0c8744a9",
   "metadata": {},
   "outputs": [],
   "source": [
    "cols = df.columns"
   ]
  },
  {
   "cell_type": "code",
   "execution_count": 684,
   "id": "0176d304-0056-44e9-856c-57abd9176b35",
   "metadata": {},
   "outputs": [],
   "source": [
    "df = df[[cols[1],cols[17],cols[20],cols[29],cols[32],cols[33]]]"
   ]
  },
  {
   "cell_type": "code",
   "execution_count": 685,
   "id": "a8a15a75-a033-47c7-b912-37579f31c46e",
   "metadata": {},
   "outputs": [
    {
     "data": {
      "text/html": [
       "<div>\n",
       "<style scoped>\n",
       "    .dataframe tbody tr th:only-of-type {\n",
       "        vertical-align: middle;\n",
       "    }\n",
       "\n",
       "    .dataframe tbody tr th {\n",
       "        vertical-align: top;\n",
       "    }\n",
       "\n",
       "    .dataframe thead tr th {\n",
       "        text-align: left;\n",
       "    }\n",
       "</style>\n",
       "<table border=\"1\" class=\"dataframe\">\n",
       "  <thead>\n",
       "    <tr>\n",
       "      <th></th>\n",
       "      <th>Unnamed: 1_level_0</th>\n",
       "      <th>Expected</th>\n",
       "      <th>Launched</th>\n",
       "      <th>Crosses</th>\n",
       "      <th colspan=\"2\" halign=\"left\">Sweeper</th>\n",
       "    </tr>\n",
       "    <tr>\n",
       "      <th></th>\n",
       "      <th>Player</th>\n",
       "      <th>/90</th>\n",
       "      <th>Cmp%</th>\n",
       "      <th>Stp</th>\n",
       "      <th>#OPA/90</th>\n",
       "      <th>AvgDist</th>\n",
       "    </tr>\n",
       "  </thead>\n",
       "  <tbody>\n",
       "    <tr>\n",
       "      <th>0</th>\n",
       "      <td>Álvaro Aceves</td>\n",
       "      <td>+0.90</td>\n",
       "      <td>50.0</td>\n",
       "      <td>0</td>\n",
       "      <td>13.85</td>\n",
       "      <td>33.0</td>\n",
       "    </tr>\n",
       "    <tr>\n",
       "      <th>1</th>\n",
       "      <td>Julen Agirrezabala</td>\n",
       "      <td>-0.06</td>\n",
       "      <td>36.6</td>\n",
       "      <td>11</td>\n",
       "      <td>1.33</td>\n",
       "      <td>15.4</td>\n",
       "    </tr>\n",
       "    <tr>\n",
       "      <th>2</th>\n",
       "      <td>Doğan Alemdar</td>\n",
       "      <td>-0.32</td>\n",
       "      <td>34.3</td>\n",
       "      <td>5</td>\n",
       "      <td>1.11</td>\n",
       "      <td>14.8</td>\n",
       "    </tr>\n",
       "    <tr>\n",
       "      <th>3</th>\n",
       "      <td>Alisson</td>\n",
       "      <td>+0.27</td>\n",
       "      <td>41.0</td>\n",
       "      <td>23</td>\n",
       "      <td>2.41</td>\n",
       "      <td>19.8</td>\n",
       "    </tr>\n",
       "    <tr>\n",
       "      <th>4</th>\n",
       "      <td>Alphonse Areola</td>\n",
       "      <td>+0.09</td>\n",
       "      <td>37.8</td>\n",
       "      <td>2</td>\n",
       "      <td>0.29</td>\n",
       "      <td>10.3</td>\n",
       "    </tr>\n",
       "  </tbody>\n",
       "</table>\n",
       "</div>"
      ],
      "text/plain": [
       "   Unnamed: 1_level_0 Expected Launched Crosses Sweeper        \n",
       "               Player      /90     Cmp%     Stp #OPA/90 AvgDist\n",
       "0       Álvaro Aceves    +0.90     50.0       0   13.85    33.0\n",
       "1  Julen Agirrezabala    -0.06     36.6      11    1.33    15.4\n",
       "2       Doğan Alemdar    -0.32     34.3       5    1.11    14.8\n",
       "3             Alisson    +0.27     41.0      23    2.41    19.8\n",
       "4     Alphonse Areola    +0.09     37.8       2    0.29    10.3"
      ]
     },
     "execution_count": 685,
     "metadata": {},
     "output_type": "execute_result"
    }
   ],
   "source": [
    "df.head()"
   ]
  },
  {
   "cell_type": "code",
   "execution_count": 686,
   "id": "25ed71a3-dc97-4030-9dec-237170bef82e",
   "metadata": {},
   "outputs": [
    {
     "data": {
      "text/plain": [
       "Unnamed: 1_level_0  Player     0\n",
       "Expected            /90        2\n",
       "Launched            Cmp%       4\n",
       "Crosses             Stp        2\n",
       "Sweeper             #OPA/90    2\n",
       "                    AvgDist    7\n",
       "dtype: int64"
      ]
     },
     "execution_count": 686,
     "metadata": {},
     "output_type": "execute_result"
    }
   ],
   "source": [
    "df.isna().sum()"
   ]
  },
  {
   "cell_type": "code",
   "execution_count": 687,
   "id": "11bcf39a-798b-425c-99b6-5fc32b9a420f",
   "metadata": {},
   "outputs": [],
   "source": [
    "df = df.dropna()"
   ]
  },
  {
   "cell_type": "code",
   "execution_count": 688,
   "id": "98991b61-57e5-4079-a684-89f9d2c97b40",
   "metadata": {},
   "outputs": [
    {
     "data": {
      "text/plain": [
       "Unnamed: 1_level_0  Player     0\n",
       "Expected            /90        0\n",
       "Launched            Cmp%       0\n",
       "Crosses             Stp        0\n",
       "Sweeper             #OPA/90    0\n",
       "                    AvgDist    0\n",
       "dtype: int64"
      ]
     },
     "execution_count": 688,
     "metadata": {},
     "output_type": "execute_result"
    }
   ],
   "source": [
    "df.isna().sum()"
   ]
  },
  {
   "cell_type": "code",
   "execution_count": 689,
   "id": "f6e8cb1e-1ac1-48ac-9dde-eee05083e7be",
   "metadata": {
    "scrolled": true
   },
   "outputs": [
    {
     "data": {
      "text/html": [
       "<div>\n",
       "<style scoped>\n",
       "    .dataframe tbody tr th:only-of-type {\n",
       "        vertical-align: middle;\n",
       "    }\n",
       "\n",
       "    .dataframe tbody tr th {\n",
       "        vertical-align: top;\n",
       "    }\n",
       "\n",
       "    .dataframe thead th {\n",
       "        text-align: right;\n",
       "    }\n",
       "</style>\n",
       "<table border=\"1\" class=\"dataframe\">\n",
       "  <thead>\n",
       "    <tr style=\"text-align: right;\">\n",
       "      <th></th>\n",
       "      <th>player</th>\n",
       "      <th>PSx90PrevPer90</th>\n",
       "      <th>40+_completion_%</th>\n",
       "      <th>cross_stop_%</th>\n",
       "      <th>sweeper_action_90</th>\n",
       "      <th>sweep_avg_dist</th>\n",
       "    </tr>\n",
       "  </thead>\n",
       "  <tbody>\n",
       "    <tr>\n",
       "      <th>0</th>\n",
       "      <td>Álvaro Aceves</td>\n",
       "      <td>+0.90</td>\n",
       "      <td>50.0</td>\n",
       "      <td>0</td>\n",
       "      <td>13.85</td>\n",
       "      <td>33.0</td>\n",
       "    </tr>\n",
       "    <tr>\n",
       "      <th>1</th>\n",
       "      <td>Julen Agirrezabala</td>\n",
       "      <td>-0.06</td>\n",
       "      <td>36.6</td>\n",
       "      <td>11</td>\n",
       "      <td>1.33</td>\n",
       "      <td>15.4</td>\n",
       "    </tr>\n",
       "    <tr>\n",
       "      <th>2</th>\n",
       "      <td>Doğan Alemdar</td>\n",
       "      <td>-0.32</td>\n",
       "      <td>34.3</td>\n",
       "      <td>5</td>\n",
       "      <td>1.11</td>\n",
       "      <td>14.8</td>\n",
       "    </tr>\n",
       "    <tr>\n",
       "      <th>3</th>\n",
       "      <td>Alisson</td>\n",
       "      <td>+0.27</td>\n",
       "      <td>41.0</td>\n",
       "      <td>23</td>\n",
       "      <td>2.41</td>\n",
       "      <td>19.8</td>\n",
       "    </tr>\n",
       "    <tr>\n",
       "      <th>4</th>\n",
       "      <td>Alphonse Areola</td>\n",
       "      <td>+0.09</td>\n",
       "      <td>37.8</td>\n",
       "      <td>2</td>\n",
       "      <td>0.29</td>\n",
       "      <td>10.3</td>\n",
       "    </tr>\n",
       "  </tbody>\n",
       "</table>\n",
       "</div>"
      ],
      "text/plain": [
       "               player PSx90PrevPer90 40+_completion_% cross_stop_%  \\\n",
       "0       Álvaro Aceves          +0.90             50.0            0   \n",
       "1  Julen Agirrezabala          -0.06             36.6           11   \n",
       "2       Doğan Alemdar          -0.32             34.3            5   \n",
       "3             Alisson          +0.27             41.0           23   \n",
       "4     Alphonse Areola          +0.09             37.8            2   \n",
       "\n",
       "  sweeper_action_90 sweep_avg_dist  \n",
       "0             13.85           33.0  \n",
       "1              1.33           15.4  \n",
       "2              1.11           14.8  \n",
       "3              2.41           19.8  \n",
       "4              0.29           10.3  "
      ]
     },
     "execution_count": 689,
     "metadata": {},
     "output_type": "execute_result"
    }
   ],
   "source": [
    "df.columns = ['player','PSx90PrevPer90','40+_completion_%','cross_stop_%',\"sweeper_action_90\",\"sweep_avg_dist\"]\n",
    "df.head()"
   ]
  },
  {
   "cell_type": "code",
   "execution_count": 690,
   "id": "b7f688fb-cce0-4b46-9bb2-4a56a57da988",
   "metadata": {},
   "outputs": [],
   "source": [
    "df = df[~df['PSx90PrevPer90'].isin(['/90'])]"
   ]
  },
  {
   "cell_type": "code",
   "execution_count": 691,
   "id": "37b18038-95fd-4824-9333-249c24df47d7",
   "metadata": {},
   "outputs": [],
   "source": [
    "df[['PSx90PrevPer90','40+_completion_%', 'cross_stop_%',\n",
    "       'sweeper_action_90', 'sweep_avg_dist']] = df[['PSx90PrevPer90','40+_completion_%', 'cross_stop_%',\n",
    "       'sweeper_action_90', 'sweep_avg_dist']].apply(pd.to_numeric)"
   ]
  },
  {
   "cell_type": "code",
   "execution_count": 692,
   "id": "73ebdb9a-862d-4d39-baf8-3fdd5de51f2b",
   "metadata": {},
   "outputs": [
    {
     "data": {
      "text/html": [
       "<div>\n",
       "<style scoped>\n",
       "    .dataframe tbody tr th:only-of-type {\n",
       "        vertical-align: middle;\n",
       "    }\n",
       "\n",
       "    .dataframe tbody tr th {\n",
       "        vertical-align: top;\n",
       "    }\n",
       "\n",
       "    .dataframe thead th {\n",
       "        text-align: right;\n",
       "    }\n",
       "</style>\n",
       "<table border=\"1\" class=\"dataframe\">\n",
       "  <thead>\n",
       "    <tr style=\"text-align: right;\">\n",
       "      <th></th>\n",
       "      <th>player</th>\n",
       "      <th>PSx90PrevPer90</th>\n",
       "      <th>40+_completion_%</th>\n",
       "      <th>cross_stop_%</th>\n",
       "      <th>sweeper_action_90</th>\n",
       "      <th>sweep_avg_dist</th>\n",
       "    </tr>\n",
       "  </thead>\n",
       "  <tbody>\n",
       "    <tr>\n",
       "      <th>0</th>\n",
       "      <td>Álvaro Aceves</td>\n",
       "      <td>0.90</td>\n",
       "      <td>50.0</td>\n",
       "      <td>0</td>\n",
       "      <td>13.85</td>\n",
       "      <td>33.0</td>\n",
       "    </tr>\n",
       "    <tr>\n",
       "      <th>1</th>\n",
       "      <td>Julen Agirrezabala</td>\n",
       "      <td>-0.06</td>\n",
       "      <td>36.6</td>\n",
       "      <td>11</td>\n",
       "      <td>1.33</td>\n",
       "      <td>15.4</td>\n",
       "    </tr>\n",
       "    <tr>\n",
       "      <th>2</th>\n",
       "      <td>Doğan Alemdar</td>\n",
       "      <td>-0.32</td>\n",
       "      <td>34.3</td>\n",
       "      <td>5</td>\n",
       "      <td>1.11</td>\n",
       "      <td>14.8</td>\n",
       "    </tr>\n",
       "    <tr>\n",
       "      <th>3</th>\n",
       "      <td>Alisson</td>\n",
       "      <td>0.27</td>\n",
       "      <td>41.0</td>\n",
       "      <td>23</td>\n",
       "      <td>2.41</td>\n",
       "      <td>19.8</td>\n",
       "    </tr>\n",
       "    <tr>\n",
       "      <th>4</th>\n",
       "      <td>Alphonse Areola</td>\n",
       "      <td>0.09</td>\n",
       "      <td>37.8</td>\n",
       "      <td>2</td>\n",
       "      <td>0.29</td>\n",
       "      <td>10.3</td>\n",
       "    </tr>\n",
       "    <tr>\n",
       "      <th>...</th>\n",
       "      <td>...</td>\n",
       "      <td>...</td>\n",
       "      <td>...</td>\n",
       "      <td>...</td>\n",
       "      <td>...</td>\n",
       "      <td>...</td>\n",
       "    </tr>\n",
       "    <tr>\n",
       "      <th>205</th>\n",
       "      <td>Sven Ulreich</td>\n",
       "      <td>0.13</td>\n",
       "      <td>34.6</td>\n",
       "      <td>2</td>\n",
       "      <td>1.33</td>\n",
       "      <td>17.5</td>\n",
       "    </tr>\n",
       "    <tr>\n",
       "      <th>206</th>\n",
       "      <td>Guglielmo Vicario</td>\n",
       "      <td>0.09</td>\n",
       "      <td>30.3</td>\n",
       "      <td>34</td>\n",
       "      <td>0.71</td>\n",
       "      <td>11.5</td>\n",
       "    </tr>\n",
       "    <tr>\n",
       "      <th>208</th>\n",
       "      <td>Iván Villar</td>\n",
       "      <td>-0.09</td>\n",
       "      <td>33.9</td>\n",
       "      <td>8</td>\n",
       "      <td>0.74</td>\n",
       "      <td>14.2</td>\n",
       "    </tr>\n",
       "    <tr>\n",
       "      <th>209</th>\n",
       "      <td>Danny Ward</td>\n",
       "      <td>-0.21</td>\n",
       "      <td>31.0</td>\n",
       "      <td>20</td>\n",
       "      <td>1.62</td>\n",
       "      <td>15.9</td>\n",
       "    </tr>\n",
       "    <tr>\n",
       "      <th>210</th>\n",
       "      <td>Axel Werner</td>\n",
       "      <td>-0.82</td>\n",
       "      <td>20.0</td>\n",
       "      <td>1</td>\n",
       "      <td>0.50</td>\n",
       "      <td>14.0</td>\n",
       "    </tr>\n",
       "  </tbody>\n",
       "</table>\n",
       "<p>195 rows × 6 columns</p>\n",
       "</div>"
      ],
      "text/plain": [
       "                 player  PSx90PrevPer90  40+_completion_%  cross_stop_%  \\\n",
       "0         Álvaro Aceves            0.90              50.0             0   \n",
       "1    Julen Agirrezabala           -0.06              36.6            11   \n",
       "2         Doğan Alemdar           -0.32              34.3             5   \n",
       "3               Alisson            0.27              41.0            23   \n",
       "4       Alphonse Areola            0.09              37.8             2   \n",
       "..                  ...             ...               ...           ...   \n",
       "205        Sven Ulreich            0.13              34.6             2   \n",
       "206   Guglielmo Vicario            0.09              30.3            34   \n",
       "208         Iván Villar           -0.09              33.9             8   \n",
       "209          Danny Ward           -0.21              31.0            20   \n",
       "210         Axel Werner           -0.82              20.0             1   \n",
       "\n",
       "     sweeper_action_90  sweep_avg_dist  \n",
       "0                13.85            33.0  \n",
       "1                 1.33            15.4  \n",
       "2                 1.11            14.8  \n",
       "3                 2.41            19.8  \n",
       "4                 0.29            10.3  \n",
       "..                 ...             ...  \n",
       "205               1.33            17.5  \n",
       "206               0.71            11.5  \n",
       "208               0.74            14.2  \n",
       "209               1.62            15.9  \n",
       "210               0.50            14.0  \n",
       "\n",
       "[195 rows x 6 columns]"
      ]
     },
     "execution_count": 692,
     "metadata": {},
     "output_type": "execute_result"
    }
   ],
   "source": [
    "df.head(195)"
   ]
  },
  {
   "cell_type": "code",
   "execution_count": 693,
   "id": "4fc7dac7-7567-4cf3-90dc-e14455887121",
   "metadata": {},
   "outputs": [],
   "source": [
    "from sklearn.decomposition import PCA"
   ]
  },
  {
   "cell_type": "code",
   "execution_count": 694,
   "id": "ea14f85a-87f1-4d82-b5ca-473b7f3e2d57",
   "metadata": {},
   "outputs": [],
   "source": [
    "features = ['PSx90PrevPer90','40+_completion_%', 'cross_stop_%',\n",
    "       'sweeper_action_90', 'sweep_avg_dist']\n",
    "X = df[features]"
   ]
  },
  {
   "cell_type": "code",
   "execution_count": 695,
   "id": "035db5eb-425d-4f8f-bb61-c6b2d22009dc",
   "metadata": {},
   "outputs": [],
   "source": [
    "names = df['player'].values"
   ]
  },
  {
   "cell_type": "code",
   "execution_count": 696,
   "id": "b50d9362-5cbd-4139-9ee9-377fe212effd",
   "metadata": {},
   "outputs": [],
   "source": [
    "from sklearn.cluster import KMeans\n",
    "\n",
    "max_clusters = 20\n",
    "ks = range(2, max_clusters+1)\n",
    "clusterers = [KMeans(n_clusters=k, n_init=50, random_state=109).fit(X) for k in ks] "
   ]
  },
  {
   "cell_type": "code",
   "execution_count": 697,
   "id": "50fe222e-115b-45ab-8b31-50f63e884cb3",
   "metadata": {
    "scrolled": true
   },
   "outputs": [
    {
     "data": {
      "image/png": "[encoded data removed]",
      "text/plain": [
       "<Figure size 640x480 with 1 Axes>"
      ]
     },
     "metadata": {},
     "output_type": "display_data"
    }
   ],
   "source": [
    "inertias = [c.inertia_ for c in clusterers]\n",
    "plt.plot(ks, inertias, 'o-')\n",
    "plt.xticks(ks[::2])\n",
    "plt.xlabel('$k$')\n",
    "plt.ylabel('inertia');\n",
    "plt.suptitle('KMeans Clustering of Keepers')\n",
    "plt.title('Inertia vs Number of Clusters');"
   ]
  },
  {
   "cell_type": "code",
   "execution_count": 698,
   "id": "2bf89098-6afb-4595-a421-f09490b0028b",
   "metadata": {},
   "outputs": [
    {
     "data": {
      "image/png": "[encoded data removed]",
      "text/plain": [
       "<Figure size 640x480 with 1 Axes>"
      ]
     },
     "metadata": {},
     "output_type": "display_data"
    }
   ],
   "source": [
    "from sklearn.metrics import silhouette_score, silhouette_samples\n",
    "\n",
    "sil_scores = [silhouette_score(X, c.labels_) for c in clusterers]\n",
    "plt.plot(ks, sil_scores, 'o-')\n",
    "plt.xticks(ks[::2])\n",
    "plt.xlabel('$k$')\n",
    "plt.ylabel('silhouette score')\n",
    "plt.suptitle('KMeans Clustering of Keepers')\n",
    "plt.title('Silhouette vs Number of Clusters');"
   ]
  },
  {
   "cell_type": "code",
   "execution_count": 699,
   "id": "78d2b7a7-617e-4ef9-b050-d27b1ba9af80",
   "metadata": {},
   "outputs": [],
   "source": [
    "best_k = 6\n",
    "kmeans = KMeans(n_clusters=best_k, n_init=50, random_state=109).fit(X.values)\n",
    "labels = kmeans.labels_"
   ]
  },
  {
   "cell_type": "code",
   "execution_count": 700,
   "id": "370e9672-d11e-43e3-9894-879326735d05",
   "metadata": {},
   "outputs": [
    {
     "data": {
      "text/plain": [
       "(200, 2)"
      ]
     },
     "execution_count": 700,
     "metadata": {},
     "output_type": "execute_result"
    }
   ],
   "source": [
    "pca = PCA(n_components=2).fit(X)\n",
    "# project data onto 2D space spanned by components\n",
    "X_pca = pca.transform(X)\n",
    "X_pca.shape"
   ]
  },
  {
   "cell_type": "code",
   "execution_count": 701,
   "id": "ec6b0d13-14dc-4380-b19e-82e42e66d910",
   "metadata": {},
   "outputs": [],
   "source": [
    "modern_gks =['Alisson','Ederson','David de Gea', 'André Onana','Kepa Arrizabalaga',\n",
    "             'Mike Maignan','Jordan Pickford','Nick Pope','Jason Steele',\n",
    "             'Thibaut Courtois','Dean Henderson','Hugo Lloris','Robert Sánchez','Danny Ward',\n",
    "             'Keylor Navas','Unai Simón','Gianluigi Donnarumma','Jan Oblak','Rui Patrício',\n",
    "            'Aaron Ramsdale','José Sá','Neto','Illan Meslier','Emiliano Martínez','Bernd Leno','Vicente Guaita',\n",
    "            'Gavin Bazunu','Łukasz Fabiański','Fraser Forster','Bernd Leno','Alex McCarthy','Daniel Iversen','Mark Travers',\n",
    "            'Marc-André ter Stegen','Yann Sommer']"
   ]
  },
  {
   "cell_type": "code",
   "execution_count": 702,
   "id": "3075f168-cd64-4032-82cb-242ab8df49ee",
   "metadata": {},
   "outputs": [
    {
     "data": {
      "image/png": "[encoded data removed]",
      "text/plain": [
       "<Figure size 1000x1000 with 1 Axes>"
      ]
     },
     "metadata": {},
     "output_type": "display_data"
    }
   ],
   "source": [
    "plt.figure(figsize=(10,10))\n",
    "\n",
    "# data points colored by cluster labels\n",
    "plt.scatter(X_pca[:, 0], X_pca[:, 1], alpha=.85,c=plt.cm.Accent(labels))\n",
    "\n",
    "# annotate animal names for our random subset \n",
    "for i in range(X_pca.shape[0]):\n",
    "    name = names[i]\n",
    "    if name in modern_gks:\n",
    "        a = plt.annotate(names[i], (X_pca[i]),size=5)\n",
    "\n",
    "plt.xlabel(f'PCA1 ({pca.explained_variance_ratio_[0]:.2%} var explained)')\n",
    "plt.ylabel(f'PCA1 ({pca.explained_variance_ratio_[1]:.2%} var explained)');\n",
    "plt.title('KMeans Clustering of GKs in the Big 5 European Leagues (PCA Projection)');"
   ]
  },
  {
   "cell_type": "markdown",
   "id": "28182ab0-c58f-4c04-8c01-5fed75de4460",
   "metadata": {},
   "source": [
    "### Let's try adding more passing data, namely, completion rate for passes between 15 ~ 30 yards and passes longer than 30 yards and try clustering again."
   ]
  },
  {
   "cell_type": "code",
   "execution_count": 703,
   "id": "930374e0-6f0c-4f9c-88ad-e32bc10d3554",
   "metadata": {},
   "outputs": [],
   "source": [
    "pass_df = pd.read_html('https://fbref.com/en/comps/Big5/passing/players/Big-5-European-Leagues-Stats')\n",
    "passdf = pass_df[0]"
   ]
  },
  {
   "cell_type": "code",
   "execution_count": 704,
   "id": "30dc569f-0537-4d62-a593-6247286d011f",
   "metadata": {},
   "outputs": [
    {
     "data": {
      "text/plain": [
       "MultiIndex([( 'Unnamed: 0_level_0',      'Rk'),\n",
       "            ( 'Unnamed: 1_level_0',  'Player'),\n",
       "            ( 'Unnamed: 2_level_0',  'Nation'),\n",
       "            ( 'Unnamed: 3_level_0',     'Pos'),\n",
       "            ( 'Unnamed: 4_level_0',   'Squad'),\n",
       "            ( 'Unnamed: 5_level_0',    'Comp'),\n",
       "            ( 'Unnamed: 6_level_0',     'Age'),\n",
       "            ( 'Unnamed: 7_level_0',    'Born'),\n",
       "            ( 'Unnamed: 8_level_0',     '90s'),\n",
       "            (              'Total',     'Cmp'),\n",
       "            (              'Total',     'Att'),\n",
       "            (              'Total',    'Cmp%'),\n",
       "            (              'Total', 'TotDist'),\n",
       "            (              'Total', 'PrgDist'),\n",
       "            (              'Short',     'Cmp'),\n",
       "            (              'Short',     'Att'),\n",
       "            (              'Short',    'Cmp%'),\n",
       "            (             'Medium',     'Cmp'),\n",
       "            (             'Medium',     'Att'),\n",
       "            (             'Medium',    'Cmp%'),\n",
       "            (               'Long',     'Cmp'),\n",
       "            (               'Long',     'Att'),\n",
       "            (               'Long',    'Cmp%'),\n",
       "            ('Unnamed: 23_level_0',     'Ast'),\n",
       "            ('Unnamed: 24_level_0',     'xAG'),\n",
       "            ('Unnamed: 25_level_0',      'xA'),\n",
       "            ('Unnamed: 26_level_0',   'A-xAG'),\n",
       "            ('Unnamed: 27_level_0',      'KP'),\n",
       "            ('Unnamed: 28_level_0',     '1/3'),\n",
       "            ('Unnamed: 29_level_0',     'PPA'),\n",
       "            ('Unnamed: 30_level_0',   'CrsPA'),\n",
       "            ('Unnamed: 31_level_0',    'PrgP'),\n",
       "            ('Unnamed: 32_level_0', 'Matches')],\n",
       "           )"
      ]
     },
     "execution_count": 704,
     "metadata": {},
     "output_type": "execute_result"
    }
   ],
   "source": [
    "passdf.columns"
   ]
  },
  {
   "cell_type": "code",
   "execution_count": 705,
   "id": "336e4e10-52c6-463b-a426-6ee0ebf3539b",
   "metadata": {},
   "outputs": [],
   "source": [
    "passdf = passdf[[( 'Unnamed: 1_level_0',  'Player'), ('Unnamed: 3_level_0','Pos'),('Medium','Cmp%'),('Long','Cmp%'),('Unnamed: 28_level_0',     '1/3')]]"
   ]
  },
  {
   "cell_type": "code",
   "execution_count": 706,
   "id": "5369e76f-9a50-45ba-bcd8-c0549f4a1d49",
   "metadata": {},
   "outputs": [
    {
     "data": {
      "text/html": [
       "<div>\n",
       "<style scoped>\n",
       "    .dataframe tbody tr th:only-of-type {\n",
       "        vertical-align: middle;\n",
       "    }\n",
       "\n",
       "    .dataframe tbody tr th {\n",
       "        vertical-align: top;\n",
       "    }\n",
       "\n",
       "    .dataframe thead tr th {\n",
       "        text-align: left;\n",
       "    }\n",
       "</style>\n",
       "<table border=\"1\" class=\"dataframe\">\n",
       "  <thead>\n",
       "    <tr>\n",
       "      <th></th>\n",
       "      <th>Unnamed: 1_level_0</th>\n",
       "      <th>Unnamed: 3_level_0</th>\n",
       "      <th>Medium</th>\n",
       "      <th>Long</th>\n",
       "      <th>Unnamed: 28_level_0</th>\n",
       "    </tr>\n",
       "    <tr>\n",
       "      <th></th>\n",
       "      <th>Player</th>\n",
       "      <th>Pos</th>\n",
       "      <th>Cmp%</th>\n",
       "      <th>Cmp%</th>\n",
       "      <th>1/3</th>\n",
       "    </tr>\n",
       "  </thead>\n",
       "  <tbody>\n",
       "    <tr>\n",
       "      <th>0</th>\n",
       "      <td>Brenden Aaronson</td>\n",
       "      <td>MF,FW</td>\n",
       "      <td>76.9</td>\n",
       "      <td>38.5</td>\n",
       "      <td>47</td>\n",
       "    </tr>\n",
       "    <tr>\n",
       "      <th>1</th>\n",
       "      <td>Paxten Aaronson</td>\n",
       "      <td>MF,DF</td>\n",
       "      <td>60.9</td>\n",
       "      <td>16.7</td>\n",
       "      <td>3</td>\n",
       "    </tr>\n",
       "    <tr>\n",
       "      <th>2</th>\n",
       "      <td>James Abankwah</td>\n",
       "      <td>DF</td>\n",
       "      <td>75.0</td>\n",
       "      <td>40.0</td>\n",
       "      <td>0</td>\n",
       "    </tr>\n",
       "    <tr>\n",
       "      <th>3</th>\n",
       "      <td>George Abbott</td>\n",
       "      <td>MF</td>\n",
       "      <td>NaN</td>\n",
       "      <td>NaN</td>\n",
       "      <td>0</td>\n",
       "    </tr>\n",
       "    <tr>\n",
       "      <th>4</th>\n",
       "      <td>Yunis Abdelhamid</td>\n",
       "      <td>DF</td>\n",
       "      <td>90.1</td>\n",
       "      <td>55.6</td>\n",
       "      <td>155</td>\n",
       "    </tr>\n",
       "  </tbody>\n",
       "</table>\n",
       "</div>"
      ],
      "text/plain": [
       "  Unnamed: 1_level_0 Unnamed: 3_level_0 Medium  Long Unnamed: 28_level_0\n",
       "              Player                Pos   Cmp%  Cmp%                 1/3\n",
       "0   Brenden Aaronson              MF,FW   76.9  38.5                  47\n",
       "1    Paxten Aaronson              MF,DF   60.9  16.7                   3\n",
       "2     James Abankwah                 DF   75.0  40.0                   0\n",
       "3      George Abbott                 MF    NaN   NaN                   0\n",
       "4   Yunis Abdelhamid                 DF   90.1  55.6                 155"
      ]
     },
     "execution_count": 706,
     "metadata": {},
     "output_type": "execute_result"
    }
   ],
   "source": [
    "passdf.head()"
   ]
  },
  {
   "cell_type": "code",
   "execution_count": 707,
   "id": "97e98d34-2c47-4613-b5fe-9d3271660e93",
   "metadata": {},
   "outputs": [],
   "source": [
    "passdf.columns = ['player','pos','med_completion_rate','long_completion_rate','final_third']"
   ]
  },
  {
   "cell_type": "code",
   "execution_count": 711,
   "id": "ef00a7d7-0e5b-4f41-916a-fd31227cadd8",
   "metadata": {},
   "outputs": [],
   "source": [
    "passdf = passdf[passdf['pos'] == 'GK']"
   ]
  },
  {
   "cell_type": "code",
   "execution_count": 712,
   "id": "294f507b-3803-4b22-bc68-bd58bd4a3754",
   "metadata": {},
   "outputs": [],
   "source": [
    "passdf = passdf.dropna()"
   ]
  },
  {
   "cell_type": "code",
   "execution_count": 713,
   "id": "bc3b0488-cf4e-4272-94ed-702d8439dfd7",
   "metadata": {},
   "outputs": [],
   "source": [
    "passdf[['med_completion_rate',\n",
    "       'long_completion_rate', 'final_third']] = passdf[['med_completion_rate',\n",
    "       'long_completion_rate', 'final_third']].apply(pd.to_numeric)"
   ]
  },
  {
   "cell_type": "code",
   "execution_count": 714,
   "id": "e94465c7-130e-43cd-8cb3-10eeb695e1d7",
   "metadata": {},
   "outputs": [],
   "source": [
    "tdf = pd.merge(df, passdf, on=\"player\")"
   ]
  },
  {
   "cell_type": "code",
   "execution_count": 715,
   "id": "ff92a97f-2d48-4071-bf91-aaa005b14fca",
   "metadata": {},
   "outputs": [
    {
     "data": {
      "text/html": [
       "<div>\n",
       "<style scoped>\n",
       "    .dataframe tbody tr th:only-of-type {\n",
       "        vertical-align: middle;\n",
       "    }\n",
       "\n",
       "    .dataframe tbody tr th {\n",
       "        vertical-align: top;\n",
       "    }\n",
       "\n",
       "    .dataframe thead th {\n",
       "        text-align: right;\n",
       "    }\n",
       "</style>\n",
       "<table border=\"1\" class=\"dataframe\">\n",
       "  <thead>\n",
       "    <tr style=\"text-align: right;\">\n",
       "      <th></th>\n",
       "      <th>player</th>\n",
       "      <th>PSx90PrevPer90</th>\n",
       "      <th>40+_completion_%</th>\n",
       "      <th>cross_stop_%</th>\n",
       "      <th>sweeper_action_90</th>\n",
       "      <th>sweep_avg_dist</th>\n",
       "      <th>pos</th>\n",
       "      <th>med_completion_rate</th>\n",
       "      <th>long_completion_rate</th>\n",
       "      <th>final_third</th>\n",
       "    </tr>\n",
       "  </thead>\n",
       "  <tbody>\n",
       "    <tr>\n",
       "      <th>0</th>\n",
       "      <td>Álvaro Aceves</td>\n",
       "      <td>0.90</td>\n",
       "      <td>50.0</td>\n",
       "      <td>0</td>\n",
       "      <td>13.85</td>\n",
       "      <td>33.0</td>\n",
       "      <td>GK</td>\n",
       "      <td>100.0</td>\n",
       "      <td>50.0</td>\n",
       "      <td>0</td>\n",
       "    </tr>\n",
       "    <tr>\n",
       "      <th>1</th>\n",
       "      <td>Julen Agirrezabala</td>\n",
       "      <td>-0.06</td>\n",
       "      <td>36.6</td>\n",
       "      <td>11</td>\n",
       "      <td>1.33</td>\n",
       "      <td>15.4</td>\n",
       "      <td>GK</td>\n",
       "      <td>96.8</td>\n",
       "      <td>43.2</td>\n",
       "      <td>2</td>\n",
       "    </tr>\n",
       "    <tr>\n",
       "      <th>2</th>\n",
       "      <td>Doğan Alemdar</td>\n",
       "      <td>-0.32</td>\n",
       "      <td>34.3</td>\n",
       "      <td>5</td>\n",
       "      <td>1.11</td>\n",
       "      <td>14.8</td>\n",
       "      <td>GK</td>\n",
       "      <td>100.0</td>\n",
       "      <td>36.4</td>\n",
       "      <td>2</td>\n",
       "    </tr>\n",
       "    <tr>\n",
       "      <th>3</th>\n",
       "      <td>Alisson</td>\n",
       "      <td>0.27</td>\n",
       "      <td>41.0</td>\n",
       "      <td>23</td>\n",
       "      <td>2.41</td>\n",
       "      <td>19.8</td>\n",
       "      <td>GK</td>\n",
       "      <td>98.6</td>\n",
       "      <td>58.2</td>\n",
       "      <td>16</td>\n",
       "    </tr>\n",
       "    <tr>\n",
       "      <th>4</th>\n",
       "      <td>Alphonse Areola</td>\n",
       "      <td>0.09</td>\n",
       "      <td>37.8</td>\n",
       "      <td>2</td>\n",
       "      <td>0.29</td>\n",
       "      <td>10.3</td>\n",
       "      <td>GK</td>\n",
       "      <td>100.0</td>\n",
       "      <td>44.2</td>\n",
       "      <td>0</td>\n",
       "    </tr>\n",
       "  </tbody>\n",
       "</table>\n",
       "</div>"
      ],
      "text/plain": [
       "               player  PSx90PrevPer90  40+_completion_%  cross_stop_%  \\\n",
       "0       Álvaro Aceves            0.90              50.0             0   \n",
       "1  Julen Agirrezabala           -0.06              36.6            11   \n",
       "2       Doğan Alemdar           -0.32              34.3             5   \n",
       "3             Alisson            0.27              41.0            23   \n",
       "4     Alphonse Areola            0.09              37.8             2   \n",
       "\n",
       "   sweeper_action_90  sweep_avg_dist pos  med_completion_rate  \\\n",
       "0              13.85            33.0  GK                100.0   \n",
       "1               1.33            15.4  GK                 96.8   \n",
       "2               1.11            14.8  GK                100.0   \n",
       "3               2.41            19.8  GK                 98.6   \n",
       "4               0.29            10.3  GK                100.0   \n",
       "\n",
       "   long_completion_rate  final_third  \n",
       "0                  50.0            0  \n",
       "1                  43.2            2  \n",
       "2                  36.4            2  \n",
       "3                  58.2           16  \n",
       "4                  44.2            0  "
      ]
     },
     "execution_count": 715,
     "metadata": {},
     "output_type": "execute_result"
    }
   ],
   "source": [
    "tdf.head()"
   ]
  },
  {
   "cell_type": "code",
   "execution_count": 716,
   "id": "5e9c5e14-2476-48d9-b6de-3ccf0a631894",
   "metadata": {},
   "outputs": [],
   "source": [
    "categories = ['PSx90PrevPer90', '40+_completion_%', 'cross_stop_%',\n",
    "       'sweeper_action_90', 'sweep_avg_dist',\n",
    "       'med_completion_rate', 'long_completion_rate', 'final_third']"
   ]
  },
  {
   "cell_type": "code",
   "execution_count": 717,
   "id": "a091ff08-43ed-4b80-aa2b-7475cc0a7188",
   "metadata": {},
   "outputs": [],
   "source": [
    "for cat in categories:\n",
    "    tdf[[cat]] = scaler.fit_transform(tdf[[cat]])"
   ]
  },
  {
   "cell_type": "code",
   "execution_count": 718,
   "id": "a218aa51-5e42-4a07-b479-f171e1ec99d3",
   "metadata": {},
   "outputs": [
    {
     "data": {
      "text/plain": [
       "(211, 10)"
      ]
     },
     "execution_count": 718,
     "metadata": {},
     "output_type": "execute_result"
    }
   ],
   "source": [
    "tdf.shape"
   ]
  },
  {
   "cell_type": "code",
   "execution_count": 719,
   "id": "90e059ee-0e4b-4d2a-905c-68fca5f9e59f",
   "metadata": {},
   "outputs": [
    {
     "data": {
      "text/plain": [
       "Index(['player', 'PSx90PrevPer90', '40+_completion_%', 'cross_stop_%',\n",
       "       'sweeper_action_90', 'sweep_avg_dist', 'pos', 'med_completion_rate',\n",
       "       'long_completion_rate', 'final_third'],\n",
       "      dtype='object')"
      ]
     },
     "execution_count": 719,
     "metadata": {},
     "output_type": "execute_result"
    }
   ],
   "source": [
    "tdf.columns"
   ]
  },
  {
   "cell_type": "code",
   "execution_count": 720,
   "id": "741213f7-f9c2-474d-b21c-2cea4f18123e",
   "metadata": {},
   "outputs": [],
   "source": [
    "total_features = ['PSx90PrevPer90', '40+_completion_%', 'cross_stop_%',\n",
    "       'sweeper_action_90', 'sweep_avg_dist',\n",
    "       'med_completion_rate', 'long_completion_rate', 'final_third']"
   ]
  },
  {
   "cell_type": "code",
   "execution_count": 721,
   "id": "14501ebc-c55a-440c-a0af-d3a26942c5ee",
   "metadata": {},
   "outputs": [],
   "source": [
    "X = tdf[total_features]\n",
    "\n",
    "clusterers = [KMeans(n_clusters=k, n_init=50, random_state=109).fit(X) for k in ks] "
   ]
  },
  {
   "cell_type": "code",
   "execution_count": 722,
   "id": "91c32f3a-5765-4d85-a036-db4db3b7dead",
   "metadata": {},
   "outputs": [
    {
     "data": {
      "image/png": "[encoded data removed]",
      "text/plain": [
       "<Figure size 640x480 with 1 Axes>"
      ]
     },
     "metadata": {},
     "output_type": "display_data"
    }
   ],
   "source": [
    "inertias = [c.inertia_ for c in clusterers]\n",
    "plt.plot(ks, inertias, 'o-')\n",
    "plt.xticks(ks[::2])\n",
    "plt.xlabel('$k$')\n",
    "plt.ylabel('inertia');\n",
    "plt.suptitle('KMeans Clustering of Keepers')\n",
    "plt.title('Inertia vs Number of Clusters');"
   ]
  },
  {
   "cell_type": "code",
   "execution_count": 723,
   "id": "0c7a7078-a9ee-46b7-857f-fda263b3d5de",
   "metadata": {},
   "outputs": [
    {
     "data": {
      "image/png": "[encoded data removed]",
      "text/plain": [
       "<Figure size 640x480 with 1 Axes>"
      ]
     },
     "metadata": {},
     "output_type": "display_data"
    }
   ],
   "source": [
    "sil_scores = [silhouette_score(X, c.labels_) for c in clusterers]\n",
    "plt.plot(ks, sil_scores, 'o-')\n",
    "plt.xticks(ks[::2])\n",
    "plt.xlabel('$k$')\n",
    "plt.ylabel('silhouette score')\n",
    "plt.suptitle('KMeans Clustering of Keepers')\n",
    "plt.title('Silhouette vs Number of Clusters');"
   ]
  },
  {
   "cell_type": "code",
   "execution_count": 724,
   "id": "6272130b-4d8c-400c-a70a-74280cfa5234",
   "metadata": {},
   "outputs": [],
   "source": [
    "best_k = 4\n",
    "kmeans = KMeans(n_clusters=best_k, n_init=50, random_state=109).fit(X.values)\n",
    "labels = kmeans.labels_"
   ]
  },
  {
   "cell_type": "code",
   "execution_count": 725,
   "id": "282296d9-a829-46d7-bb39-b89cb3ad0501",
   "metadata": {},
   "outputs": [
    {
     "data": {
      "text/plain": [
       "(211, 2)"
      ]
     },
     "execution_count": 725,
     "metadata": {},
     "output_type": "execute_result"
    }
   ],
   "source": [
    "pca = PCA(n_components=2).fit(X)\n",
    "# project data onto 2D space spanned by components\n",
    "X_pca = pca.transform(X)\n",
    "X_pca.shape"
   ]
  },
  {
   "cell_type": "code",
   "execution_count": 726,
   "id": "e06c799c-7a31-4997-9acf-140de291c111",
   "metadata": {},
   "outputs": [],
   "source": [
    "names = tdf['player'].values"
   ]
  },
  {
   "cell_type": "code",
   "execution_count": 727,
   "id": "24f74fa5-38af-4cbb-9462-af5abe0570db",
   "metadata": {},
   "outputs": [
    {
     "data": {
      "image/png": "[encoded data removed]",
      "text/plain": [
       "<Figure size 1000x1000 with 1 Axes>"
      ]
     },
     "metadata": {},
     "output_type": "display_data"
    }
   ],
   "source": [
    "plt.figure(figsize=(10,10))\n",
    "\n",
    "# data points colored by cluster labels\n",
    "plt.scatter(X_pca[:, 0], X_pca[:, 1], alpha=.85,c=plt.cm.Accent(labels))\n",
    "\n",
    "# annotate animal names for our random subset \n",
    "for i in range(X_pca.shape[0]):\n",
    "    name = names[i]\n",
    "    if name in modern_gks:\n",
    "        a = plt.annotate(names[i], (X_pca[i]),size=5)\n",
    "\n",
    "plt.xlabel(f'PCA1 ({pca.explained_variance_ratio_[0]:.2%} var explained)')\n",
    "plt.ylabel(f'PCA1 ({pca.explained_variance_ratio_[1]:.2%} var explained)');\n",
    "plt.title('KMeans Clustering of GKs in the Big 5 European Leagues (PCA Projection)');"
   ]
  },
  {
   "cell_type": "markdown",
   "id": "9e0e4c81-b713-4fd5-9629-b261ca7e5fe5",
   "metadata": {},
   "source": [
    "#### With the passing data included, I'm not sure how I feel about De Gea's company! Takeaways:\n",
    "\n",
    "1. Dean Henderson might not be the upgrade on De Gea as some people might think he could be, based on this analysis. He doesn't necessarily bring a different type of a playing style, either.\n",
    "2. Again, based on this clustering scheme, this gives some idea as to how different De Gea's profile might be compared to those of Alisson, Ederson, Onana, Unai Simon, and other more proactive keepers.\n",
    "3. Many goalkeepers that play for top teams seem to have their goalkeepers in the orange and purple groups, and not the one De Gea belongs to"
   ]
  },
  {
   "cell_type": "markdown",
   "id": "97069b38-7756-4a29-b328-4e91de581615",
   "metadata": {},
   "source": [
    "## A look inside the cluster groups"
   ]
  },
  {
   "cell_type": "code",
   "execution_count": 729,
   "id": "0d5a3c96-416e-409c-be78-3fddf0f7dbb4",
   "metadata": {},
   "outputs": [],
   "source": [
    "tdf['group'] = labels"
   ]
  },
  {
   "cell_type": "code",
   "execution_count": 730,
   "id": "4faf2d51-276d-4827-a661-c924636e4ffa",
   "metadata": {},
   "outputs": [
    {
     "data": {
      "text/html": [
       "<div>\n",
       "<style scoped>\n",
       "    .dataframe tbody tr th:only-of-type {\n",
       "        vertical-align: middle;\n",
       "    }\n",
       "\n",
       "    .dataframe tbody tr th {\n",
       "        vertical-align: top;\n",
       "    }\n",
       "\n",
       "    .dataframe thead th {\n",
       "        text-align: right;\n",
       "    }\n",
       "</style>\n",
       "<table border=\"1\" class=\"dataframe\">\n",
       "  <thead>\n",
       "    <tr style=\"text-align: right;\">\n",
       "      <th></th>\n",
       "      <th>PSx90PrevPer90</th>\n",
       "      <th>40+_completion_%</th>\n",
       "      <th>cross_stop_%</th>\n",
       "      <th>sweeper_action_90</th>\n",
       "      <th>sweep_avg_dist</th>\n",
       "      <th>med_completion_rate</th>\n",
       "      <th>long_completion_rate</th>\n",
       "      <th>final_third</th>\n",
       "      <th>group</th>\n",
       "    </tr>\n",
       "  </thead>\n",
       "  <tbody>\n",
       "    <tr>\n",
       "      <th>count</th>\n",
       "      <td>211.000000</td>\n",
       "      <td>211.000000</td>\n",
       "      <td>211.000000</td>\n",
       "      <td>211.000000</td>\n",
       "      <td>211.000000</td>\n",
       "      <td>211.000000</td>\n",
       "      <td>211.000000</td>\n",
       "      <td>211.000000</td>\n",
       "      <td>211.000000</td>\n",
       "    </tr>\n",
       "    <tr>\n",
       "      <th>mean</th>\n",
       "      <td>0.571263</td>\n",
       "      <td>0.367934</td>\n",
       "      <td>0.240916</td>\n",
       "      <td>0.082701</td>\n",
       "      <td>0.362921</td>\n",
       "      <td>0.855318</td>\n",
       "      <td>0.463349</td>\n",
       "      <td>0.083810</td>\n",
       "      <td>0.886256</td>\n",
       "    </tr>\n",
       "    <tr>\n",
       "      <th>std</th>\n",
       "      <td>0.108922</td>\n",
       "      <td>0.098860</td>\n",
       "      <td>0.212787</td>\n",
       "      <td>0.079110</td>\n",
       "      <td>0.123928</td>\n",
       "      <td>0.154749</td>\n",
       "      <td>0.162267</td>\n",
       "      <td>0.122601</td>\n",
       "      <td>0.903090</td>\n",
       "    </tr>\n",
       "    <tr>\n",
       "      <th>min</th>\n",
       "      <td>0.000000</td>\n",
       "      <td>0.000000</td>\n",
       "      <td>0.000000</td>\n",
       "      <td>0.000000</td>\n",
       "      <td>0.000000</td>\n",
       "      <td>0.000000</td>\n",
       "      <td>0.000000</td>\n",
       "      <td>0.000000</td>\n",
       "      <td>0.000000</td>\n",
       "    </tr>\n",
       "    <tr>\n",
       "      <th>25%</th>\n",
       "      <td>0.530997</td>\n",
       "      <td>0.317500</td>\n",
       "      <td>0.041667</td>\n",
       "      <td>0.049458</td>\n",
       "      <td>0.298305</td>\n",
       "      <td>0.800000</td>\n",
       "      <td>0.350833</td>\n",
       "      <td>0.007353</td>\n",
       "      <td>0.000000</td>\n",
       "    </tr>\n",
       "    <tr>\n",
       "      <th>50%</th>\n",
       "      <td>0.582210</td>\n",
       "      <td>0.359000</td>\n",
       "      <td>0.216667</td>\n",
       "      <td>0.072202</td>\n",
       "      <td>0.362712</td>\n",
       "      <td>0.880000</td>\n",
       "      <td>0.456667</td>\n",
       "      <td>0.044118</td>\n",
       "      <td>1.000000</td>\n",
       "    </tr>\n",
       "    <tr>\n",
       "      <th>75%</th>\n",
       "      <td>0.618598</td>\n",
       "      <td>0.412500</td>\n",
       "      <td>0.366667</td>\n",
       "      <td>0.102527</td>\n",
       "      <td>0.430508</td>\n",
       "      <td>0.944000</td>\n",
       "      <td>0.555833</td>\n",
       "      <td>0.117647</td>\n",
       "      <td>2.000000</td>\n",
       "    </tr>\n",
       "    <tr>\n",
       "      <th>max</th>\n",
       "      <td>1.000000</td>\n",
       "      <td>1.000000</td>\n",
       "      <td>1.000000</td>\n",
       "      <td>1.000000</td>\n",
       "      <td>1.000000</td>\n",
       "      <td>1.000000</td>\n",
       "      <td>1.000000</td>\n",
       "      <td>1.000000</td>\n",
       "      <td>3.000000</td>\n",
       "    </tr>\n",
       "  </tbody>\n",
       "</table>\n",
       "</div>"
      ],
      "text/plain": [
       "       PSx90PrevPer90  40+_completion_%  cross_stop_%  sweeper_action_90  \\\n",
       "count      211.000000        211.000000    211.000000         211.000000   \n",
       "mean         0.571263          0.367934      0.240916           0.082701   \n",
       "std          0.108922          0.098860      0.212787           0.079110   \n",
       "min          0.000000          0.000000      0.000000           0.000000   \n",
       "25%          0.530997          0.317500      0.041667           0.049458   \n",
       "50%          0.582210          0.359000      0.216667           0.072202   \n",
       "75%          0.618598          0.412500      0.366667           0.102527   \n",
       "max          1.000000          1.000000      1.000000           1.000000   \n",
       "\n",
       "       sweep_avg_dist  med_completion_rate  long_completion_rate  final_third  \\\n",
       "count      211.000000           211.000000            211.000000   211.000000   \n",
       "mean         0.362921             0.855318              0.463349     0.083810   \n",
       "std          0.123928             0.154749              0.162267     0.122601   \n",
       "min          0.000000             0.000000              0.000000     0.000000   \n",
       "25%          0.298305             0.800000              0.350833     0.007353   \n",
       "50%          0.362712             0.880000              0.456667     0.044118   \n",
       "75%          0.430508             0.944000              0.555833     0.117647   \n",
       "max          1.000000             1.000000              1.000000     1.000000   \n",
       "\n",
       "            group  \n",
       "count  211.000000  \n",
       "mean     0.886256  \n",
       "std      0.903090  \n",
       "min      0.000000  \n",
       "25%      0.000000  \n",
       "50%      1.000000  \n",
       "75%      2.000000  \n",
       "max      3.000000  "
      ]
     },
     "execution_count": 730,
     "metadata": {},
     "output_type": "execute_result"
    }
   ],
   "source": [
    "tdf.describe()"
   ]
  },
  {
   "cell_type": "code",
   "execution_count": 731,
   "id": "c38a3730-4adc-4c0d-9b76-e6276c77cd34",
   "metadata": {},
   "outputs": [],
   "source": [
    "group1 = tdf[tdf['group']==0]\n",
    "group2 = tdf[tdf['group']==1]\n",
    "group3 = tdf[tdf['group']==2]\n",
    "group4 = tdf[tdf['group']==3]"
   ]
  },
  {
   "cell_type": "code",
   "execution_count": 732,
   "id": "1e233ff5-5ae1-4a21-9129-a5e78f34c75e",
   "metadata": {},
   "outputs": [],
   "source": [
    "df1 =group1.describe()\n",
    "df2 =group2.describe()\n",
    "df3 =group3.describe()\n",
    "df4 =group4.describe()"
   ]
  },
  {
   "cell_type": "code",
   "execution_count": 733,
   "id": "233443c3-80b9-4b01-bcf7-f947bea1b762",
   "metadata": {
    "scrolled": true
   },
   "outputs": [
    {
     "data": {
      "text/html": [
       "<div>\n",
       "<style scoped>\n",
       "    .dataframe tbody tr th:only-of-type {\n",
       "        vertical-align: middle;\n",
       "    }\n",
       "\n",
       "    .dataframe tbody tr th {\n",
       "        vertical-align: top;\n",
       "    }\n",
       "\n",
       "    .dataframe thead th {\n",
       "        text-align: right;\n",
       "    }\n",
       "</style>\n",
       "<table border=\"1\" class=\"dataframe\">\n",
       "  <thead>\n",
       "    <tr style=\"text-align: right;\">\n",
       "      <th></th>\n",
       "      <th>PSx90PrevPer90</th>\n",
       "      <th>40+_completion_%</th>\n",
       "      <th>cross_stop_%</th>\n",
       "      <th>sweeper_action_90</th>\n",
       "      <th>sweep_avg_dist</th>\n",
       "      <th>med_completion_rate</th>\n",
       "      <th>long_completion_rate</th>\n",
       "      <th>final_third</th>\n",
       "      <th>group</th>\n",
       "    </tr>\n",
       "  </thead>\n",
       "  <tbody>\n",
       "    <tr>\n",
       "      <th>count</th>\n",
       "      <td>90.000000</td>\n",
       "      <td>90.000000</td>\n",
       "      <td>90.000000</td>\n",
       "      <td>90.000000</td>\n",
       "      <td>90.000000</td>\n",
       "      <td>90.000000</td>\n",
       "      <td>90.000000</td>\n",
       "      <td>90.000000</td>\n",
       "      <td>90.0</td>\n",
       "    </tr>\n",
       "    <tr>\n",
       "      <th>mean</th>\n",
       "      <td>0.567355</td>\n",
       "      <td>0.317756</td>\n",
       "      <td>0.142407</td>\n",
       "      <td>0.069226</td>\n",
       "      <td>0.327985</td>\n",
       "      <td>0.898311</td>\n",
       "      <td>0.375870</td>\n",
       "      <td>0.041748</td>\n",
       "      <td>0.0</td>\n",
       "    </tr>\n",
       "    <tr>\n",
       "      <th>std</th>\n",
       "      <td>0.119779</td>\n",
       "      <td>0.076589</td>\n",
       "      <td>0.109794</td>\n",
       "      <td>0.048834</td>\n",
       "      <td>0.100512</td>\n",
       "      <td>0.093820</td>\n",
       "      <td>0.111326</td>\n",
       "      <td>0.045405</td>\n",
       "      <td>0.0</td>\n",
       "    </tr>\n",
       "    <tr>\n",
       "      <th>min</th>\n",
       "      <td>0.000000</td>\n",
       "      <td>0.000000</td>\n",
       "      <td>0.000000</td>\n",
       "      <td>0.000000</td>\n",
       "      <td>0.000000</td>\n",
       "      <td>0.640000</td>\n",
       "      <td>0.000000</td>\n",
       "      <td>0.000000</td>\n",
       "      <td>0.0</td>\n",
       "    </tr>\n",
       "    <tr>\n",
       "      <th>25%</th>\n",
       "      <td>0.528302</td>\n",
       "      <td>0.296250</td>\n",
       "      <td>0.033333</td>\n",
       "      <td>0.041155</td>\n",
       "      <td>0.274576</td>\n",
       "      <td>0.840000</td>\n",
       "      <td>0.316667</td>\n",
       "      <td>0.007353</td>\n",
       "      <td>0.0</td>\n",
       "    </tr>\n",
       "    <tr>\n",
       "      <th>50%</th>\n",
       "      <td>0.578167</td>\n",
       "      <td>0.330000</td>\n",
       "      <td>0.108333</td>\n",
       "      <td>0.066426</td>\n",
       "      <td>0.342373</td>\n",
       "      <td>0.908000</td>\n",
       "      <td>0.379167</td>\n",
       "      <td>0.029412</td>\n",
       "      <td>0.0</td>\n",
       "    </tr>\n",
       "    <tr>\n",
       "      <th>75%</th>\n",
       "      <td>0.623989</td>\n",
       "      <td>0.351000</td>\n",
       "      <td>0.233333</td>\n",
       "      <td>0.090794</td>\n",
       "      <td>0.389831</td>\n",
       "      <td>1.000000</td>\n",
       "      <td>0.462500</td>\n",
       "      <td>0.056985</td>\n",
       "      <td>0.0</td>\n",
       "    </tr>\n",
       "    <tr>\n",
       "      <th>max</th>\n",
       "      <td>1.000000</td>\n",
       "      <td>0.467000</td>\n",
       "      <td>0.383333</td>\n",
       "      <td>0.361011</td>\n",
       "      <td>0.603390</td>\n",
       "      <td>1.000000</td>\n",
       "      <td>0.575000</td>\n",
       "      <td>0.235294</td>\n",
       "      <td>0.0</td>\n",
       "    </tr>\n",
       "  </tbody>\n",
       "</table>\n",
       "</div>"
      ],
      "text/plain": [
       "       PSx90PrevPer90  40+_completion_%  cross_stop_%  sweeper_action_90  \\\n",
       "count       90.000000         90.000000     90.000000          90.000000   \n",
       "mean         0.567355          0.317756      0.142407           0.069226   \n",
       "std          0.119779          0.076589      0.109794           0.048834   \n",
       "min          0.000000          0.000000      0.000000           0.000000   \n",
       "25%          0.528302          0.296250      0.033333           0.041155   \n",
       "50%          0.578167          0.330000      0.108333           0.066426   \n",
       "75%          0.623989          0.351000      0.233333           0.090794   \n",
       "max          1.000000          0.467000      0.383333           0.361011   \n",
       "\n",
       "       sweep_avg_dist  med_completion_rate  long_completion_rate  final_third  \\\n",
       "count       90.000000            90.000000             90.000000    90.000000   \n",
       "mean         0.327985             0.898311              0.375870     0.041748   \n",
       "std          0.100512             0.093820              0.111326     0.045405   \n",
       "min          0.000000             0.640000              0.000000     0.000000   \n",
       "25%          0.274576             0.840000              0.316667     0.007353   \n",
       "50%          0.342373             0.908000              0.379167     0.029412   \n",
       "75%          0.389831             1.000000              0.462500     0.056985   \n",
       "max          0.603390             1.000000              0.575000     0.235294   \n",
       "\n",
       "       group  \n",
       "count   90.0  \n",
       "mean     0.0  \n",
       "std      0.0  \n",
       "min      0.0  \n",
       "25%      0.0  \n",
       "50%      0.0  \n",
       "75%      0.0  \n",
       "max      0.0  "
      ]
     },
     "execution_count": 733,
     "metadata": {},
     "output_type": "execute_result"
    }
   ],
   "source": [
    "df1.head(8)"
   ]
  },
  {
   "cell_type": "code",
   "execution_count": 734,
   "id": "d60d9e13-5df4-4bf4-8051-880e0b7417c5",
   "metadata": {},
   "outputs": [
    {
     "data": {
      "text/html": [
       "<div>\n",
       "<style scoped>\n",
       "    .dataframe tbody tr th:only-of-type {\n",
       "        vertical-align: middle;\n",
       "    }\n",
       "\n",
       "    .dataframe tbody tr th {\n",
       "        vertical-align: top;\n",
       "    }\n",
       "\n",
       "    .dataframe thead th {\n",
       "        text-align: right;\n",
       "    }\n",
       "</style>\n",
       "<table border=\"1\" class=\"dataframe\">\n",
       "  <thead>\n",
       "    <tr style=\"text-align: right;\">\n",
       "      <th></th>\n",
       "      <th>player</th>\n",
       "      <th>PSx90PrevPer90</th>\n",
       "      <th>40+_completion_%</th>\n",
       "      <th>cross_stop_%</th>\n",
       "      <th>sweeper_action_90</th>\n",
       "      <th>sweep_avg_dist</th>\n",
       "      <th>pos</th>\n",
       "      <th>med_completion_rate</th>\n",
       "      <th>long_completion_rate</th>\n",
       "      <th>final_third</th>\n",
       "      <th>group</th>\n",
       "    </tr>\n",
       "  </thead>\n",
       "  <tbody>\n",
       "    <tr>\n",
       "      <th>60</th>\n",
       "      <td>David de Gea</td>\n",
       "      <td>0.584906</td>\n",
       "      <td>0.314</td>\n",
       "      <td>0.25</td>\n",
       "      <td>0.06065</td>\n",
       "      <td>0.383051</td>\n",
       "      <td>GK</td>\n",
       "      <td>0.84</td>\n",
       "      <td>0.393333</td>\n",
       "      <td>0.051471</td>\n",
       "      <td>0</td>\n",
       "    </tr>\n",
       "  </tbody>\n",
       "</table>\n",
       "</div>"
      ],
      "text/plain": [
       "          player  PSx90PrevPer90  40+_completion_%  cross_stop_%  \\\n",
       "60  David de Gea        0.584906             0.314          0.25   \n",
       "\n",
       "    sweeper_action_90  sweep_avg_dist pos  med_completion_rate  \\\n",
       "60            0.06065        0.383051  GK                 0.84   \n",
       "\n",
       "    long_completion_rate  final_third  group  \n",
       "60              0.393333     0.051471      0  "
      ]
     },
     "execution_count": 734,
     "metadata": {},
     "output_type": "execute_result"
    }
   ],
   "source": [
    "tdf[tdf['player']=='David de Gea']"
   ]
  },
  {
   "cell_type": "markdown",
   "id": "81e72882-c577-418b-9aff-993559163e86",
   "metadata": {},
   "source": [
    "## De Gea is in Group 1; let's see how their group compared to the others"
   ]
  },
  {
   "cell_type": "code",
   "execution_count": 735,
   "id": "eaaca156-576b-4128-8dfa-0b4decdb6531",
   "metadata": {},
   "outputs": [
    {
     "data": {
      "application/vnd.plotly.v1+json": {
       "config": {
        "plotlyServerURL": "https://plot.ly"
       },
       "data": [
        {
         "fill": "toself",
         "hovertext": "Group 1",
         "marker": {
          "line": {
           "width": 1.5
          }
         },
         "name": "Group 1",
         "r": [
          0.5673554956573825,
          0.31775555555555557,
          0.14240740740740745,
          0.06922583233052547,
          0.327984934086629,
          0.8983111111111113,
          0.37587037037037047,
          0.04174836601307189,
          0
         ],
         "theta": [
          "PSx90PrevPer90",
          "40+_completion_%",
          "cross_stop_%",
          "sweeper_action_90",
          "sweep_avg_dist",
          "med_completion_rate",
          "long_completion_rate",
          "final_third"
         ],
         "type": "scatterpolar"
        },
        {
         "hovertext": "Group 2",
         "marker": {
          "line": {
           "width": 0.15
          }
         },
         "name": "Group 2",
         "r": [
          0.5851583557951482,
          0.368015625,
          0.5036458333333333,
          0.08807536101083033,
          0.3801906779661017,
          0.8385000000000002,
          0.443671875,
          0.1857766544117647,
          1
         ],
         "theta": [
          "PSx90PrevPer90",
          "40+_completion_%",
          "cross_stop_%",
          "sweeper_action_90",
          "sweep_avg_dist",
          "med_completion_rate",
          "long_completion_rate",
          "final_third"
         ],
         "type": "scatterpolar"
        },
        {
         "hovertext": "Group 3",
         "marker": {
          "line": {
           "width": 1.5
          }
         },
         "name": "Group 3",
         "r": [
          0.5685085354896676,
          0.45960416666666665,
          0.10902777777777778,
          0.10231648616125151,
          0.41737288135593226,
          0.9048333333333334,
          0.667465277777778,
          0.0392156862745098,
          2
         ],
         "theta": [
          "PSx90PrevPer90",
          "40+_completion_%",
          "cross_stop_%",
          "sweeper_action_90",
          "sweep_avg_dist",
          "med_completion_rate",
          "long_completion_rate",
          "final_third"
         ],
         "type": "scatterpolar"
        },
        {
         "hovertext": "Group 4",
         "marker": {
          "line": {
           "width": 1.5
          }
         },
         "name": "Group 4",
         "r": [
          0.5262054507337525,
          0.3802222222222223,
          0.0611111111111111,
          0.07460890493381468,
          0.29905838041431254,
          0.28088888888888897,
          0.3894444444444445,
          0.01715686274509804,
          3
         ],
         "theta": [
          "PSx90PrevPer90",
          "40+_completion_%",
          "cross_stop_%",
          "sweeper_action_90",
          "sweep_avg_dist",
          "med_completion_rate",
          "long_completion_rate",
          "final_third"
         ],
         "type": "scatterpolar"
        }
       ],
       "layout": {
        "autosize": true,
        "polar": {
         "angularaxis": {
          "type": "category"
         },
         "radialaxis": {
          "autorange": true,
          "range": [
           0,
           0.9212848484848485
          ],
          "type": "linear",
          "visible": false
         }
        },
        "showlegend": true,
        "template": {
         "data": {
          "bar": [
           {
            "error_x": {
             "color": "#2a3f5f"
            },
            "error_y": {
             "color": "#2a3f5f"
            },
            "marker": {
             "line": {
              "color": "#E5ECF6",
              "width": 0.5
             },
             "pattern": {
              "fillmode": "overlay",
              "size": 10,
              "solidity": 0.2
             }
            },
            "type": "bar"
           }
          ],
          "barpolar": [
           {
            "marker": {
             "line": {
              "color": "#E5ECF6",
              "width": 0.5
             },
             "pattern": {
              "fillmode": "overlay",
              "size": 10,
              "solidity": 0.2
             }
            },
            "type": "barpolar"
           }
          ],
          "carpet": [
           {
            "aaxis": {
             "endlinecolor": "#2a3f5f",
             "gridcolor": "white",
             "linecolor": "white",
             "minorgridcolor": "white",
             "startlinecolor": "#2a3f5f"
            },
            "baxis": {
             "endlinecolor": "#2a3f5f",
             "gridcolor": "white",
             "linecolor": "white",
             "minorgridcolor": "white",
             "startlinecolor": "#2a3f5f"
            },
            "type": "carpet"
           }
          ],
          "choropleth": [
           {
            "colorbar": {
             "outlinewidth": 0,
             "ticks": ""
            },
            "type": "choropleth"
           }
          ],
          "contour": [
           {
            "colorbar": {
             "outlinewidth": 0,
             "ticks": ""
            },
            "colorscale": [
             [
              0,
              "#0d0887"
             ],
             [
              0.1111111111111111,
              "#46039f"
             ],
             [
              0.2222222222222222,
              "#7201a8"
             ],
             [
              0.3333333333333333,
              "#9c179e"
             ],
             [
              0.4444444444444444,
              "#bd3786"
             ],
             [
              0.5555555555555556,
              "#d8576b"
             ],
             [
              0.6666666666666666,
              "#ed7953"
             ],
             [
              0.7777777777777778,
              "#fb9f3a"
             ],
             [
              0.8888888888888888,
              "#fdca26"
             ],
             [
              1,
              "#f0f921"
             ]
            ],
            "type": "contour"
           }
          ],
          "contourcarpet": [
           {
            "colorbar": {
             "outlinewidth": 0,
             "ticks": ""
            },
            "type": "contourcarpet"
           }
          ],
          "heatmap": [
           {
            "colorbar": {
             "outlinewidth": 0,
             "ticks": ""
            },
            "colorscale": [
             [
              0,
              "#0d0887"
             ],
             [
              0.1111111111111111,
              "#46039f"
             ],
             [
              0.2222222222222222,
              "#7201a8"
             ],
             [
              0.3333333333333333,
              "#9c179e"
             ],
             [
              0.4444444444444444,
              "#bd3786"
             ],
             [
              0.5555555555555556,
              "#d8576b"
             ],
             [
              0.6666666666666666,
              "#ed7953"
             ],
             [
              0.7777777777777778,
              "#fb9f3a"
             ],
             [
              0.8888888888888888,
              "#fdca26"
             ],
             [
              1,
              "#f0f921"
             ]
            ],
            "type": "heatmap"
           }
          ],
          "heatmapgl": [
           {
            "colorbar": {
             "outlinewidth": 0,
             "ticks": ""
            },
            "colorscale": [
             [
              0,
              "#0d0887"
             ],
             [
              0.1111111111111111,
              "#46039f"
             ],
             [
              0.2222222222222222,
              "#7201a8"
             ],
             [
              0.3333333333333333,
              "#9c179e"
             ],
             [
              0.4444444444444444,
              "#bd3786"
             ],
             [
              0.5555555555555556,
              "#d8576b"
             ],
             [
              0.6666666666666666,
              "#ed7953"
             ],
             [
              0.7777777777777778,
              "#fb9f3a"
             ],
             [
              0.8888888888888888,
              "#fdca26"
             ],
             [
              1,
              "#f0f921"
             ]
            ],
            "type": "heatmapgl"
           }
          ],
          "histogram": [
           {
            "marker": {
             "pattern": {
              "fillmode": "overlay",
              "size": 10,
              "solidity": 0.2
             }
            },
            "type": "histogram"
           }
          ],
          "histogram2d": [
           {
            "colorbar": {
             "outlinewidth": 0,
             "ticks": ""
            },
            "colorscale": [
             [
              0,
              "#0d0887"
             ],
             [
              0.1111111111111111,
              "#46039f"
             ],
             [
              0.2222222222222222,
              "#7201a8"
             ],
             [
              0.3333333333333333,
              "#9c179e"
             ],
             [
              0.4444444444444444,
              "#bd3786"
             ],
             [
              0.5555555555555556,
              "#d8576b"
             ],
             [
              0.6666666666666666,
              "#ed7953"
             ],
             [
              0.7777777777777778,
              "#fb9f3a"
             ],
             [
              0.8888888888888888,
              "#fdca26"
             ],
             [
              1,
              "#f0f921"
             ]
            ],
            "type": "histogram2d"
           }
          ],
          "histogram2dcontour": [
           {
            "colorbar": {
             "outlinewidth": 0,
             "ticks": ""
            },
            "colorscale": [
             [
              0,
              "#0d0887"
             ],
             [
              0.1111111111111111,
              "#46039f"
             ],
             [
              0.2222222222222222,
              "#7201a8"
             ],
             [
              0.3333333333333333,
              "#9c179e"
             ],
             [
              0.4444444444444444,
              "#bd3786"
             ],
             [
              0.5555555555555556,
              "#d8576b"
             ],
             [
              0.6666666666666666,
              "#ed7953"
             ],
             [
              0.7777777777777778,
              "#fb9f3a"
             ],
             [
              0.8888888888888888,
              "#fdca26"
             ],
             [
              1,
              "#f0f921"
             ]
            ],
            "type": "histogram2dcontour"
           }
          ],
          "mesh3d": [
           {
            "colorbar": {
             "outlinewidth": 0,
             "ticks": ""
            },
            "type": "mesh3d"
           }
          ],
          "parcoords": [
           {
            "line": {
             "colorbar": {
              "outlinewidth": 0,
              "ticks": ""
             }
            },
            "type": "parcoords"
           }
          ],
          "pie": [
           {
            "automargin": true,
            "type": "pie"
           }
          ],
          "scatter": [
           {
            "fillpattern": {
             "fillmode": "overlay",
             "size": 10,
             "solidity": 0.2
            },
            "type": "scatter"
           }
          ],
          "scatter3d": [
           {
            "line": {
             "colorbar": {
              "outlinewidth": 0,
              "ticks": ""
             }
            },
            "marker": {
             "colorbar": {
              "outlinewidth": 0,
              "ticks": ""
             }
            },
            "type": "scatter3d"
           }
          ],
          "scattercarpet": [
           {
            "marker": {
             "colorbar": {
              "outlinewidth": 0,
              "ticks": ""
             }
            },
            "type": "scattercarpet"
           }
          ],
          "scattergeo": [
           {
            "marker": {
             "colorbar": {
              "outlinewidth": 0,
              "ticks": ""
             }
            },
            "type": "scattergeo"
           }
          ],
          "scattergl": [
           {
            "marker": {
             "colorbar": {
              "outlinewidth": 0,
              "ticks": ""
             }
            },
            "type": "scattergl"
           }
          ],
          "scattermapbox": [
           {
            "marker": {
             "colorbar": {
              "outlinewidth": 0,
              "ticks": ""
             }
            },
            "type": "scattermapbox"
           }
          ],
          "scatterpolar": [
           {
            "marker": {
             "colorbar": {
              "outlinewidth": 0,
              "ticks": ""
             }
            },
            "type": "scatterpolar"
           }
          ],
          "scatterpolargl": [
           {
            "marker": {
             "colorbar": {
              "outlinewidth": 0,
              "ticks": ""
             }
            },
            "type": "scatterpolargl"
           }
          ],
          "scatterternary": [
           {
            "marker": {
             "colorbar": {
              "outlinewidth": 0,
              "ticks": ""
             }
            },
            "type": "scatterternary"
           }
          ],
          "surface": [
           {
            "colorbar": {
             "outlinewidth": 0,
             "ticks": ""
            },
            "colorscale": [
             [
              0,
              "#0d0887"
             ],
             [
              0.1111111111111111,
              "#46039f"
             ],
             [
              0.2222222222222222,
              "#7201a8"
             ],
             [
              0.3333333333333333,
              "#9c179e"
             ],
             [
              0.4444444444444444,
              "#bd3786"
             ],
             [
              0.5555555555555556,
              "#d8576b"
             ],
             [
              0.6666666666666666,
              "#ed7953"
             ],
             [
              0.7777777777777778,
              "#fb9f3a"
             ],
             [
              0.8888888888888888,
              "#fdca26"
             ],
             [
              1,
              "#f0f921"
             ]
            ],
            "type": "surface"
           }
          ],
          "table": [
           {
            "cells": {
             "fill": {
              "color": "#EBF0F8"
             },
             "line": {
              "color": "white"
             }
            },
            "header": {
             "fill": {
              "color": "#C8D4E3"
             },
             "line": {
              "color": "white"
             }
            },
            "type": "table"
           }
          ]
         },
         "layout": {
          "annotationdefaults": {
           "arrowcolor": "#2a3f5f",
           "arrowhead": 0,
           "arrowwidth": 1
          },
          "autotypenumbers": "strict",
          "coloraxis": {
           "colorbar": {
            "outlinewidth": 0,
            "ticks": ""
           }
          },
          "colorscale": {
           "diverging": [
            [
             0,
             "#8e0152"
            ],
            [
             0.1,
             "#c51b7d"
            ],
            [
             0.2,
             "#de77ae"
            ],
            [
             0.3,
             "#f1b6da"
            ],
            [
             0.4,
             "#fde0ef"
            ],
            [
             0.5,
             "#f7f7f7"
            ],
            [
             0.6,
             "#e6f5d0"
            ],
            [
             0.7,
             "#b8e186"
            ],
            [
             0.8,
             "#7fbc41"
            ],
            [
             0.9,
             "#4d9221"
            ],
            [
             1,
             "#276419"
            ]
           ],
           "sequential": [
            [
             0,
             "#0d0887"
            ],
            [
             0.1111111111111111,
             "#46039f"
            ],
            [
             0.2222222222222222,
             "#7201a8"
            ],
            [
             0.3333333333333333,
             "#9c179e"
            ],
            [
             0.4444444444444444,
             "#bd3786"
            ],
            [
             0.5555555555555556,
             "#d8576b"
            ],
            [
             0.6666666666666666,
             "#ed7953"
            ],
            [
             0.7777777777777778,
             "#fb9f3a"
            ],
            [
             0.8888888888888888,
             "#fdca26"
            ],
            [
             1,
             "#f0f921"
            ]
           ],
           "sequentialminus": [
            [
             0,
             "#0d0887"
            ],
            [
             0.1111111111111111,
             "#46039f"
            ],
            [
             0.2222222222222222,
             "#7201a8"
            ],
            [
             0.3333333333333333,
             "#9c179e"
            ],
            [
             0.4444444444444444,
             "#bd3786"
            ],
            [
             0.5555555555555556,
             "#d8576b"
            ],
            [
             0.6666666666666666,
             "#ed7953"
            ],
            [
             0.7777777777777778,
             "#fb9f3a"
            ],
            [
             0.8888888888888888,
             "#fdca26"
            ],
            [
             1,
             "#f0f921"
            ]
           ]
          },
          "colorway": [
           "#636efa",
           "#EF553B",
           "#00cc96",
           "#ab63fa",
           "#FFA15A",
           "#19d3f3",
           "#FF6692",
           "#B6E880",
           "#FF97FF",
           "#FECB52"
          ],
          "font": {
           "color": "#2a3f5f"
          },
          "geo": {
           "bgcolor": "white",
           "lakecolor": "white",
           "landcolor": "#E5ECF6",
           "showlakes": true,
           "showland": true,
           "subunitcolor": "white"
          },
          "hoverlabel": {
           "align": "left"
          },
          "hovermode": "closest",
          "mapbox": {
           "style": "light"
          },
          "paper_bgcolor": "white",
          "plot_bgcolor": "#E5ECF6",
          "polar": {
           "angularaxis": {
            "gridcolor": "white",
            "linecolor": "white",
            "ticks": ""
           },
           "bgcolor": "#E5ECF6",
           "radialaxis": {
            "gridcolor": "white",
            "linecolor": "white",
            "ticks": ""
           }
          },
          "scene": {
           "xaxis": {
            "backgroundcolor": "#E5ECF6",
            "gridcolor": "white",
            "gridwidth": 2,
            "linecolor": "white",
            "showbackground": true,
            "ticks": "",
            "zerolinecolor": "white"
           },
           "yaxis": {
            "backgroundcolor": "#E5ECF6",
            "gridcolor": "white",
            "gridwidth": 2,
            "linecolor": "white",
            "showbackground": true,
            "ticks": "",
            "zerolinecolor": "white"
           },
           "zaxis": {
            "backgroundcolor": "#E5ECF6",
            "gridcolor": "white",
            "gridwidth": 2,
            "linecolor": "white",
            "showbackground": true,
            "ticks": "",
            "zerolinecolor": "white"
           }
          },
          "shapedefaults": {
           "line": {
            "color": "#2a3f5f"
           }
          },
          "ternary": {
           "aaxis": {
            "gridcolor": "white",
            "linecolor": "white",
            "ticks": ""
           },
           "baxis": {
            "gridcolor": "white",
            "linecolor": "white",
            "ticks": ""
           },
           "bgcolor": "#E5ECF6",
           "caxis": {
            "gridcolor": "white",
            "linecolor": "white",
            "ticks": ""
           }
          },
          "title": {
           "x": 0.05
          },
          "xaxis": {
           "automargin": true,
           "gridcolor": "white",
           "linecolor": "white",
           "ticks": "",
           "title": {
            "standoff": 15
           },
           "zerolinecolor": "white",
           "zerolinewidth": 2
          },
          "yaxis": {
           "automargin": true,
           "gridcolor": "white",
           "linecolor": "white",
           "ticks": "",
           "title": {
            "standoff": 15
           },
           "zerolinecolor": "white",
           "zerolinewidth": 2
          }
         }
        },
        "title": {
         "text": "Comparison of (Normalized) Average of Advanced Stats among Profile Groups in their respective domestic leagues (2017~)"
        }
       }
      },
      "text/html": [
       "<div>                            <div id=\"4539e5ed-df20-4d14-bc98-b9ba96cac43b\" class=\"plotly-graph-div\" style=\"height:600px; width:100%;\"></div>            <script type=\"text/javascript\">                require([\"plotly\"], function(Plotly) {                    window.PLOTLYENV=window.PLOTLYENV || {};                                    if (document.getElementById(\"4539e5ed-df20-4d14-bc98-b9ba96cac43b\")) {                    Plotly.newPlot(                        \"4539e5ed-df20-4d14-bc98-b9ba96cac43b\",                        [{\"fill\":\"toself\",\"hovertext\":\"Group 1\",\"marker\":{\"line\":{\"width\":1.5}},\"name\":\"Group 1\",\"r\":[0.5673554956573825,0.31775555555555557,0.14240740740740745,0.06922583233052547,0.327984934086629,0.8983111111111113,0.37587037037037047,0.04174836601307189,0.0],\"theta\":[\"PSx90PrevPer90\",\"40+_completion_%\",\"cross_stop_%\",\"sweeper_action_90\",\"sweep_avg_dist\",\"med_completion_rate\",\"long_completion_rate\",\"final_third\"],\"type\":\"scatterpolar\"},{\"hovertext\":\"Group 2\",\"marker\":{\"line\":{\"width\":0.15}},\"name\":\"Group 2\",\"r\":[0.5851583557951482,0.368015625,0.5036458333333333,0.08807536101083033,0.3801906779661017,0.8385000000000002,0.443671875,0.1857766544117647,1.0],\"theta\":[\"PSx90PrevPer90\",\"40+_completion_%\",\"cross_stop_%\",\"sweeper_action_90\",\"sweep_avg_dist\",\"med_completion_rate\",\"long_completion_rate\",\"final_third\"],\"type\":\"scatterpolar\"},{\"hovertext\":\"Group 3\",\"marker\":{\"line\":{\"width\":1.5}},\"name\":\"Group 3\",\"r\":[0.5685085354896676,0.45960416666666665,0.10902777777777778,0.10231648616125151,0.41737288135593226,0.9048333333333334,0.667465277777778,0.0392156862745098,2.0],\"theta\":[\"PSx90PrevPer90\",\"40+_completion_%\",\"cross_stop_%\",\"sweeper_action_90\",\"sweep_avg_dist\",\"med_completion_rate\",\"long_completion_rate\",\"final_third\"],\"type\":\"scatterpolar\"},{\"hovertext\":\"Group 4\",\"marker\":{\"line\":{\"width\":1.5}},\"name\":\"Group 4\",\"r\":[0.5262054507337525,0.3802222222222223,0.0611111111111111,0.07460890493381468,0.29905838041431254,0.28088888888888897,0.3894444444444445,0.01715686274509804,3.0],\"theta\":[\"PSx90PrevPer90\",\"40+_completion_%\",\"cross_stop_%\",\"sweeper_action_90\",\"sweep_avg_dist\",\"med_completion_rate\",\"long_completion_rate\",\"final_third\"],\"type\":\"scatterpolar\"}],                        {\"template\":{\"data\":{\"histogram2dcontour\":[{\"type\":\"histogram2dcontour\",\"colorbar\":{\"outlinewidth\":0,\"ticks\":\"\"},\"colorscale\":[[0.0,\"#0d0887\"],[0.1111111111111111,\"#46039f\"],[0.2222222222222222,\"#7201a8\"],[0.3333333333333333,\"#9c179e\"],[0.4444444444444444,\"#bd3786\"],[0.5555555555555556,\"#d8576b\"],[0.6666666666666666,\"#ed7953\"],[0.7777777777777778,\"#fb9f3a\"],[0.8888888888888888,\"#fdca26\"],[1.0,\"#f0f921\"]]}],\"choropleth\":[{\"type\":\"choropleth\",\"colorbar\":{\"outlinewidth\":0,\"ticks\":\"\"}}],\"histogram2d\":[{\"type\":\"histogram2d\",\"colorbar\":{\"outlinewidth\":0,\"ticks\":\"\"},\"colorscale\":[[0.0,\"#0d0887\"],[0.1111111111111111,\"#46039f\"],[0.2222222222222222,\"#7201a8\"],[0.3333333333333333,\"#9c179e\"],[0.4444444444444444,\"#bd3786\"],[0.5555555555555556,\"#d8576b\"],[0.6666666666666666,\"#ed7953\"],[0.7777777777777778,\"#fb9f3a\"],[0.8888888888888888,\"#fdca26\"],[1.0,\"#f0f921\"]]}],\"heatmap\":[{\"type\":\"heatmap\",\"colorbar\":{\"outlinewidth\":0,\"ticks\":\"\"},\"colorscale\":[[0.0,\"#0d0887\"],[0.1111111111111111,\"#46039f\"],[0.2222222222222222,\"#7201a8\"],[0.3333333333333333,\"#9c179e\"],[0.4444444444444444,\"#bd3786\"],[0.5555555555555556,\"#d8576b\"],[0.6666666666666666,\"#ed7953\"],[0.7777777777777778,\"#fb9f3a\"],[0.8888888888888888,\"#fdca26\"],[1.0,\"#f0f921\"]]}],\"heatmapgl\":[{\"type\":\"heatmapgl\",\"colorbar\":{\"outlinewidth\":0,\"ticks\":\"\"},\"colorscale\":[[0.0,\"#0d0887\"],[0.1111111111111111,\"#46039f\"],[0.2222222222222222,\"#7201a8\"],[0.3333333333333333,\"#9c179e\"],[0.4444444444444444,\"#bd3786\"],[0.5555555555555556,\"#d8576b\"],[0.6666666666666666,\"#ed7953\"],[0.7777777777777778,\"#fb9f3a\"],[0.8888888888888888,\"#fdca26\"],[1.0,\"#f0f921\"]]}],\"contourcarpet\":[{\"type\":\"contourcarpet\",\"colorbar\":{\"outlinewidth\":0,\"ticks\":\"\"}}],\"contour\":[{\"type\":\"contour\",\"colorbar\":{\"outlinewidth\":0,\"ticks\":\"\"},\"colorscale\":[[0.0,\"#0d0887\"],[0.1111111111111111,\"#46039f\"],[0.2222222222222222,\"#7201a8\"],[0.3333333333333333,\"#9c179e\"],[0.4444444444444444,\"#bd3786\"],[0.5555555555555556,\"#d8576b\"],[0.6666666666666666,\"#ed7953\"],[0.7777777777777778,\"#fb9f3a\"],[0.8888888888888888,\"#fdca26\"],[1.0,\"#f0f921\"]]}],\"surface\":[{\"type\":\"surface\",\"colorbar\":{\"outlinewidth\":0,\"ticks\":\"\"},\"colorscale\":[[0.0,\"#0d0887\"],[0.1111111111111111,\"#46039f\"],[0.2222222222222222,\"#7201a8\"],[0.3333333333333333,\"#9c179e\"],[0.4444444444444444,\"#bd3786\"],[0.5555555555555556,\"#d8576b\"],[0.6666666666666666,\"#ed7953\"],[0.7777777777777778,\"#fb9f3a\"],[0.8888888888888888,\"#fdca26\"],[1.0,\"#f0f921\"]]}],\"mesh3d\":[{\"type\":\"mesh3d\",\"colorbar\":{\"outlinewidth\":0,\"ticks\":\"\"}}],\"scatter\":[{\"fillpattern\":{\"fillmode\":\"overlay\",\"size\":10,\"solidity\":0.2},\"type\":\"scatter\"}],\"parcoords\":[{\"type\":\"parcoords\",\"line\":{\"colorbar\":{\"outlinewidth\":0,\"ticks\":\"\"}}}],\"scatterpolargl\":[{\"type\":\"scatterpolargl\",\"marker\":{\"colorbar\":{\"outlinewidth\":0,\"ticks\":\"\"}}}],\"bar\":[{\"error_x\":{\"color\":\"#2a3f5f\"},\"error_y\":{\"color\":\"#2a3f5f\"},\"marker\":{\"line\":{\"color\":\"#E5ECF6\",\"width\":0.5},\"pattern\":{\"fillmode\":\"overlay\",\"size\":10,\"solidity\":0.2}},\"type\":\"bar\"}],\"scattergeo\":[{\"type\":\"scattergeo\",\"marker\":{\"colorbar\":{\"outlinewidth\":0,\"ticks\":\"\"}}}],\"scatterpolar\":[{\"type\":\"scatterpolar\",\"marker\":{\"colorbar\":{\"outlinewidth\":0,\"ticks\":\"\"}}}],\"histogram\":[{\"marker\":{\"pattern\":{\"fillmode\":\"overlay\",\"size\":10,\"solidity\":0.2}},\"type\":\"histogram\"}],\"scattergl\":[{\"type\":\"scattergl\",\"marker\":{\"colorbar\":{\"outlinewidth\":0,\"ticks\":\"\"}}}],\"scatter3d\":[{\"type\":\"scatter3d\",\"line\":{\"colorbar\":{\"outlinewidth\":0,\"ticks\":\"\"}},\"marker\":{\"colorbar\":{\"outlinewidth\":0,\"ticks\":\"\"}}}],\"scattermapbox\":[{\"type\":\"scattermapbox\",\"marker\":{\"colorbar\":{\"outlinewidth\":0,\"ticks\":\"\"}}}],\"scatterternary\":[{\"type\":\"scatterternary\",\"marker\":{\"colorbar\":{\"outlinewidth\":0,\"ticks\":\"\"}}}],\"scattercarpet\":[{\"type\":\"scattercarpet\",\"marker\":{\"colorbar\":{\"outlinewidth\":0,\"ticks\":\"\"}}}],\"carpet\":[{\"aaxis\":{\"endlinecolor\":\"#2a3f5f\",\"gridcolor\":\"white\",\"linecolor\":\"white\",\"minorgridcolor\":\"white\",\"startlinecolor\":\"#2a3f5f\"},\"baxis\":{\"endlinecolor\":\"#2a3f5f\",\"gridcolor\":\"white\",\"linecolor\":\"white\",\"minorgridcolor\":\"white\",\"startlinecolor\":\"#2a3f5f\"},\"type\":\"carpet\"}],\"table\":[{\"cells\":{\"fill\":{\"color\":\"#EBF0F8\"},\"line\":{\"color\":\"white\"}},\"header\":{\"fill\":{\"color\":\"#C8D4E3\"},\"line\":{\"color\":\"white\"}},\"type\":\"table\"}],\"barpolar\":[{\"marker\":{\"line\":{\"color\":\"#E5ECF6\",\"width\":0.5},\"pattern\":{\"fillmode\":\"overlay\",\"size\":10,\"solidity\":0.2}},\"type\":\"barpolar\"}],\"pie\":[{\"automargin\":true,\"type\":\"pie\"}]},\"layout\":{\"autotypenumbers\":\"strict\",\"colorway\":[\"#636efa\",\"#EF553B\",\"#00cc96\",\"#ab63fa\",\"#FFA15A\",\"#19d3f3\",\"#FF6692\",\"#B6E880\",\"#FF97FF\",\"#FECB52\"],\"font\":{\"color\":\"#2a3f5f\"},\"hovermode\":\"closest\",\"hoverlabel\":{\"align\":\"left\"},\"paper_bgcolor\":\"white\",\"plot_bgcolor\":\"#E5ECF6\",\"polar\":{\"bgcolor\":\"#E5ECF6\",\"angularaxis\":{\"gridcolor\":\"white\",\"linecolor\":\"white\",\"ticks\":\"\"},\"radialaxis\":{\"gridcolor\":\"white\",\"linecolor\":\"white\",\"ticks\":\"\"}},\"ternary\":{\"bgcolor\":\"#E5ECF6\",\"aaxis\":{\"gridcolor\":\"white\",\"linecolor\":\"white\",\"ticks\":\"\"},\"baxis\":{\"gridcolor\":\"white\",\"linecolor\":\"white\",\"ticks\":\"\"},\"caxis\":{\"gridcolor\":\"white\",\"linecolor\":\"white\",\"ticks\":\"\"}},\"coloraxis\":{\"colorbar\":{\"outlinewidth\":0,\"ticks\":\"\"}},\"colorscale\":{\"sequential\":[[0.0,\"#0d0887\"],[0.1111111111111111,\"#46039f\"],[0.2222222222222222,\"#7201a8\"],[0.3333333333333333,\"#9c179e\"],[0.4444444444444444,\"#bd3786\"],[0.5555555555555556,\"#d8576b\"],[0.6666666666666666,\"#ed7953\"],[0.7777777777777778,\"#fb9f3a\"],[0.8888888888888888,\"#fdca26\"],[1.0,\"#f0f921\"]],\"sequentialminus\":[[0.0,\"#0d0887\"],[0.1111111111111111,\"#46039f\"],[0.2222222222222222,\"#7201a8\"],[0.3333333333333333,\"#9c179e\"],[0.4444444444444444,\"#bd3786\"],[0.5555555555555556,\"#d8576b\"],[0.6666666666666666,\"#ed7953\"],[0.7777777777777778,\"#fb9f3a\"],[0.8888888888888888,\"#fdca26\"],[1.0,\"#f0f921\"]],\"diverging\":[[0,\"#8e0152\"],[0.1,\"#c51b7d\"],[0.2,\"#de77ae\"],[0.3,\"#f1b6da\"],[0.4,\"#fde0ef\"],[0.5,\"#f7f7f7\"],[0.6,\"#e6f5d0\"],[0.7,\"#b8e186\"],[0.8,\"#7fbc41\"],[0.9,\"#4d9221\"],[1,\"#276419\"]]},\"xaxis\":{\"gridcolor\":\"white\",\"linecolor\":\"white\",\"ticks\":\"\",\"title\":{\"standoff\":15},\"zerolinecolor\":\"white\",\"automargin\":true,\"zerolinewidth\":2},\"yaxis\":{\"gridcolor\":\"white\",\"linecolor\":\"white\",\"ticks\":\"\",\"title\":{\"standoff\":15},\"zerolinecolor\":\"white\",\"automargin\":true,\"zerolinewidth\":2},\"scene\":{\"xaxis\":{\"backgroundcolor\":\"#E5ECF6\",\"gridcolor\":\"white\",\"linecolor\":\"white\",\"showbackground\":true,\"ticks\":\"\",\"zerolinecolor\":\"white\",\"gridwidth\":2},\"yaxis\":{\"backgroundcolor\":\"#E5ECF6\",\"gridcolor\":\"white\",\"linecolor\":\"white\",\"showbackground\":true,\"ticks\":\"\",\"zerolinecolor\":\"white\",\"gridwidth\":2},\"zaxis\":{\"backgroundcolor\":\"#E5ECF6\",\"gridcolor\":\"white\",\"linecolor\":\"white\",\"showbackground\":true,\"ticks\":\"\",\"zerolinecolor\":\"white\",\"gridwidth\":2}},\"shapedefaults\":{\"line\":{\"color\":\"#2a3f5f\"}},\"annotationdefaults\":{\"arrowcolor\":\"#2a3f5f\",\"arrowhead\":0,\"arrowwidth\":1},\"geo\":{\"bgcolor\":\"white\",\"landcolor\":\"#E5ECF6\",\"subunitcolor\":\"white\",\"showland\":true,\"showlakes\":true,\"lakecolor\":\"white\"},\"title\":{\"x\":0.05},\"mapbox\":{\"style\":\"light\"}}},\"polar\":{\"radialaxis\":{\"visible\":false}},\"showlegend\":true,\"title\":{\"text\":\"Comparison of (Normalized) Average of Advanced Stats among Profile Groups in their respective domestic leagues (2017~)\"},\"height\":600},                        {\"responsive\": true}                    ).then(function(){\n",
       "                            \n",
       "var gd = document.getElementById('4539e5ed-df20-4d14-bc98-b9ba96cac43b');\n",
       "var x = new MutationObserver(function (mutations, observer) {{\n",
       "        var display = window.getComputedStyle(gd).display;\n",
       "        if (!display || display === 'none') {{\n",
       "            console.log([gd, 'removed!']);\n",
       "            Plotly.purge(gd);\n",
       "            observer.disconnect();\n",
       "        }}\n",
       "}});\n",
       "\n",
       "// Listen for the removal of the full notebook cells\n",
       "var notebookContainer = gd.closest('#notebook-container');\n",
       "if (notebookContainer) {{\n",
       "    x.observe(notebookContainer, {childList: true});\n",
       "}}\n",
       "\n",
       "// Listen for the clearing of the current output cell\n",
       "var outputEl = gd.closest('.output');\n",
       "if (outputEl) {{\n",
       "    x.observe(outputEl, {childList: true});\n",
       "}}\n",
       "\n",
       "                        })                };                });            </script>        </div>"
      ]
     },
     "metadata": {},
     "output_type": "display_data"
    }
   ],
   "source": [
    "fig4 = go.Figure()\n",
    "\n",
    "categoris = df1.columns\n",
    "\n",
    "fig4.add_trace(go.Scatterpolar(\n",
    "      r=df1.loc['mean'].values,\n",
    "      theta=categories,\n",
    "      fill='toself',\n",
    "      name='Group 1',\n",
    "     marker_line_width=1.5,\n",
    "    hovertext ='Group 1'\n",
    "))\n",
    "fig4.add_trace(go.Scatterpolar(\n",
    "      r=df2.loc['mean'].values,\n",
    "      theta=categories,\n",
    "      # fill='toself',\n",
    "      name='Group 2',\n",
    "     marker_line_width=.15,\n",
    "    hovertext='Group 2'\n",
    "))\n",
    "fig4.add_trace(go.Scatterpolar(\n",
    "      r=df3.loc['mean'].values,\n",
    "      theta=categories,\n",
    "      # fill='toself',\n",
    "      name='Group 3',\n",
    "     marker_line_width=1.5,\n",
    "    hovertext = 'Group 3'\n",
    "))\n",
    "fig4.add_trace(go.Scatterpolar(\n",
    "      r=df4.loc['mean'].values,\n",
    "      theta=categories,\n",
    "      # fill='toself',\n",
    "      name='Group 4',\n",
    "     marker_line_width=1.5,\n",
    "    hovertext = 'Group 4'\n",
    "))\n",
    "\n",
    "\n",
    "fig4.update_layout(\n",
    "  polar=dict(\n",
    "    radialaxis=dict(\n",
    "      visible=False\n",
    "    )),\n",
    "  showlegend=True\n",
    ")\n",
    "\n",
    "fig4.update_layout(title_text='Comparison of (Normalized) Average of Advanced Stats among Profile Groups in their respective domestic leagues (2017~)',height=600)\n",
    "\n",
    "fig4.show()"
   ]
  },
  {
   "cell_type": "code",
   "execution_count": 736,
   "id": "4b5ff6fd-2f52-4d5d-804d-25369470c8f1",
   "metadata": {},
   "outputs": [
    {
     "data": {
      "application/vnd.plotly.v1+json": {
       "config": {
        "plotlyServerURL": "https://plot.ly"
       },
       "data": [
        {
         "fill": "toself",
         "hovertext": "Group 1",
         "marker": {
          "line": {
           "width": 1.5
          }
         },
         "name": "Group 1",
         "r": [
          0.5781671159029649,
          0.33,
          0.10833333333333334,
          0.0664259927797834,
          0.34237288135593213,
          0.9080000000000004,
          0.37916666666666665,
          0.029411764705882353,
          0
         ],
         "theta": [
          "PSx90PrevPer90",
          "40+_completion_%",
          "cross_stop_%",
          "sweeper_action_90",
          "sweep_avg_dist",
          "med_completion_rate",
          "long_completion_rate",
          "final_third"
         ],
         "type": "scatterpolar"
        },
        {
         "hovertext": "Group 2",
         "marker": {
          "line": {
           "width": 0.15
          }
         },
         "name": "Group 2",
         "r": [
          0.5916442048517521,
          0.378,
          0.5083333333333333,
          0.08375451263537906,
          0.38983050847457623,
          0.8520000000000003,
          0.4508333333333333,
          0.125,
          1
         ],
         "theta": [
          "PSx90PrevPer90",
          "40+_completion_%",
          "cross_stop_%",
          "sweeper_action_90",
          "sweep_avg_dist",
          "med_completion_rate",
          "long_completion_rate",
          "final_third"
         ],
         "type": "scatterpolar"
        },
        {
         "hovertext": "Group 3",
         "marker": {
          "line": {
           "width": 1.5
          }
         },
         "name": "Group 3",
         "r": [
          0.5633423180592991,
          0.451,
          0.058333333333333334,
          0.0888086642599278,
          0.423728813559322,
          0.9080000000000004,
          0.6475,
          0.014705882352941176,
          2
         ],
         "theta": [
          "PSx90PrevPer90",
          "40+_completion_%",
          "cross_stop_%",
          "sweeper_action_90",
          "sweep_avg_dist",
          "med_completion_rate",
          "long_completion_rate",
          "final_third"
         ],
         "type": "scatterpolar"
        },
        {
         "hovertext": "Group 4",
         "marker": {
          "line": {
           "width": 1.5
          }
         },
         "name": "Group 4",
         "r": [
          0.5067385444743935,
          0.36200000000000004,
          0.03333333333333333,
          0.07220216606498195,
          0.3423728813559322,
          0.27200000000000024,
          0.4383333333333333,
          0.007352941176470588,
          3
         ],
         "theta": [
          "PSx90PrevPer90",
          "40+_completion_%",
          "cross_stop_%",
          "sweeper_action_90",
          "sweep_avg_dist",
          "med_completion_rate",
          "long_completion_rate",
          "final_third"
         ],
         "type": "scatterpolar"
        }
       ],
       "layout": {
        "autosize": true,
        "polar": {
         "angularaxis": {
          "type": "category"
         },
         "radialaxis": {
          "autorange": true,
          "range": [
           0,
           0.9245090909090913
          ],
          "type": "linear",
          "visible": false
         }
        },
        "showlegend": true,
        "template": {
         "data": {
          "bar": [
           {
            "error_x": {
             "color": "#2a3f5f"
            },
            "error_y": {
             "color": "#2a3f5f"
            },
            "marker": {
             "line": {
              "color": "#E5ECF6",
              "width": 0.5
             },
             "pattern": {
              "fillmode": "overlay",
              "size": 10,
              "solidity": 0.2
             }
            },
            "type": "bar"
           }
          ],
          "barpolar": [
           {
            "marker": {
             "line": {
              "color": "#E5ECF6",
              "width": 0.5
             },
             "pattern": {
              "fillmode": "overlay",
              "size": 10,
              "solidity": 0.2
             }
            },
            "type": "barpolar"
           }
          ],
          "carpet": [
           {
            "aaxis": {
             "endlinecolor": "#2a3f5f",
             "gridcolor": "white",
             "linecolor": "white",
             "minorgridcolor": "white",
             "startlinecolor": "#2a3f5f"
            },
            "baxis": {
             "endlinecolor": "#2a3f5f",
             "gridcolor": "white",
             "linecolor": "white",
             "minorgridcolor": "white",
             "startlinecolor": "#2a3f5f"
            },
            "type": "carpet"
           }
          ],
          "choropleth": [
           {
            "colorbar": {
             "outlinewidth": 0,
             "ticks": ""
            },
            "type": "choropleth"
           }
          ],
          "contour": [
           {
            "colorbar": {
             "outlinewidth": 0,
             "ticks": ""
            },
            "colorscale": [
             [
              0,
              "#0d0887"
             ],
             [
              0.1111111111111111,
              "#46039f"
             ],
             [
              0.2222222222222222,
              "#7201a8"
             ],
             [
              0.3333333333333333,
              "#9c179e"
             ],
             [
              0.4444444444444444,
              "#bd3786"
             ],
             [
              0.5555555555555556,
              "#d8576b"
             ],
             [
              0.6666666666666666,
              "#ed7953"
             ],
             [
              0.7777777777777778,
              "#fb9f3a"
             ],
             [
              0.8888888888888888,
              "#fdca26"
             ],
             [
              1,
              "#f0f921"
             ]
            ],
            "type": "contour"
           }
          ],
          "contourcarpet": [
           {
            "colorbar": {
             "outlinewidth": 0,
             "ticks": ""
            },
            "type": "contourcarpet"
           }
          ],
          "heatmap": [
           {
            "colorbar": {
             "outlinewidth": 0,
             "ticks": ""
            },
            "colorscale": [
             [
              0,
              "#0d0887"
             ],
             [
              0.1111111111111111,
              "#46039f"
             ],
             [
              0.2222222222222222,
              "#7201a8"
             ],
             [
              0.3333333333333333,
              "#9c179e"
             ],
             [
              0.4444444444444444,
              "#bd3786"
             ],
             [
              0.5555555555555556,
              "#d8576b"
             ],
             [
              0.6666666666666666,
              "#ed7953"
             ],
             [
              0.7777777777777778,
              "#fb9f3a"
             ],
             [
              0.8888888888888888,
              "#fdca26"
             ],
             [
              1,
              "#f0f921"
             ]
            ],
            "type": "heatmap"
           }
          ],
          "heatmapgl": [
           {
            "colorbar": {
             "outlinewidth": 0,
             "ticks": ""
            },
            "colorscale": [
             [
              0,
              "#0d0887"
             ],
             [
              0.1111111111111111,
              "#46039f"
             ],
             [
              0.2222222222222222,
              "#7201a8"
             ],
             [
              0.3333333333333333,
              "#9c179e"
             ],
             [
              0.4444444444444444,
              "#bd3786"
             ],
             [
              0.5555555555555556,
              "#d8576b"
             ],
             [
              0.6666666666666666,
              "#ed7953"
             ],
             [
              0.7777777777777778,
              "#fb9f3a"
             ],
             [
              0.8888888888888888,
              "#fdca26"
             ],
             [
              1,
              "#f0f921"
             ]
            ],
            "type": "heatmapgl"
           }
          ],
          "histogram": [
           {
            "marker": {
             "pattern": {
              "fillmode": "overlay",
              "size": 10,
              "solidity": 0.2
             }
            },
            "type": "histogram"
           }
          ],
          "histogram2d": [
           {
            "colorbar": {
             "outlinewidth": 0,
             "ticks": ""
            },
            "colorscale": [
             [
              0,
              "#0d0887"
             ],
             [
              0.1111111111111111,
              "#46039f"
             ],
             [
              0.2222222222222222,
              "#7201a8"
             ],
             [
              0.3333333333333333,
              "#9c179e"
             ],
             [
              0.4444444444444444,
              "#bd3786"
             ],
             [
              0.5555555555555556,
              "#d8576b"
             ],
             [
              0.6666666666666666,
              "#ed7953"
             ],
             [
              0.7777777777777778,
              "#fb9f3a"
             ],
             [
              0.8888888888888888,
              "#fdca26"
             ],
             [
              1,
              "#f0f921"
             ]
            ],
            "type": "histogram2d"
           }
          ],
          "histogram2dcontour": [
           {
            "colorbar": {
             "outlinewidth": 0,
             "ticks": ""
            },
            "colorscale": [
             [
              0,
              "#0d0887"
             ],
             [
              0.1111111111111111,
              "#46039f"
             ],
             [
              0.2222222222222222,
              "#7201a8"
             ],
             [
              0.3333333333333333,
              "#9c179e"
             ],
             [
              0.4444444444444444,
              "#bd3786"
             ],
             [
              0.5555555555555556,
              "#d8576b"
             ],
             [
              0.6666666666666666,
              "#ed7953"
             ],
             [
              0.7777777777777778,
              "#fb9f3a"
             ],
             [
              0.8888888888888888,
              "#fdca26"
             ],
             [
              1,
              "#f0f921"
             ]
            ],
            "type": "histogram2dcontour"
           }
          ],
          "mesh3d": [
           {
            "colorbar": {
             "outlinewidth": 0,
             "ticks": ""
            },
            "type": "mesh3d"
           }
          ],
          "parcoords": [
           {
            "line": {
             "colorbar": {
              "outlinewidth": 0,
              "ticks": ""
             }
            },
            "type": "parcoords"
           }
          ],
          "pie": [
           {
            "automargin": true,
            "type": "pie"
           }
          ],
          "scatter": [
           {
            "fillpattern": {
             "fillmode": "overlay",
             "size": 10,
             "solidity": 0.2
            },
            "type": "scatter"
           }
          ],
          "scatter3d": [
           {
            "line": {
             "colorbar": {
              "outlinewidth": 0,
              "ticks": ""
             }
            },
            "marker": {
             "colorbar": {
              "outlinewidth": 0,
              "ticks": ""
             }
            },
            "type": "scatter3d"
           }
          ],
          "scattercarpet": [
           {
            "marker": {
             "colorbar": {
              "outlinewidth": 0,
              "ticks": ""
             }
            },
            "type": "scattercarpet"
           }
          ],
          "scattergeo": [
           {
            "marker": {
             "colorbar": {
              "outlinewidth": 0,
              "ticks": ""
             }
            },
            "type": "scattergeo"
           }
          ],
          "scattergl": [
           {
            "marker": {
             "colorbar": {
              "outlinewidth": 0,
              "ticks": ""
             }
            },
            "type": "scattergl"
           }
          ],
          "scattermapbox": [
           {
            "marker": {
             "colorbar": {
              "outlinewidth": 0,
              "ticks": ""
             }
            },
            "type": "scattermapbox"
           }
          ],
          "scatterpolar": [
           {
            "marker": {
             "colorbar": {
              "outlinewidth": 0,
              "ticks": ""
             }
            },
            "type": "scatterpolar"
           }
          ],
          "scatterpolargl": [
           {
            "marker": {
             "colorbar": {
              "outlinewidth": 0,
              "ticks": ""
             }
            },
            "type": "scatterpolargl"
           }
          ],
          "scatterternary": [
           {
            "marker": {
             "colorbar": {
              "outlinewidth": 0,
              "ticks": ""
             }
            },
            "type": "scatterternary"
           }
          ],
          "surface": [
           {
            "colorbar": {
             "outlinewidth": 0,
             "ticks": ""
            },
            "colorscale": [
             [
              0,
              "#0d0887"
             ],
             [
              0.1111111111111111,
              "#46039f"
             ],
             [
              0.2222222222222222,
              "#7201a8"
             ],
             [
              0.3333333333333333,
              "#9c179e"
             ],
             [
              0.4444444444444444,
              "#bd3786"
             ],
             [
              0.5555555555555556,
              "#d8576b"
             ],
             [
              0.6666666666666666,
              "#ed7953"
             ],
             [
              0.7777777777777778,
              "#fb9f3a"
             ],
             [
              0.8888888888888888,
              "#fdca26"
             ],
             [
              1,
              "#f0f921"
             ]
            ],
            "type": "surface"
           }
          ],
          "table": [
           {
            "cells": {
             "fill": {
              "color": "#EBF0F8"
             },
             "line": {
              "color": "white"
             }
            },
            "header": {
             "fill": {
              "color": "#C8D4E3"
             },
             "line": {
              "color": "white"
             }
            },
            "type": "table"
           }
          ]
         },
         "layout": {
          "annotationdefaults": {
           "arrowcolor": "#2a3f5f",
           "arrowhead": 0,
           "arrowwidth": 1
          },
          "autotypenumbers": "strict",
          "coloraxis": {
           "colorbar": {
            "outlinewidth": 0,
            "ticks": ""
           }
          },
          "colorscale": {
           "diverging": [
            [
             0,
             "#8e0152"
            ],
            [
             0.1,
             "#c51b7d"
            ],
            [
             0.2,
             "#de77ae"
            ],
            [
             0.3,
             "#f1b6da"
            ],
            [
             0.4,
             "#fde0ef"
            ],
            [
             0.5,
             "#f7f7f7"
            ],
            [
             0.6,
             "#e6f5d0"
            ],
            [
             0.7,
             "#b8e186"
            ],
            [
             0.8,
             "#7fbc41"
            ],
            [
             0.9,
             "#4d9221"
            ],
            [
             1,
             "#276419"
            ]
           ],
           "sequential": [
            [
             0,
             "#0d0887"
            ],
            [
             0.1111111111111111,
             "#46039f"
            ],
            [
             0.2222222222222222,
             "#7201a8"
            ],
            [
             0.3333333333333333,
             "#9c179e"
            ],
            [
             0.4444444444444444,
             "#bd3786"
            ],
            [
             0.5555555555555556,
             "#d8576b"
            ],
            [
             0.6666666666666666,
             "#ed7953"
            ],
            [
             0.7777777777777778,
             "#fb9f3a"
            ],
            [
             0.8888888888888888,
             "#fdca26"
            ],
            [
             1,
             "#f0f921"
            ]
           ],
           "sequentialminus": [
            [
             0,
             "#0d0887"
            ],
            [
             0.1111111111111111,
             "#46039f"
            ],
            [
             0.2222222222222222,
             "#7201a8"
            ],
            [
             0.3333333333333333,
             "#9c179e"
            ],
            [
             0.4444444444444444,
             "#bd3786"
            ],
            [
             0.5555555555555556,
             "#d8576b"
            ],
            [
             0.6666666666666666,
             "#ed7953"
            ],
            [
             0.7777777777777778,
             "#fb9f3a"
            ],
            [
             0.8888888888888888,
             "#fdca26"
            ],
            [
             1,
             "#f0f921"
            ]
           ]
          },
          "colorway": [
           "#636efa",
           "#EF553B",
           "#00cc96",
           "#ab63fa",
           "#FFA15A",
           "#19d3f3",
           "#FF6692",
           "#B6E880",
           "#FF97FF",
           "#FECB52"
          ],
          "font": {
           "color": "#2a3f5f"
          },
          "geo": {
           "bgcolor": "white",
           "lakecolor": "white",
           "landcolor": "#E5ECF6",
           "showlakes": true,
           "showland": true,
           "subunitcolor": "white"
          },
          "hoverlabel": {
           "align": "left"
          },
          "hovermode": "closest",
          "mapbox": {
           "style": "light"
          },
          "paper_bgcolor": "white",
          "plot_bgcolor": "#E5ECF6",
          "polar": {
           "angularaxis": {
            "gridcolor": "white",
            "linecolor": "white",
            "ticks": ""
           },
           "bgcolor": "#E5ECF6",
           "radialaxis": {
            "gridcolor": "white",
            "linecolor": "white",
            "ticks": ""
           }
          },
          "scene": {
           "xaxis": {
            "backgroundcolor": "#E5ECF6",
            "gridcolor": "white",
            "gridwidth": 2,
            "linecolor": "white",
            "showbackground": true,
            "ticks": "",
            "zerolinecolor": "white"
           },
           "yaxis": {
            "backgroundcolor": "#E5ECF6",
            "gridcolor": "white",
            "gridwidth": 2,
            "linecolor": "white",
            "showbackground": true,
            "ticks": "",
            "zerolinecolor": "white"
           },
           "zaxis": {
            "backgroundcolor": "#E5ECF6",
            "gridcolor": "white",
            "gridwidth": 2,
            "linecolor": "white",
            "showbackground": true,
            "ticks": "",
            "zerolinecolor": "white"
           }
          },
          "shapedefaults": {
           "line": {
            "color": "#2a3f5f"
           }
          },
          "ternary": {
           "aaxis": {
            "gridcolor": "white",
            "linecolor": "white",
            "ticks": ""
           },
           "baxis": {
            "gridcolor": "white",
            "linecolor": "white",
            "ticks": ""
           },
           "bgcolor": "#E5ECF6",
           "caxis": {
            "gridcolor": "white",
            "linecolor": "white",
            "ticks": ""
           }
          },
          "title": {
           "x": 0.05
          },
          "xaxis": {
           "automargin": true,
           "gridcolor": "white",
           "linecolor": "white",
           "ticks": "",
           "title": {
            "standoff": 15
           },
           "zerolinecolor": "white",
           "zerolinewidth": 2
          },
          "yaxis": {
           "automargin": true,
           "gridcolor": "white",
           "linecolor": "white",
           "ticks": "",
           "title": {
            "standoff": 15
           },
           "zerolinecolor": "white",
           "zerolinewidth": 2
          }
         }
        },
        "title": {
         "text": "Comparison of (Normalized) Median of Advanced Stats among Modern Keepers in their respective domestic leagues (2017~)"
        }
       }
      },
      "text/html": [
       "<div>                            <div id=\"e289d9a9-fb18-47e1-8135-a26de7487ab6\" class=\"plotly-graph-div\" style=\"height:600px; width:100%;\"></div>            <script type=\"text/javascript\">                require([\"plotly\"], function(Plotly) {                    window.PLOTLYENV=window.PLOTLYENV || {};                                    if (document.getElementById(\"e289d9a9-fb18-47e1-8135-a26de7487ab6\")) {                    Plotly.newPlot(                        \"e289d9a9-fb18-47e1-8135-a26de7487ab6\",                        [{\"fill\":\"toself\",\"hovertext\":\"Group 1\",\"marker\":{\"line\":{\"width\":1.5}},\"name\":\"Group 1\",\"r\":[0.5781671159029649,0.33,0.10833333333333334,0.0664259927797834,0.34237288135593213,0.9080000000000004,0.37916666666666665,0.029411764705882353,0.0],\"theta\":[\"PSx90PrevPer90\",\"40+_completion_%\",\"cross_stop_%\",\"sweeper_action_90\",\"sweep_avg_dist\",\"med_completion_rate\",\"long_completion_rate\",\"final_third\"],\"type\":\"scatterpolar\"},{\"hovertext\":\"Group 2\",\"marker\":{\"line\":{\"width\":0.15}},\"name\":\"Group 2\",\"r\":[0.5916442048517521,0.378,0.5083333333333333,0.08375451263537906,0.38983050847457623,0.8520000000000003,0.4508333333333333,0.125,1.0],\"theta\":[\"PSx90PrevPer90\",\"40+_completion_%\",\"cross_stop_%\",\"sweeper_action_90\",\"sweep_avg_dist\",\"med_completion_rate\",\"long_completion_rate\",\"final_third\"],\"type\":\"scatterpolar\"},{\"hovertext\":\"Group 3\",\"marker\":{\"line\":{\"width\":1.5}},\"name\":\"Group 3\",\"r\":[0.5633423180592991,0.451,0.058333333333333334,0.0888086642599278,0.423728813559322,0.9080000000000004,0.6475,0.014705882352941176,2.0],\"theta\":[\"PSx90PrevPer90\",\"40+_completion_%\",\"cross_stop_%\",\"sweeper_action_90\",\"sweep_avg_dist\",\"med_completion_rate\",\"long_completion_rate\",\"final_third\"],\"type\":\"scatterpolar\"},{\"hovertext\":\"Group 4\",\"marker\":{\"line\":{\"width\":1.5}},\"name\":\"Group 4\",\"r\":[0.5067385444743935,0.36200000000000004,0.03333333333333333,0.07220216606498195,0.3423728813559322,0.27200000000000024,0.4383333333333333,0.007352941176470588,3.0],\"theta\":[\"PSx90PrevPer90\",\"40+_completion_%\",\"cross_stop_%\",\"sweeper_action_90\",\"sweep_avg_dist\",\"med_completion_rate\",\"long_completion_rate\",\"final_third\"],\"type\":\"scatterpolar\"}],                        {\"template\":{\"data\":{\"histogram2dcontour\":[{\"type\":\"histogram2dcontour\",\"colorbar\":{\"outlinewidth\":0,\"ticks\":\"\"},\"colorscale\":[[0.0,\"#0d0887\"],[0.1111111111111111,\"#46039f\"],[0.2222222222222222,\"#7201a8\"],[0.3333333333333333,\"#9c179e\"],[0.4444444444444444,\"#bd3786\"],[0.5555555555555556,\"#d8576b\"],[0.6666666666666666,\"#ed7953\"],[0.7777777777777778,\"#fb9f3a\"],[0.8888888888888888,\"#fdca26\"],[1.0,\"#f0f921\"]]}],\"choropleth\":[{\"type\":\"choropleth\",\"colorbar\":{\"outlinewidth\":0,\"ticks\":\"\"}}],\"histogram2d\":[{\"type\":\"histogram2d\",\"colorbar\":{\"outlinewidth\":0,\"ticks\":\"\"},\"colorscale\":[[0.0,\"#0d0887\"],[0.1111111111111111,\"#46039f\"],[0.2222222222222222,\"#7201a8\"],[0.3333333333333333,\"#9c179e\"],[0.4444444444444444,\"#bd3786\"],[0.5555555555555556,\"#d8576b\"],[0.6666666666666666,\"#ed7953\"],[0.7777777777777778,\"#fb9f3a\"],[0.8888888888888888,\"#fdca26\"],[1.0,\"#f0f921\"]]}],\"heatmap\":[{\"type\":\"heatmap\",\"colorbar\":{\"outlinewidth\":0,\"ticks\":\"\"},\"colorscale\":[[0.0,\"#0d0887\"],[0.1111111111111111,\"#46039f\"],[0.2222222222222222,\"#7201a8\"],[0.3333333333333333,\"#9c179e\"],[0.4444444444444444,\"#bd3786\"],[0.5555555555555556,\"#d8576b\"],[0.6666666666666666,\"#ed7953\"],[0.7777777777777778,\"#fb9f3a\"],[0.8888888888888888,\"#fdca26\"],[1.0,\"#f0f921\"]]}],\"heatmapgl\":[{\"type\":\"heatmapgl\",\"colorbar\":{\"outlinewidth\":0,\"ticks\":\"\"},\"colorscale\":[[0.0,\"#0d0887\"],[0.1111111111111111,\"#46039f\"],[0.2222222222222222,\"#7201a8\"],[0.3333333333333333,\"#9c179e\"],[0.4444444444444444,\"#bd3786\"],[0.5555555555555556,\"#d8576b\"],[0.6666666666666666,\"#ed7953\"],[0.7777777777777778,\"#fb9f3a\"],[0.8888888888888888,\"#fdca26\"],[1.0,\"#f0f921\"]]}],\"contourcarpet\":[{\"type\":\"contourcarpet\",\"colorbar\":{\"outlinewidth\":0,\"ticks\":\"\"}}],\"contour\":[{\"type\":\"contour\",\"colorbar\":{\"outlinewidth\":0,\"ticks\":\"\"},\"colorscale\":[[0.0,\"#0d0887\"],[0.1111111111111111,\"#46039f\"],[0.2222222222222222,\"#7201a8\"],[0.3333333333333333,\"#9c179e\"],[0.4444444444444444,\"#bd3786\"],[0.5555555555555556,\"#d8576b\"],[0.6666666666666666,\"#ed7953\"],[0.7777777777777778,\"#fb9f3a\"],[0.8888888888888888,\"#fdca26\"],[1.0,\"#f0f921\"]]}],\"surface\":[{\"type\":\"surface\",\"colorbar\":{\"outlinewidth\":0,\"ticks\":\"\"},\"colorscale\":[[0.0,\"#0d0887\"],[0.1111111111111111,\"#46039f\"],[0.2222222222222222,\"#7201a8\"],[0.3333333333333333,\"#9c179e\"],[0.4444444444444444,\"#bd3786\"],[0.5555555555555556,\"#d8576b\"],[0.6666666666666666,\"#ed7953\"],[0.7777777777777778,\"#fb9f3a\"],[0.8888888888888888,\"#fdca26\"],[1.0,\"#f0f921\"]]}],\"mesh3d\":[{\"type\":\"mesh3d\",\"colorbar\":{\"outlinewidth\":0,\"ticks\":\"\"}}],\"scatter\":[{\"fillpattern\":{\"fillmode\":\"overlay\",\"size\":10,\"solidity\":0.2},\"type\":\"scatter\"}],\"parcoords\":[{\"type\":\"parcoords\",\"line\":{\"colorbar\":{\"outlinewidth\":0,\"ticks\":\"\"}}}],\"scatterpolargl\":[{\"type\":\"scatterpolargl\",\"marker\":{\"colorbar\":{\"outlinewidth\":0,\"ticks\":\"\"}}}],\"bar\":[{\"error_x\":{\"color\":\"#2a3f5f\"},\"error_y\":{\"color\":\"#2a3f5f\"},\"marker\":{\"line\":{\"color\":\"#E5ECF6\",\"width\":0.5},\"pattern\":{\"fillmode\":\"overlay\",\"size\":10,\"solidity\":0.2}},\"type\":\"bar\"}],\"scattergeo\":[{\"type\":\"scattergeo\",\"marker\":{\"colorbar\":{\"outlinewidth\":0,\"ticks\":\"\"}}}],\"scatterpolar\":[{\"type\":\"scatterpolar\",\"marker\":{\"colorbar\":{\"outlinewidth\":0,\"ticks\":\"\"}}}],\"histogram\":[{\"marker\":{\"pattern\":{\"fillmode\":\"overlay\",\"size\":10,\"solidity\":0.2}},\"type\":\"histogram\"}],\"scattergl\":[{\"type\":\"scattergl\",\"marker\":{\"colorbar\":{\"outlinewidth\":0,\"ticks\":\"\"}}}],\"scatter3d\":[{\"type\":\"scatter3d\",\"line\":{\"colorbar\":{\"outlinewidth\":0,\"ticks\":\"\"}},\"marker\":{\"colorbar\":{\"outlinewidth\":0,\"ticks\":\"\"}}}],\"scattermapbox\":[{\"type\":\"scattermapbox\",\"marker\":{\"colorbar\":{\"outlinewidth\":0,\"ticks\":\"\"}}}],\"scatterternary\":[{\"type\":\"scatterternary\",\"marker\":{\"colorbar\":{\"outlinewidth\":0,\"ticks\":\"\"}}}],\"scattercarpet\":[{\"type\":\"scattercarpet\",\"marker\":{\"colorbar\":{\"outlinewidth\":0,\"ticks\":\"\"}}}],\"carpet\":[{\"aaxis\":{\"endlinecolor\":\"#2a3f5f\",\"gridcolor\":\"white\",\"linecolor\":\"white\",\"minorgridcolor\":\"white\",\"startlinecolor\":\"#2a3f5f\"},\"baxis\":{\"endlinecolor\":\"#2a3f5f\",\"gridcolor\":\"white\",\"linecolor\":\"white\",\"minorgridcolor\":\"white\",\"startlinecolor\":\"#2a3f5f\"},\"type\":\"carpet\"}],\"table\":[{\"cells\":{\"fill\":{\"color\":\"#EBF0F8\"},\"line\":{\"color\":\"white\"}},\"header\":{\"fill\":{\"color\":\"#C8D4E3\"},\"line\":{\"color\":\"white\"}},\"type\":\"table\"}],\"barpolar\":[{\"marker\":{\"line\":{\"color\":\"#E5ECF6\",\"width\":0.5},\"pattern\":{\"fillmode\":\"overlay\",\"size\":10,\"solidity\":0.2}},\"type\":\"barpolar\"}],\"pie\":[{\"automargin\":true,\"type\":\"pie\"}]},\"layout\":{\"autotypenumbers\":\"strict\",\"colorway\":[\"#636efa\",\"#EF553B\",\"#00cc96\",\"#ab63fa\",\"#FFA15A\",\"#19d3f3\",\"#FF6692\",\"#B6E880\",\"#FF97FF\",\"#FECB52\"],\"font\":{\"color\":\"#2a3f5f\"},\"hovermode\":\"closest\",\"hoverlabel\":{\"align\":\"left\"},\"paper_bgcolor\":\"white\",\"plot_bgcolor\":\"#E5ECF6\",\"polar\":{\"bgcolor\":\"#E5ECF6\",\"angularaxis\":{\"gridcolor\":\"white\",\"linecolor\":\"white\",\"ticks\":\"\"},\"radialaxis\":{\"gridcolor\":\"white\",\"linecolor\":\"white\",\"ticks\":\"\"}},\"ternary\":{\"bgcolor\":\"#E5ECF6\",\"aaxis\":{\"gridcolor\":\"white\",\"linecolor\":\"white\",\"ticks\":\"\"},\"baxis\":{\"gridcolor\":\"white\",\"linecolor\":\"white\",\"ticks\":\"\"},\"caxis\":{\"gridcolor\":\"white\",\"linecolor\":\"white\",\"ticks\":\"\"}},\"coloraxis\":{\"colorbar\":{\"outlinewidth\":0,\"ticks\":\"\"}},\"colorscale\":{\"sequential\":[[0.0,\"#0d0887\"],[0.1111111111111111,\"#46039f\"],[0.2222222222222222,\"#7201a8\"],[0.3333333333333333,\"#9c179e\"],[0.4444444444444444,\"#bd3786\"],[0.5555555555555556,\"#d8576b\"],[0.6666666666666666,\"#ed7953\"],[0.7777777777777778,\"#fb9f3a\"],[0.8888888888888888,\"#fdca26\"],[1.0,\"#f0f921\"]],\"sequentialminus\":[[0.0,\"#0d0887\"],[0.1111111111111111,\"#46039f\"],[0.2222222222222222,\"#7201a8\"],[0.3333333333333333,\"#9c179e\"],[0.4444444444444444,\"#bd3786\"],[0.5555555555555556,\"#d8576b\"],[0.6666666666666666,\"#ed7953\"],[0.7777777777777778,\"#fb9f3a\"],[0.8888888888888888,\"#fdca26\"],[1.0,\"#f0f921\"]],\"diverging\":[[0,\"#8e0152\"],[0.1,\"#c51b7d\"],[0.2,\"#de77ae\"],[0.3,\"#f1b6da\"],[0.4,\"#fde0ef\"],[0.5,\"#f7f7f7\"],[0.6,\"#e6f5d0\"],[0.7,\"#b8e186\"],[0.8,\"#7fbc41\"],[0.9,\"#4d9221\"],[1,\"#276419\"]]},\"xaxis\":{\"gridcolor\":\"white\",\"linecolor\":\"white\",\"ticks\":\"\",\"title\":{\"standoff\":15},\"zerolinecolor\":\"white\",\"automargin\":true,\"zerolinewidth\":2},\"yaxis\":{\"gridcolor\":\"white\",\"linecolor\":\"white\",\"ticks\":\"\",\"title\":{\"standoff\":15},\"zerolinecolor\":\"white\",\"automargin\":true,\"zerolinewidth\":2},\"scene\":{\"xaxis\":{\"backgroundcolor\":\"#E5ECF6\",\"gridcolor\":\"white\",\"linecolor\":\"white\",\"showbackground\":true,\"ticks\":\"\",\"zerolinecolor\":\"white\",\"gridwidth\":2},\"yaxis\":{\"backgroundcolor\":\"#E5ECF6\",\"gridcolor\":\"white\",\"linecolor\":\"white\",\"showbackground\":true,\"ticks\":\"\",\"zerolinecolor\":\"white\",\"gridwidth\":2},\"zaxis\":{\"backgroundcolor\":\"#E5ECF6\",\"gridcolor\":\"white\",\"linecolor\":\"white\",\"showbackground\":true,\"ticks\":\"\",\"zerolinecolor\":\"white\",\"gridwidth\":2}},\"shapedefaults\":{\"line\":{\"color\":\"#2a3f5f\"}},\"annotationdefaults\":{\"arrowcolor\":\"#2a3f5f\",\"arrowhead\":0,\"arrowwidth\":1},\"geo\":{\"bgcolor\":\"white\",\"landcolor\":\"#E5ECF6\",\"subunitcolor\":\"white\",\"showland\":true,\"showlakes\":true,\"lakecolor\":\"white\"},\"title\":{\"x\":0.05},\"mapbox\":{\"style\":\"light\"}}},\"polar\":{\"radialaxis\":{\"visible\":false}},\"showlegend\":true,\"title\":{\"text\":\"Comparison of (Normalized) Median of Advanced Stats among Modern Keepers in their respective domestic leagues (2017~)\"},\"height\":600},                        {\"responsive\": true}                    ).then(function(){\n",
       "                            \n",
       "var gd = document.getElementById('e289d9a9-fb18-47e1-8135-a26de7487ab6');\n",
       "var x = new MutationObserver(function (mutations, observer) {{\n",
       "        var display = window.getComputedStyle(gd).display;\n",
       "        if (!display || display === 'none') {{\n",
       "            console.log([gd, 'removed!']);\n",
       "            Plotly.purge(gd);\n",
       "            observer.disconnect();\n",
       "        }}\n",
       "}});\n",
       "\n",
       "// Listen for the removal of the full notebook cells\n",
       "var notebookContainer = gd.closest('#notebook-container');\n",
       "if (notebookContainer) {{\n",
       "    x.observe(notebookContainer, {childList: true});\n",
       "}}\n",
       "\n",
       "// Listen for the clearing of the current output cell\n",
       "var outputEl = gd.closest('.output');\n",
       "if (outputEl) {{\n",
       "    x.observe(outputEl, {childList: true});\n",
       "}}\n",
       "\n",
       "                        })                };                });            </script>        </div>"
      ]
     },
     "metadata": {},
     "output_type": "display_data"
    }
   ],
   "source": [
    "fig4 = go.Figure()\n",
    "\n",
    "categoris = df1.columns\n",
    "\n",
    "fig4.add_trace(go.Scatterpolar(\n",
    "      r=df1.loc['50%'].values,\n",
    "      theta=categories,\n",
    "      fill='toself',\n",
    "      name='Group 1',\n",
    "     marker_line_width=1.5,\n",
    "    hovertext ='Group 1'\n",
    "))\n",
    "fig4.add_trace(go.Scatterpolar(\n",
    "      r=df2.loc['50%'].values,\n",
    "      theta=categories,\n",
    "      # fill='toself',\n",
    "      name='Group 2',\n",
    "     marker_line_width=.15,\n",
    "    hovertext='Group 2'\n",
    "))\n",
    "fig4.add_trace(go.Scatterpolar(\n",
    "      r=df3.loc['50%'].values,\n",
    "      theta=categories,\n",
    "      # fill='toself',\n",
    "      name='Group 3',\n",
    "     marker_line_width=1.5,\n",
    "    hovertext = 'Group 3'\n",
    "))\n",
    "fig4.add_trace(go.Scatterpolar(\n",
    "      r=df4.loc['50%'].values,\n",
    "      theta=categories,\n",
    "      # fill='toself',\n",
    "      name='Group 4',\n",
    "     marker_line_width=1.5,\n",
    "    hovertext = 'Group 4'\n",
    "))\n",
    "\n",
    "\n",
    "fig4.update_layout(\n",
    "  polar=dict(\n",
    "    radialaxis=dict(\n",
    "      visible=False\n",
    "    )),\n",
    "  showlegend=True\n",
    ")\n",
    "\n",
    "fig4.update_layout(title_text='Comparison of (Normalized) Median of Advanced Stats among Modern Keepers in their respective domestic leagues (2017~)',height=600)\n",
    "\n",
    "fig4.show()"
   ]
  },
  {
   "cell_type": "code",
   "execution_count": null,
   "id": "761e773f-6253-4e31-8543-1dce13471a61",
   "metadata": {},
   "outputs": [],
   "source": []
  },
  {
   "cell_type": "code",
   "execution_count": null,
   "id": "fb11a1cc-dd3e-4719-a08a-9f434329ffc0",
   "metadata": {},
   "outputs": [],
   "source": []
  }
 ],
 "metadata": {
  "kernelspec": {
   "display_name": "Python 3 (ipykernel)",
   "language": "python",
   "name": "python3"
  },
  "language_info": {
   "codemirror_mode": {
    "name": "ipython",
    "version": 3
   },
   "file_extension": ".py",
   "mimetype": "text/x-python",
   "name": "python",
   "nbconvert_exporter": "python",
   "pygments_lexer": "ipython3",
   "version": "3.10.11"
  }
 },
 "nbformat": 4,
 "nbformat_minor": 5
}
